{
 "cells": [
  {
   "cell_type": "code",
   "execution_count": 86,
   "id": "9534ea75",
   "metadata": {},
   "outputs": [],
   "source": [
    "import cv2\n",
    "import os\n",
    "import skimage\n",
    "import matplotlib.pyplot as plt\n",
    "import numpy as np\n",
    "import pandas as pd\n",
    "import pickle\n",
    "import math\n",
    "import tqdm\n",
    "from skimage.feature import local_binary_pattern\n",
    "from timeit import default_timer as timer\n",
    "import pytesseract\n",
    "import string\n",
    "#pytesseract.pytesseract.tesseract_cmd = r'C:\\Users\\ialak\\AppData\\Local\\Programs\\Tesseract-OCR\\tesseract.exe'"
   ]
  },
  {
   "cell_type": "code",
   "execution_count": 2,
   "id": "33b722e9",
   "metadata": {},
   "outputs": [],
   "source": [
    "def get_dict_from_data(path, extension=\".jpg\"):\n",
    "    dictionary = dict()\n",
    "    for file in sorted(os.listdir(path)):\n",
    "        if file.endswith(extension):\n",
    "            key = os.path.splitext(file)[0].split('_').pop()\n",
    "            if extension == \".txt\":\n",
    "                f = open(os.path.join(path, file), \"r\",encoding = \"ISO-8859-1\").read()\n",
    "                line = f.strip().strip('()')\n",
    "                parts = line.split(', ')\n",
    "                author = parts[0].strip(\"''\")\n",
    "                dictionary[key] = author\n",
    "            else:\n",
    "                dictionary[key] = cv2.imread(os.path.join(path, file))\n",
    "    return dictionary"
   ]
  },
  {
   "cell_type": "code",
   "execution_count": 3,
   "id": "43fbe7f4",
   "metadata": {},
   "outputs": [],
   "source": [
    "BBDD_PATH = './BBDD/'\n",
    "QSD1_W3_PATH = './qsd1_w3/'\n",
    "QSD2_W3_PATH = './qsd2_w3/'\n",
    "\n",
    "bbdd = get_dict_from_data(BBDD_PATH)\n",
    "qsd1_w3 = get_dict_from_data(QSD1_W3_PATH)\n",
    "qsd2_w3 = get_dict_from_data(QSD2_W3_PATH)"
   ]
  },
  {
   "cell_type": "code",
   "execution_count": 4,
   "id": "e094588b",
   "metadata": {},
   "outputs": [],
   "source": [
    "qsd1_w3_text_labels = get_dict_from_data(QSD1_W3_PATH, extension=\".txt\")"
   ]
  },
  {
   "cell_type": "markdown",
   "id": "48460841",
   "metadata": {},
   "source": [
    "### We create a dictionary with all the author names of the BBDD"
   ]
  },
  {
   "cell_type": "code",
   "execution_count": 5,
   "id": "55c9d01a",
   "metadata": {},
   "outputs": [],
   "source": [
    "def get_authors(path):\n",
    "    authors = [\"unknown\"]\n",
    "\n",
    "    for file in sorted(os.listdir(path)):\n",
    "        if file.endswith(\".txt\"):\n",
    "            f = open(os.path.join(path, file), \"r\", encoding = \"ISO-8859-1\").read()\n",
    "            line = f.strip().strip('()')\n",
    "            parts = line.split(', ')\n",
    "            author = parts[0].strip(\"''\")\n",
    "            if len(author) == 0:\n",
    "                continue\n",
    "            author = author.lower()\n",
    "            \n",
    "            \n",
    "            if author not in authors:\n",
    "                authors.append(author)\n",
    "    \n",
    "    return authors"
   ]
  },
  {
   "cell_type": "code",
   "execution_count": 6,
   "id": "589418cd",
   "metadata": {},
   "outputs": [],
   "source": [
    "authors = get_authors(BBDD_PATH)"
   ]
  },
  {
   "cell_type": "code",
   "execution_count": 7,
   "id": "434b457d",
   "metadata": {},
   "outputs": [
    {
     "data": {
      "text/plain": [
       "['agusti puig',\n",
       " 'albert rafols-casamada',\n",
       " 'alfons borrell',\n",
       " 'alfonso alzamora',\n",
       " 'alfred figueras',\n",
       " 'amelia riera',\n",
       " 'anders svarstad',\n",
       " 'andre lhote',\n",
       " 'anna-eva bergman',\n",
       " 'antoni clave',\n",
       " 'antoni llena',\n",
       " 'antoni tapies',\n",
       " 'arranz-bravo',\n",
       " 'assumpcio mateu',\n",
       " 'benet rossell',\n",
       " 'bruno olle',\n",
       " 'corneille',\n",
       " 'daniel cuervo',\n",
       " 'daniel enkaoua',\n",
       " 'diego rivera',\n",
       " 'edvard munch',\n",
       " 'elias fiigenschou',\n",
       " 'enric ansesa',\n",
       " 'enric barro',\n",
       " 'enrique barro',\n",
       " 'fjosfrieri',\n",
       " 'francesc artigau',\n",
       " 'francesc ruestes',\n",
       " 'francesca llopis',\n",
       " 'frederic amat',\n",
       " 'gerard fernandez-rico',\n",
       " 'gerard sala',\n",
       " 'gino rubert',\n",
       " 'gonzalo goytisolo',\n",
       " 'gregori iglesias',\n",
       " 'hugo demarco',\n",
       " 'jais nielsen',\n",
       " 'jan moritz kaland',\n",
       " 'jens ferdinand willumsen',\n",
       " 'jesus rafael soto',\n",
       " 'joan hernandez pijuan',\n",
       " 'joan josep tharrats',\n",
       " 'joan longas',\n",
       " 'joan pere viladecans',\n",
       " 'joan ponc',\n",
       " 'joaquim chancho',\n",
       " 'jordi alcaraz',\n",
       " 'jordi bernado',\n",
       " 'jordi fulla',\n",
       " 'jordi isern',\n",
       " 'jordi prat',\n",
       " 'jose luis pascual',\n",
       " 'jose m. codina',\n",
       " 'josep baques',\n",
       " 'josep cisquella',\n",
       " 'josep ginovart',\n",
       " 'josep guinovart',\n",
       " 'josep m. cabane',\n",
       " 'josep m. riera i arago',\n",
       " 'josep niebla',\n",
       " 'josep santilari',\n",
       " 'josep segu',\n",
       " 'josep ucles',\n",
       " 'julio vaquero',\n",
       " 'leticia feduchi',\n",
       " 'lita cabellut',\n",
       " 'lluis lleo',\n",
       " 'lluis marsans',\n",
       " 'marco palazzi',\n",
       " 'mario pasqualotto',\n",
       " 'martin carral',\n",
       " 'miquel rasero',\n",
       " 'modest cuixart',\n",
       " 'montserrat clausells',\n",
       " 'narcis comadira',\n",
       " 'nikolai astrup',\n",
       " 'pablo picasso',\n",
       " 'paul klee',\n",
       " 'pedro morero',\n",
       " 'per krohg',\n",
       " 'pere santilari',\n",
       " 'perejaume',\n",
       " 'perico pastor',\n",
       " 'peter halley yago hortal',\n",
       " 'priseld',\n",
       " 'qi hao',\n",
       " 'ramiro fernandez saus',\n",
       " 'ramon enrich',\n",
       " 'ramon herreros',\n",
       " 'regina gimenez',\n",
       " 'regina saura',\n",
       " 'robert llimos',\n",
       " 'roser oduber',\n",
       " 'santi moix',\n",
       " 'sergi barnils',\n",
       " 'sixe paredes',\n",
       " 'sok kan lai',\n",
       " 'unknown',\n",
       " 'vicenc badalona',\n",
       " 'victor perez-porro',\n",
       " 'victor perez-porros',\n",
       " 'xavier grau',\n",
       " 'xavier valls',\n",
       " 'xevi vilaro',\n",
       " 'yago hortal']"
      ]
     },
     "execution_count": 7,
     "metadata": {},
     "output_type": "execute_result"
    }
   ],
   "source": [
    "sorted(authors)"
   ]
  },
  {
   "cell_type": "code",
   "execution_count": 8,
   "id": "e8e6bdb9",
   "metadata": {},
   "outputs": [],
   "source": [
    "author_names = get_dict_from_data(QSD1_W3_PATH, extension=\".txt\")"
   ]
  },
  {
   "cell_type": "markdown",
   "id": "a0e585a2",
   "metadata": {},
   "source": [
    "## TASK 1"
   ]
  },
  {
   "cell_type": "markdown",
   "id": "f9a7d522",
   "metadata": {},
   "source": [
    "### FIlter noise with linear or non-linear filters"
   ]
  },
  {
   "cell_type": "code",
   "execution_count": 9,
   "id": "ba40453a",
   "metadata": {},
   "outputs": [],
   "source": [
    "# Noise estimation using Change Detection\n",
    "\n",
    "def Change_Detection(img):\n",
    "    \n",
    "    h, w, c = img.shape\n",
    "    \n",
    "    pixel_avg_c0 = np.sum(img[:, :, 0]) / (h*w)\n",
    "    pixel_avg_c1 = np.sum(img[:, :, 1]) / (h*w)\n",
    "    pixel_avg_c2 = np.sum(img[:, :, 2]) / (h*w)\n",
    "    \n",
    "    change_c0 = pixel_avg_c0 - img[:, :, 0]\n",
    "    change_c1 = pixel_avg_c1 - img[:, :, 1]\n",
    "    change_c2 = pixel_avg_c2 - img[:, :, 2]\n",
    "    \n",
    "    change = np.zeros(img.shape, dtype = \"uint8\")\n",
    "    change[:, :, 0] = change_c0\n",
    "    change[:, :, 1] = change_c1\n",
    "    change[:, :, 2] = change_c2\n",
    "    \n",
    "    scaled_change_c0 = ((change_c0 - change_c0.min()) * (1/(change_c0.max() - change_c0.min()) * 255)).astype('uint8')\n",
    "    scaled_change_c1 = ((change_c1 - change_c1.min()) * (1/(change_c1.max() - change_c1.min()) * 255)).astype('uint8')\n",
    "    scaled_change_c2 = ((change_c2 - change_c2.min()) * (1/(change_c2.max() - change_c2.min()) * 255)).astype('uint8')\n",
    "    \n",
    "    #scaled_change = np.zeros(img.shape, dtype = \"uint8\")\n",
    "    #scaled_change[:, :, 0] = scaled_change_c0\n",
    "    #scaled_change[:, :, 1] = scaled_change_c1\n",
    "    #scaled_change[:, :, 2] = scaled_change_c2\n",
    "    \n",
    "    original_minus_change = img - change\n",
    "    #original_minus_change = ((original_minus_scaled_change - original_minus_scaled_change.min()) * (1/(original_minus_scaled_change.max() - original_minus_scaled_change.min()) * 255)).astype('uint8')\n",
    "    \n",
    "    \n",
    "    fig, ax = plt.subplots(nrows=1, ncols=6, figsize = (10, 10))\n",
    "    \n",
    "    ax[0].imshow(img)\n",
    "    ax[1].imshow(scaled_change_c0, cmap = \"gray\")\n",
    "    ax[2].imshow(scaled_change_c1, cmap = \"gray\")\n",
    "    ax[3].imshow(scaled_change_c2, cmap = \"gray\")\n",
    "    ax[4].imshow(change)\n",
    "    ax[5].imshow(original_minus_change)\n"
   ]
  },
  {
   "cell_type": "code",
   "execution_count": 10,
   "id": "1ce3c39c",
   "metadata": {},
   "outputs": [],
   "source": [
    "def get_medians(qs):\n",
    "    \n",
    "    result = dict()\n",
    "    \n",
    "    for name, img in qs.items():\n",
    "        median_img = cv2.medianBlur(img, 3)\n",
    "        result[name] = median_img\n",
    "        \n",
    "    return result"
   ]
  },
  {
   "cell_type": "code",
   "execution_count": 11,
   "id": "b1a231f4",
   "metadata": {},
   "outputs": [],
   "source": [
    "def get_gaussians(qs):\n",
    "\n",
    "    result = dict()\n",
    "\n",
    "    for name, img in qs.items():\n",
    "        gauss_img = cv2.GaussianBlur(img, (3,3),0)\n",
    "        result[name] = gauss_img\n",
    "\n",
    "    return result"
   ]
  },
  {
   "cell_type": "code",
   "execution_count": 12,
   "id": "0b2cc7b8",
   "metadata": {},
   "outputs": [],
   "source": [
    "def get_average(qs):\n",
    "\n",
    "    result = dict()\n",
    "\n",
    "    for name, img in qs.items():\n",
    "        kernel = np.ones((7,7),np.float32)/49\n",
    "        dst = cv2.filter2D(img,-1,kernel)\n",
    "        result[name] = dst\n",
    "\n",
    "    return result"
   ]
  },
  {
   "cell_type": "code",
   "execution_count": 13,
   "id": "a8e83d05",
   "metadata": {},
   "outputs": [],
   "source": [
    "def PSNR(original, noisy): \n",
    "    mse = np.mean((original - noisy) ** 2) \n",
    "    if(mse == 0):  # MSE is zero means no noise is present in the signal . \n",
    "                  # Therefore PSNR have no importance. \n",
    "        return 100\n",
    "    max_pixel = 255.0\n",
    "    psnr = 20 * math.log10(max_pixel / math.sqrt(mse)) \n",
    "    return psnr"
   ]
  },
  {
   "cell_type": "code",
   "execution_count": 14,
   "id": "5f6b2735",
   "metadata": {},
   "outputs": [],
   "source": [
    "def get_all_PSNR(qs_orig,qs_noise):\n",
    "    total =[]\n",
    "    for name, img in qs_orig.items():\n",
    "        valor = PSNR(img, qs_noise[name])\n",
    "        total.append(valor)\n",
    "    return np.mean(total)"
   ]
  },
  {
   "cell_type": "code",
   "execution_count": 15,
   "id": "94f5674b",
   "metadata": {},
   "outputs": [
    {
     "name": "stdout",
     "output_type": "stream",
     "text": [
      "Mean PSNR with median filter: 35.25212159675256\n",
      "Mean PSNR with Gaussian filter: 34.298950335284225\n",
      "Mean PSNR with average filter: 31.36960674226446\n"
     ]
    }
   ],
   "source": [
    "qsd1_w3_median = get_medians(qsd1_w3)\n",
    "qsd1_w3_gaussian = get_gaussians(qsd1_w3)\n",
    "qsd1_w3_avg = get_average(qsd1_w3)\n",
    "\n",
    "PSNR_median = get_all_PSNR(qsd1_w3, qsd1_w3_median)\n",
    "PSNR_gaussian = get_all_PSNR(qsd1_w3, qsd1_w3_gaussian)\n",
    "PSNR_avg = get_all_PSNR(qsd1_w3, qsd1_w3_avg)\n",
    "\n",
    "print(f\"Mean PSNR with median filter: {PSNR_median}\")\n",
    "print(f\"Mean PSNR with Gaussian filter: {PSNR_gaussian}\")\n",
    "print(f\"Mean PSNR with average filter: {PSNR_avg}\")"
   ]
  },
  {
   "cell_type": "markdown",
   "id": "49739343",
   "metadata": {},
   "source": [
    "## TASK 2"
   ]
  },
  {
   "cell_type": "markdown",
   "id": "9030effc",
   "metadata": {},
   "source": [
    "### Detect box with overlapping text on denoised images. The apply OCR to get the text"
   ]
  },
  {
   "cell_type": "code",
   "execution_count": 16,
   "id": "36b33707",
   "metadata": {},
   "outputs": [],
   "source": [
    "def get_name_boxs(img):\n",
    "    \n",
    "    h_i, w_i, c = img.shape\n",
    "    \n",
    "    top_limit = int(round(h_i/6))\n",
    "    bottom_limit = int(h_i - top_limit)\n",
    "    \n",
    "    left_area = int(round(w_i/3))\n",
    "    right_area = int(left_area*2)\n",
    "    \n",
    "    area_pixel= int(h_i*w_i)\n",
    "    \n",
    "    # BGR to Lab conversion, and take L channel only\n",
    "    image = cv2.cvtColor(img, cv2.COLOR_BGR2Lab)\n",
    "    imageL = image[:, :, 0]\n",
    "    \n",
    "    # Black hat and top hat separately to the L channel image\n",
    "    kernel = np.ones((2, 10),np.uint8)\n",
    "    thL = cv2.morphologyEx(imageL, cv2.MORPH_TOPHAT, kernel, iterations = 5)\n",
    "    bhL = cv2.morphologyEx(imageL, cv2.MORPH_BLACKHAT, kernel, iterations = 5)\n",
    "    \n",
    "    # Take the highest value pixels, mostly letters\n",
    "    fthL_th = thL.max() - 50\n",
    "    fthL = (thL[:, :] > fthL_th) * 255\n",
    "    fthL = fthL.astype('uint8')    \n",
    "        \n",
    "    fbhL_th = bhL.max() - 50\n",
    "    fbhL = (bhL[:, :] > fbhL_th) * 255\n",
    "    fbhL = fbhL.astype('uint8')\n",
    "    \n",
    "    # OR between top hat and black hat most important pixels\n",
    "    mix = fbhL + fthL\n",
    "    mix = mix>1\n",
    "    mix= mix.astype('uint8')\n",
    "    \n",
    "    # Closing\n",
    "    kernel = np.ones((20, 30),np.uint8)\n",
    "    closing = cv2.morphologyEx(mix, cv2.MORPH_CLOSE, kernel)\n",
    "    \n",
    "    \n",
    "    # Connected Components\n",
    "    analysis = cv2.connectedComponentsWithStats(closing,4, cv2.CV_32S) \n",
    "    (totalLabels, label_ids, values, centroid) = analysis \n",
    "\n",
    "    # Initialize a new image to store  \n",
    "    # all the output components \n",
    "    output = np.zeros(imageL.shape, dtype=\"uint8\") \n",
    "\n",
    "    # Loop through each component \n",
    "    mask = np.zeros([h_i,w_i], dtype=np.uint8)\n",
    "    cont=0\n",
    "    x1_prev= -10000\n",
    "    for i in range(1, totalLabels): \n",
    "        \n",
    "        # Area of the component \n",
    "        area = values[i, cv2.CC_STAT_AREA]  \n",
    "        \n",
    "        (X, Y) = centroid[i]\n",
    "        \n",
    "        if (area >round(area_pixel*0.0009)) and ((Y<top_limit)or(Y>bottom_limit))and ((X>left_area)and(X<right_area)): \n",
    "            x1 = values[i, cv2.CC_STAT_LEFT] \n",
    "            y1 = values[i, cv2.CC_STAT_TOP] \n",
    "            w = values[i, cv2.CC_STAT_WIDTH] \n",
    "            h = values[i, cv2.CC_STAT_HEIGHT]\n",
    "            \n",
    "            pt1 = (x1, y1) \n",
    "            pt2 = (x1+ w, y1+ h)\n",
    "            if (int(x1 - x1_prev) < int(round(w_i/4)) and (int(x1 - x1_prev) > int(round(-w_i/4)))):\n",
    "                roi_corners = np.array([(x1_prev,y1_prev),(x1+w,y1), pt2,(x1_prev,y1+h)], dtype=np.int32)\n",
    "            else:\n",
    "                roi_corners = np.array([pt1,(x1+w,y1), pt2,(x1,y1+h)], dtype=np.int32)\n",
    "                \n",
    "            cv2.fillPoly(mask, [roi_corners], 255)\n",
    "            output = cv2.bitwise_or(output, mask)\n",
    "            cont = cont+1\n",
    "            x1_prev= x1\n",
    "            y1_prev = y1                           \n",
    "                        \n",
    "    if cont == 0:\n",
    "        output = fthL\n",
    "        \n",
    "        \n",
    "    # Closing\n",
    "    kernel2 = np.ones((int(h_i*0.001), int(w_i*0.03)),np.uint8)\n",
    "    closing2 = cv2.morphologyEx(output, cv2.MORPH_CLOSE, kernel2)\n",
    "    \n",
    "    # Dilation\n",
    "    kernel3 = np.ones((int(h_i*0.03), int(w_i*0.003)),np.uint8)\n",
    "    dilate = cv2.dilate(closing2,kernel3)\n",
    "\n",
    "    #print(thL.max())\n",
    "    #print(np.count_nonzero((fthL < 350)&(fthL > 0)))\n",
    "    \n",
    "    # For visualization:\n",
    "    \"\"\"\n",
    "    plt.axis(\"off\")\n",
    "    fig, ax = plt.subplots(nrows=3, ncols=3, figsize = (10, 10))\n",
    "    \n",
    "    ax[0, 0].imshow(dilate, cmap = \"gray\")\n",
    "    ax[0, 1].imshow(closing, cmap = \"gray\")\n",
    "    ax[0, 2].imshow(closing2, cmap = \"gray\")\n",
    "    \n",
    "    ax[1, 0].imshow(thL, cmap = \"gray\")\n",
    "    ax[1, 1].imshow(fthL, cmap = \"gray\")        \n",
    "    ax[1, 2].imshow(mix, cmap = \"gray\")\n",
    "    \n",
    "    ax[2, 0].imshow(bhL, cmap = \"gray\")\n",
    "    ax[2, 1].imshow(fbhL, cmap = \"gray\")\n",
    "    ax[2, 2].imshow(output, cmap = \"gray\")\n",
    "    \"\"\"\n",
    "    \n",
    "    return dilate"
   ]
  },
  {
   "cell_type": "code",
   "execution_count": 17,
   "id": "9bcf1a2a",
   "metadata": {},
   "outputs": [],
   "source": [
    "def get_tl_and_br(mask):\n",
    "    \n",
    "    xl = 100000\n",
    "    xr = -1\n",
    "    yu = 100000\n",
    "    yd = -1\n",
    "    \n",
    "    for y in range(mask.shape[0]):\n",
    "        for x in range(mask.shape[1]):\n",
    "            if mask[y, x] == 255:\n",
    "                if x < xl: xl = x\n",
    "                if x > xr: xr = x\n",
    "                if y < yu: yu = y\n",
    "                if y > yd: yd = y\n",
    "    \n",
    "    return (xl, yu), (xr, yd)"
   ]
  },
  {
   "cell_type": "code",
   "execution_count": 18,
   "id": "1bd88247",
   "metadata": {},
   "outputs": [],
   "source": [
    "def get_pred_cords(masks_dict):\n",
    "\n",
    "    result = []\n",
    "    for name, mask in masks_dict.items():\n",
    "        tl, br = get_tl_and_br(mask)\n",
    "        result.append([tl[0], tl[1], br[0], br[1]])\n",
    "        \n",
    "    return result"
   ]
  },
  {
   "cell_type": "code",
   "execution_count": 19,
   "id": "4dc6f9d3",
   "metadata": {},
   "outputs": [],
   "source": [
    "def get_pred_masks(qs):\n",
    "    \n",
    "    masks_dict = dict()\n",
    "    \n",
    "    for name, img in qs.items():\n",
    "        masks_dict[name] = get_name_boxs(img)\n",
    "    \n",
    "    return masks_dict"
   ]
  },
  {
   "cell_type": "code",
   "execution_count": 20,
   "id": "396a997f",
   "metadata": {},
   "outputs": [],
   "source": [
    "def get_rectangular_predicted_masks(qs):\n",
    "    masks_dict = dict()\n",
    "    \n",
    "    \n",
    "    for name, img in qs.items():\n",
    "        not_rect_mask = get_name_boxs(img)\n",
    "        \n",
    "        tl, br = get_tl_and_br(not_rect_mask)\n",
    "        tr = (br[0], tl[1])\n",
    "        bl = (tl[0], br[1])\n",
    "        \n",
    "        #print(f\"tl: {tl}, tr:{tr}, bl: {bl}, br: {br}\")\n",
    "        \n",
    "        rect_mask = np.zeros((img.shape[0], img.shape[1]), dtype = np.uint8)\n",
    "        roi_corners = np.array([tl, tr, br, bl], dtype = np.int32)\n",
    "        cv2.fillPoly(rect_mask, [roi_corners], 255)\n",
    "        \n",
    "        masks_dict[name] = rect_mask\n",
    "        \n",
    "    return masks_dict"
   ]
  },
  {
   "cell_type": "code",
   "execution_count": 21,
   "id": "8980a471",
   "metadata": {},
   "outputs": [],
   "source": [
    "def apply_mask(querys, masks):\n",
    "    \n",
    "    masked_qs = dict()\n",
    "    \n",
    "    for name, img in querys.items():\n",
    "        img_mask = masks[name]\n",
    "        \n",
    "        masked_image = cv2.bitwise_and(img, img, mask = img_mask.astype(np.uint8))\n",
    "        masked_qs[name] = masked_image\n",
    "\n",
    "    return masked_qs"
   ]
  },
  {
   "cell_type": "code",
   "execution_count": null,
   "id": "4b08baed",
   "metadata": {},
   "outputs": [],
   "source": []
  },
  {
   "cell_type": "code",
   "execution_count": 22,
   "id": "b9359f86",
   "metadata": {},
   "outputs": [],
   "source": [
    "tb_masks_qsd1_w3 = get_rectangular_predicted_masks(qsd1_w3_median)"
   ]
  },
  {
   "cell_type": "code",
   "execution_count": 23,
   "id": "444cc129",
   "metadata": {},
   "outputs": [],
   "source": [
    "qsd1_w3_masked = apply_mask(qsd1_w3_median, tb_masks_qsd1_w3)"
   ]
  },
  {
   "cell_type": "code",
   "execution_count": null,
   "id": "b6de4ef4",
   "metadata": {},
   "outputs": [],
   "source": []
  },
  {
   "cell_type": "markdown",
   "id": "eb4fcdae-03f1-4a89-9d09-95281acb6aab",
   "metadata": {},
   "source": [
    "## Text Distance Metrics\n",
    "\n",
    "https://activewizards.com/content/blog/Comparison-of-the-Text-Distance-Metrics/text-distance-infographics-table05-(1).png\n",
    "\n",
    "There exist a lot of different distance metrics for text:\n",
    "- Edit Based Similarities\n",
    "- Token Based Similarities\n",
    "- Sequence Based\n",
    "- Phonetic\n",
    "- Simple"
   ]
  },
  {
   "cell_type": "code",
   "execution_count": 24,
   "id": "6ced6301-32a0-4d35-a411-caf9ab81c46e",
   "metadata": {},
   "outputs": [],
   "source": [
    "# Edit Based Similarities: Levenshtein Algorithm\n",
    "\n",
    "# !python3 -m pip install nltk\n",
    "\n",
    "import nltk\n",
    "from sklearn.metrics import jaccard_score\n",
    "\n",
    "def levenshtein(actual, predicted):\n",
    "    return nltk.edit_distance(actual, predicted)\n",
    "\n",
    "def jaro_winkler(actual, predicted):\n",
    "    return nltk.distance.jaro_similarity(actual, predicted)"
   ]
  },
  {
   "cell_type": "code",
   "execution_count": 25,
   "id": "544f9d3e-7459-4d63-9569-236de371c86d",
   "metadata": {},
   "outputs": [],
   "source": [
    "import re\n",
    "\n",
    "def text_distance(actual, predicted, method):\n",
    "    \n",
    "    # Remove non-ascii text\n",
    "    removed_actual = re.sub(r'[^a-zA-Z\\s]', '', actual)\n",
    "    removed_actual = removed_actual.strip()\n",
    "    \n",
    "    # Remove non-ascii text\n",
    "    predicted = re.sub(r'[^a-zA-Z\\s]', '', predicted)\n",
    "\n",
    "    # Remove new lines \\n read by OCR\n",
    "    predicted = predicted.strip()\n",
    "\n",
    "    #print(\"Actual: '{}', Predicted: '{}'\".format(actual, predicted))\n",
    "\n",
    "    # Get distance\n",
    "    if method == \"levenshtein\":\n",
    "        return levenshtein(removed_actual, predicted)\n",
    "    elif method == \"jaro_winkler\":\n",
    "        return jaro_winkler(removed_actual, predicted)\n",
    "    elif method == \"jaccard\":\n",
    "        return jaccard_score(removed_actual, predicted)\n",
    "    else:\n",
    "        raise Exception(\"{} method not found\".format(method))"
   ]
  },
  {
   "cell_type": "code",
   "execution_count": 26,
   "id": "2f33832d",
   "metadata": {},
   "outputs": [],
   "source": [
    "def get_closest(authors, predicted, method = \"levenshtein\"):\n",
    "    \n",
    "    distances = []\n",
    "    \n",
    "    pred = re.sub(r'[^a-zA-Z\\s]', '', predicted)\n",
    "    # Remove new lines \\n read by OCR\n",
    "    pred = pred.strip()\n",
    "    pred = pred.lower()\n",
    "    \n",
    "    for author in authors:\n",
    "        if method == \"levenshtein\": distances.append(levenshtein(author, pred))\n",
    "        elif method == \"jaccard\": distances.append(jaccard_score(author, pred))\n",
    "        elif method == \"jaro_winkler\": distances.append(jaro_winkler_similarity(author, pred))\n",
    "        \n",
    "        \n",
    "    index = distances.index(min(distances))\n",
    "    \n",
    "    return authors[index], min(distances)     "
   ]
  },
  {
   "cell_type": "code",
   "execution_count": 27,
   "id": "79b7dacc-cf7e-4550-b15c-0f6c79023888",
   "metadata": {},
   "outputs": [],
   "source": [
    "def get_distances(qs_masked, tb_masks, labels, method = \"levenshtein\"):\n",
    "    \n",
    "    distance_normal = 0\n",
    "    distance_otsu = 0\n",
    "    distance_laplacian = 0\n",
    "    \n",
    "    for name, img_masked in qs_masked.items():\n",
    "        gt = labels[name]\n",
    "        \n",
    "        tl, br = get_tl_and_br(tb_masks[name])\n",
    "        tlx, tly = tl\n",
    "        brx, bry = br\n",
    "        margin = 0\n",
    "        cropped_img = qs_masked[name][tly - margin : bry, tlx - margin : brx]\n",
    "        ret2, th2 = cv2.threshold(cropped_img[:, :, 0], 0,255,cv2.THRESH_BINARY+cv2.THRESH_OTSU)\n",
    "\n",
    "        laplacian = cv2.Laplacian(qs_masked[name], cv2.CV_8U)\n",
    "        laplacian = (laplacian > 20).astype(np.uint8) * 255\n",
    "        \n",
    "        extractedInformation_normal = pytesseract.image_to_string(cropped_img)\n",
    "        extractedInformation_otsu = pytesseract.image_to_string(th2)\n",
    "        extractedInformation_laplacian = pytesseract.image_to_string(laplacian)\n",
    "        \n",
    "        normal_split = extractedInformation_normal.split('\\n')[0]\n",
    "        otsu_split = extractedInformation_otsu.split('\\n')[0]\n",
    "        laplacian_split = extractedInformation_laplacian.split('\\n')[0]\n",
    "        \n",
    "        closest_normal = get_closest(authors, normal_split, method)[0]\n",
    "        closest_otsu = get_closest(authors, otsu_split, method)[0]\n",
    "        closest_laplacian = get_closest(authors, laplacian_split, method)[0]\n",
    "\n",
    "        #print(f\"Normal reading: {extractedInformation_normal}\")\n",
    "        #print(f\"Laplacian reading: {extractedInformation_otsu}\")\n",
    "        \n",
    "        # text distance \n",
    "        dist_normal = text_distance(gt.lower(), closest_normal, method=method)\n",
    "        distance_normal +=  dist_normal\n",
    "        \n",
    "        dist_otsu = text_distance(gt.lower(), closest_otsu, method=method)\n",
    "        distance_otsu += dist_otsu\n",
    "        \n",
    "        dist_laplacian = text_distance(gt.lower(), closest_laplacian, method=method)\n",
    "        distance_laplacian += dist_laplacian\n",
    "        \n",
    "        print(f\"Image: {name}, normal_distance: {dist_normal}, otsu distance: {dist_otsu}, laplacian distance: {dist_laplacian}\")\n",
    "        \n",
    "    distance_normal /= len(qs_masked)\n",
    "    distance_otsu /= len(qs_masked)\n",
    "    distance_laplacian /= len(qs_masked)\n",
    "    \n",
    "    return distance_normal, distance_otsu, distance_laplacian\n",
    "    "
   ]
  },
  {
   "cell_type": "code",
   "execution_count": 28,
   "id": "49db4c93",
   "metadata": {},
   "outputs": [
    {
     "name": "stdout",
     "output_type": "stream",
     "text": [
      "Image: 00000, normal_distance: 0, otsu distance: 0, laplacian distance: 0\n",
      "Image: 00001, normal_distance: 0, otsu distance: 0, laplacian distance: 0\n",
      "Image: 00002, normal_distance: 0, otsu distance: 0, laplacian distance: 7\n",
      "Image: 00003, normal_distance: 0, otsu distance: 0, laplacian distance: 0\n",
      "Image: 00004, normal_distance: 0, otsu distance: 0, laplacian distance: 0\n",
      "Image: 00005, normal_distance: 0, otsu distance: 0, laplacian distance: 0\n",
      "Image: 00006, normal_distance: 0, otsu distance: 0, laplacian distance: 0\n",
      "Image: 00007, normal_distance: 0, otsu distance: 0, laplacian distance: 0\n",
      "Image: 00008, normal_distance: 18, otsu distance: 18, laplacian distance: 18\n",
      "Image: 00009, normal_distance: 0, otsu distance: 0, laplacian distance: 0\n",
      "Image: 00010, normal_distance: 0, otsu distance: 0, laplacian distance: 0\n",
      "Image: 00011, normal_distance: 0, otsu distance: 0, laplacian distance: 9\n",
      "Image: 00012, normal_distance: 0, otsu distance: 0, laplacian distance: 0\n",
      "Image: 00013, normal_distance: 0, otsu distance: 0, laplacian distance: 0\n",
      "Image: 00014, normal_distance: 8, otsu distance: 8, laplacian distance: 0\n",
      "Image: 00015, normal_distance: 0, otsu distance: 0, laplacian distance: 0\n",
      "Image: 00016, normal_distance: 0, otsu distance: 0, laplacian distance: 8\n",
      "Image: 00017, normal_distance: 0, otsu distance: 0, laplacian distance: 13\n",
      "Image: 00018, normal_distance: 0, otsu distance: 0, laplacian distance: 7\n",
      "Image: 00019, normal_distance: 18, otsu distance: 16, laplacian distance: 16\n",
      "Image: 00020, normal_distance: 0, otsu distance: 0, laplacian distance: 13\n",
      "Image: 00021, normal_distance: 0, otsu distance: 0, laplacian distance: 0\n",
      "Image: 00022, normal_distance: 7, otsu distance: 7, laplacian distance: 7\n",
      "Image: 00023, normal_distance: 0, otsu distance: 0, laplacian distance: 8\n",
      "Image: 00024, normal_distance: 0, otsu distance: 0, laplacian distance: 10\n",
      "Image: 00025, normal_distance: 0, otsu distance: 0, laplacian distance: 0\n",
      "Image: 00026, normal_distance: 0, otsu distance: 0, laplacian distance: 14\n",
      "Image: 00027, normal_distance: 0, otsu distance: 0, laplacian distance: 12\n",
      "Image: 00028, normal_distance: 0, otsu distance: 0, laplacian distance: 0\n",
      "Image: 00029, normal_distance: 0, otsu distance: 0, laplacian distance: 0\n"
     ]
    }
   ],
   "source": [
    "mean_normal_distance, mean_otsu_distance, mean_laplacian_distance = get_distances(qsd1_w3_masked, tb_masks_qsd1_w3, qsd1_w3_text_labels)"
   ]
  },
  {
   "cell_type": "code",
   "execution_count": 29,
   "id": "52752b36-2ad1-4f8d-ab93-7fb32bfa0b9a",
   "metadata": {},
   "outputs": [
    {
     "data": {
      "text/plain": [
       "(1.7, 1.6333333333333333, 4.733333333333333)"
      ]
     },
     "execution_count": 29,
     "metadata": {},
     "output_type": "execute_result"
    }
   ],
   "source": [
    "mean_normal_distance, mean_otsu_distance, mean_laplacian_distance"
   ]
  },
  {
   "cell_type": "code",
   "execution_count": null,
   "id": "13231791",
   "metadata": {},
   "outputs": [],
   "source": []
  },
  {
   "cell_type": "markdown",
   "id": "410c9ac9",
   "metadata": {},
   "source": [
    "## TASK 3"
   ]
  },
  {
   "cell_type": "code",
   "execution_count": null,
   "id": "69090df6",
   "metadata": {},
   "outputs": [],
   "source": []
  },
  {
   "cell_type": "markdown",
   "id": "202c7bc6",
   "metadata": {},
   "source": [
    "### Metrics for histogram comparison"
   ]
  },
  {
   "cell_type": "code",
   "execution_count": 31,
   "id": "b1eb130e",
   "metadata": {},
   "outputs": [],
   "source": [
    "def Euclidean(h1, h2):\n",
    "    return np.linalg.norm(h1 - h2)"
   ]
  },
  {
   "cell_type": "code",
   "execution_count": 32,
   "id": "338d7be6",
   "metadata": {},
   "outputs": [],
   "source": [
    "def L1_distance(h1, h2):\n",
    "    result = np.subtract(h1, h2)\n",
    "    result = np.absolute(result)\n",
    "    return np.sum(result)"
   ]
  },
  {
   "cell_type": "code",
   "execution_count": 33,
   "id": "de07d63a",
   "metadata": {},
   "outputs": [],
   "source": [
    "def XSquaredDistance(h1, h2):\n",
    "    result = ((h1 - h2)**2 / (h1 + h2))\n",
    "    result = np.nan_to_num(result, nan = 0.0)\n",
    "    return np.sum(result)"
   ]
  },
  {
   "cell_type": "code",
   "execution_count": 34,
   "id": "e0ada48d",
   "metadata": {},
   "outputs": [],
   "source": [
    "def HistogramIntersection(h1, h2):\n",
    "    return np.sum(np.minimum(h1, h2))"
   ]
  },
  {
   "cell_type": "code",
   "execution_count": 35,
   "id": "25056fa2",
   "metadata": {},
   "outputs": [],
   "source": [
    "def HellingerKernel(h1, h2):\n",
    "    x = np.multiply(h1, h2)\n",
    "    x = np.sqrt(x)\n",
    "    return np.sum(x)"
   ]
  },
  {
   "cell_type": "code",
   "execution_count": null,
   "id": "93324899",
   "metadata": {},
   "outputs": [],
   "source": []
  },
  {
   "cell_type": "code",
   "execution_count": 36,
   "id": "965184d2",
   "metadata": {},
   "outputs": [],
   "source": [
    "def compare(query, database, method):\n",
    "    result = dict()\n",
    "    for k, v in database.items():\n",
    "        if method == \"Euclidean\": result[k] = Euclidean(v, query)\n",
    "        elif method == \"L1\": result[k] = L1_distance(v, query)\n",
    "        elif method == \"X_Squared\": result[k] = XSquaredDistance(v, query)\n",
    "        elif method == \"Histogram_Intersection\": result[k] = HistogramIntersection(v, query)\n",
    "        elif method == \"Hellinger_Kernel\": result[k] = HellingerKernel(v, query)\n",
    "        \n",
    "    return result"
   ]
  },
  {
   "cell_type": "code",
   "execution_count": 37,
   "id": "9922c261",
   "metadata": {},
   "outputs": [],
   "source": [
    "def k_neighbours(dictionary, k=10, rev=False):\n",
    "    result_dict = dict(sorted(dictionary.items(), key=lambda item: item[1], reverse=rev))\n",
    "    return [int(keys) for keys,v in result_dict.items()][:k]"
   ]
  },
  {
   "cell_type": "code",
   "execution_count": null,
   "id": "3d015343",
   "metadata": {},
   "outputs": [],
   "source": []
  },
  {
   "cell_type": "code",
   "execution_count": 38,
   "id": "b95962b7",
   "metadata": {},
   "outputs": [],
   "source": [
    "def apk(actual, predicted, k=10):\n",
    "    if len(predicted)>k:\n",
    "        predicted = predicted[:k]\n",
    "\n",
    "    score = 0.0\n",
    "    num_hits = 0.0\n",
    "\n",
    "    for i,p in enumerate(predicted):\n",
    "        if p in actual and p not in predicted[:i]:\n",
    "            num_hits += 1.0\n",
    "            score += num_hits / (i+1.0)\n",
    "\n",
    "    if not actual:\n",
    "        return 0.0\n",
    "\n",
    "    return score / min(len(actual), k)\n",
    "\n",
    "def mapk(actual, predicted, k=10):\n",
    "    return np.mean([apk(a,p,k) for a,p in zip(actual, predicted)])"
   ]
  },
  {
   "cell_type": "code",
   "execution_count": 39,
   "id": "e95f55b3",
   "metadata": {},
   "outputs": [],
   "source": [
    "def calculateMAPK(histograms, histograms_bbdd, ground_truth = None, topK=10):\n",
    "    apk_list_Euclidean = []\n",
    "    apk_list_X_Squared = []\n",
    "    apk_list_L1 = []\n",
    "    apk_list_Histogram_Intersection = []\n",
    "    apk_list_Hellinger_Kernel = []\n",
    "               \n",
    "    for k, v in histograms.items():\n",
    "        apk_list_Euclidean += [k_neighbours(compare(v, histograms_bbdd, \"Euclidean\"), topK, rev = False)]\n",
    "        apk_list_X_Squared += [k_neighbours(compare(v, histograms_bbdd, \"X_Squared\"), topK, rev = False)]\n",
    "        apk_list_L1 += [k_neighbours(compare(v, histograms_bbdd, \"L1\"), topK, rev = False)]\n",
    "        apk_list_Histogram_Intersection += [k_neighbours(compare(v, histograms_bbdd, \"Histogram_Intersection\"), topK, rev = True)]\n",
    "        apk_list_Hellinger_Kernel += [k_neighbours(compare(v, histograms_bbdd, \"Hellinger_Kernel\"), topK, rev = True)]\n",
    "      \n",
    "    if ground_truth:\n",
    "\n",
    "        mapk_Euclidean = mapk(actual=ground_truth, predicted=apk_list_Euclidean, k=topK)\n",
    "        mapk_X_Squared = mapk(actual=ground_truth, predicted=apk_list_X_Squared, k=topK)\n",
    "        mapk_L1 = mapk(actual=ground_truth, predicted=apk_list_L1, k=topK)\n",
    "        mapk_Histogram_Intersection = mapk(actual=ground_truth, predicted=apk_list_Histogram_Intersection, k=topK)\n",
    "        mapk_Hellinger_Kernel = mapk(actual=ground_truth, predicted=apk_list_Hellinger_Kernel, k=topK)\n",
    "        \n",
    "        mapk_list = [mapk_Euclidean, mapk_X_Squared, mapk_L1, mapk_Histogram_Intersection, mapk_Hellinger_Kernel]\n",
    "        \n",
    "        print(f\"Euclidean: {mapk_Euclidean}\")\n",
    "        print(f\"X_Squared: {mapk_X_Squared}\")\n",
    "        print(f\"L1: {mapk_L1}\")\n",
    "        print(f\"Histogram_Intersection: {mapk_Histogram_Intersection}\")\n",
    "        print(f\"Hellinger_Kernel: {mapk_Hellinger_Kernel}\")\n",
    "        \n",
    "        return max(mapk_list)\n",
    "    else:\n",
    "        \n",
    "        return apk_list"
   ]
  },
  {
   "cell_type": "code",
   "execution_count": 40,
   "id": "4a55c883",
   "metadata": {},
   "outputs": [],
   "source": [
    "def calculateMAPK_w1(histograms, histograms_bbdd, method, ground_truth = None, topK=10, rev = False):\n",
    "    apk_list = []\n",
    "              \n",
    "    for k, v in histograms.items():\n",
    "        apk_list += [k_neighbours(compare(v, histograms_bbdd, method), topK, rev = rev)]\n",
    "      \n",
    "    if ground_truth:\n",
    "        #print(ground_truth)\n",
    "        #print(apk_list)\n",
    "        return mapk(actual=ground_truth, predicted=apk_list, k=topK)\n",
    "    else:\n",
    "        return apk_list"
   ]
  },
  {
   "cell_type": "code",
   "execution_count": 41,
   "id": "e212b932",
   "metadata": {},
   "outputs": [],
   "source": [
    "# TEACHER'S CODE\n",
    "\n",
    "def add_list_level(input_list):\n",
    "    out = []\n",
    "    for ll in input_list:\n",
    "        tmp = []\n",
    "        for q in ll:\n",
    "            tmp.append([q])\n",
    "        out.append(tmp)\n",
    "    return (out)\n",
    "\n",
    "list_depth = lambda L: (isinstance(L, list) or isinstance(L, tuple)) and max(map(list_depth, L))+1\n",
    "\n",
    "def compute_mapk(gt,hypo,k_val):\n",
    "\n",
    "    hypo = list(hypo)\n",
    "    if list_depth(hypo) == 2:\n",
    "        hypo = add_list_level(hypo.copy())\n",
    "\n",
    "    apk_list = []\n",
    "    for ii,query in enumerate(gt):\n",
    "        for jj,sq in enumerate(query):\n",
    "            apk_val = 0.0\n",
    "            if len(hypo[ii]) > jj:\n",
    "                apk_val = apk([sq],hypo[ii][jj], k_val)\n",
    "            apk_list.append(apk_val)\n",
    "            \n",
    "    return np.mean(apk_list)"
   ]
  },
  {
   "cell_type": "code",
   "execution_count": null,
   "id": "8f803c1b",
   "metadata": {},
   "outputs": [],
   "source": []
  },
  {
   "cell_type": "code",
   "execution_count": null,
   "id": "349d464f",
   "metadata": {},
   "outputs": [],
   "source": []
  },
  {
   "cell_type": "code",
   "execution_count": 42,
   "id": "ed6cbf20",
   "metadata": {},
   "outputs": [],
   "source": [
    "def InvertMasks(mask_dict_orig):\n",
    "    masks_dict_invert = dict()\n",
    "    for name, img in mask_dict_orig.items():\n",
    "        masks_dict_invert[name] = (255-mask_dict_orig[name])\n",
    "    \n",
    "    return masks_dict_invert"
   ]
  },
  {
   "cell_type": "code",
   "execution_count": 47,
   "id": "e398c8b0",
   "metadata": {},
   "outputs": [],
   "source": [
    "tb_masks_inverted_qsd1_w3 = InvertMasks(tb_masks_qsd1_w3)"
   ]
  },
  {
   "cell_type": "code",
   "execution_count": null,
   "id": "0e5d3737",
   "metadata": {},
   "outputs": [],
   "source": []
  },
  {
   "cell_type": "markdown",
   "id": "219d4fba",
   "metadata": {},
   "source": [
    "### LBP Descriptors"
   ]
  },
  {
   "cell_type": "code",
   "execution_count": 26,
   "id": "22e1ffdc",
   "metadata": {},
   "outputs": [],
   "source": [
    "#lbp = local_binary_pattern(image, n_points, radius, METHOD)\n",
    "\n",
    "\n",
    "# with the radius we choose how far from the central pixel\n",
    "# we want to do the lbp\n",
    "\n",
    "# for a matrix like this:\n",
    "\n",
    "#   3 3 3 3 3 3 3\n",
    "#   3 2 2 2 2 2 3\n",
    "#   3 2 1 1 1 2 3\n",
    "#   3 2 1 0 1 2 3\n",
    "#   3 2 1 1 1 2 3\n",
    "#   3 2 2 2 2 2 3\n",
    "#   3 3 3 3 3 3 3\n",
    "\n",
    "# 0 is the central point, and when choosing radius = 1\n",
    "# we get to analyze the pixels at radius 1, the pixels that\n",
    "# in this matrix have value 1. When we choose radius = 2\n",
    "# we get to analyze the pixels which have value = 2 at this\n",
    "# matrix, and so on. And that's way we have n_point = 8*radius,\n",
    "# because there are 8*1 pixels with value =1, 8*2 pixels with value\n",
    "# =2, and 8*3 pixels with value = 3\n",
    "\n",
    "# radius = 2\n",
    "# n_points = 8 * radius\n",
    "# lbp = local_binary_pattern(gray_img, n_points, radius)"
   ]
  },
  {
   "cell_type": "code",
   "execution_count": 43,
   "id": "9ccb04c6",
   "metadata": {},
   "outputs": [],
   "source": [
    "def histogram_by_block(img, n_blocks_x, n_blocks_y, bins = 8, dim = \"1\", mask = None, radius = 1):\n",
    "    \n",
    "    M = math.ceil(img.shape[0]/n_blocks_x)\n",
    "    N = math.ceil(img.shape[1]/n_blocks_y)\n",
    "    tiles = [img[x:x+M, y:y+N] for x in range(0, img.shape[0], M) for y in range(0, img.shape[1], N)]\n",
    "    \n",
    "    if mask is not None: \n",
    "        mask_tiles = [mask[x:x+M,y:y+N] for x in range(0, img.shape[0],M) for y in range(0, img.shape[1], N)]\n",
    "       \n",
    "    histogram = np.array([])\n",
    "    \n",
    "    for i in range(len(tiles)):\n",
    "        \n",
    "        #ESTE NO CREO QUE LO VAYAMOS HA USAR\n",
    "        #if dim == \"3\":\n",
    "        #    if mask is not None: tile_hist = cv2.calcHist([tiles[i], tiles[i], tiles[i]], [0, 1, 2], mask_tiles[i], [bins, bins, bins], [0, 256, 0, 256, 0, 256])\n",
    "        #    else: tile_hist = cv2.calcHist([tiles[i]], [0, 1, 2], None, [bins, bins, bins], [0, 256, 0, 256, 0, 256])\n",
    "        #        \n",
    "        #    if np.sum(tile_hist) != 0:\n",
    "        #        tile_hist /= np.sum(tile_hist)\n",
    "            \n",
    "         \n",
    "        #ESTE NO CREO QUE LO VAYAMOS HA USAR\n",
    "        #elif dim == \"2d1d\":           \n",
    "        #    if mask is not None: tile_hist = get_2d1d_hist(tiles[i], bins, mask = mask_tiles[i])\n",
    "        #    else: tile_hist = get_2d1d_hist(tiles[i], bins, mask = None)\n",
    "           \n",
    "        if dim == \"1\" and tiles[i].ndim == 3:\n",
    "            if mask is not None: \n",
    "                tile_hist0 = cv2.calcHist([tiles[i]], [0], mask_tiles[i], [bins], [0, radius*8-1])\n",
    "                tile_hist1 = cv2.calcHist([tiles[i]], [1], mask_tiles[i], [bins], [0, radius*8-1])\n",
    "                tile_hist2 = cv2.calcHist([tiles[i]], [2], mask_tiles[i], [bins], [0, radius*8-1])\n",
    "            else: \n",
    "                tile_hist0 = cv2.calcHist([tiles[i]], [0], None, [bins], [0, radius*8-1])\n",
    "                tile_hist1 = cv2.calcHist([tiles[i]], [1], None, [bins], [0, radius*8-1])\n",
    "                tile_hist2 = cv2.calcHist([tiles[i]], [2], None, [bins], [0, radius*8-1])\n",
    "                \n",
    "            if np.sum(tile_hist0) != 0: tile_hist0 /= np.sum(tile_hist0)\n",
    "            if np.sum(tile_hist1) != 0: tile_hist1 /= np.sum(tile_hist1)\n",
    "            if np.sum(tile_hist2) != 0: tile_hist2 /= np.sum(tile_hist2)\n",
    "            \n",
    "            tile_hist = np.concatenate((tile_hist0, tile_hist1, tile_hist2))\n",
    "            \n",
    "        elif dim == \"1\" and tiles[i].ndim != 3:\n",
    "            \n",
    "            h, w = tiles[i].shape[0], tiles[i].shape[1]\n",
    "            \n",
    "            tile = np.zeros((h, w, 3), dtype = np.uint8)\n",
    "            tile[:, :, 0] = tiles[i]\n",
    "            \n",
    "            if mask is not None: \n",
    "                tile_hist = cv2.calcHist([tile], [0], mask_tiles[i], [bins], [0, radius*8-1])\n",
    "            else: \n",
    "                tile_hist = cv2.calcHist([tile], [0], None, [bins], [0, radius*8-1])\n",
    "            \n",
    "            if np.sum(tile_hist) != 0: tile_hist /= np.sum(tile_hist)\n",
    "        \n",
    "        histogram = np.concatenate((histogram, tile_hist.flatten()))\n",
    "\n",
    "    return histogram"
   ]
  },
  {
   "cell_type": "code",
   "execution_count": 44,
   "id": "525def93",
   "metadata": {},
   "outputs": [],
   "source": [
    "def get_full_hist_lbp(img, levels = 3, bins = 8, dim = \"1\", color = \"RGB\", mask = None, radius = 1, multiscale = False):\n",
    "    \n",
    "    h, w, c = img.shape\n",
    "    \n",
    "    if color == \"Lab\":\n",
    "        image = cv2.cvtColor(img, cv2.COLOR_BGR2Lab)     \n",
    "    elif color == \"Gray\":\n",
    "        image = cv2.cvtColor(img, cv2.COLOR_BGR2GRAY)\n",
    "    else: \n",
    "        image = img.copy()\n",
    "        \n",
    "    if multiscale:\n",
    "\n",
    "        full_hist = np.array([])\n",
    "\n",
    "        for rad in range (1, radius+1):\n",
    "            if color == \"Gray\": \n",
    "                lbp = local_binary_pattern(image, radius*8, rad)\n",
    "            else:\n",
    "                lbp0 = local_binary_pattern(image[:, :, 0], rad*8, rad) # n_points = radius*8\n",
    "                lbp1 = local_binary_pattern(image[:, :, 1], rad*8, rad)\n",
    "                lbp2 = local_binary_pattern(image[:, :, 2], rad*8, rad)\n",
    "\n",
    "                lbp = np.zeros((h, w, c), dtype = np.uint8)\n",
    "                lbp[:, :, 0] = lbp0\n",
    "                lbp[:, :, 1] = lbp1\n",
    "                lbp[:, :, 2] = lbp2\n",
    "\n",
    "            levels_histogram = np.array([])\n",
    "\n",
    "            for i in range(levels):\n",
    "                block_hist = histogram_by_block(lbp, 2**i, 2**i, bins = bins, dim = dim, mask = mask, radius = rad) \n",
    "                levels_histogram = np.concatenate((levels_histogram, block_hist))\n",
    "\n",
    "            full_hist = np.concatenate((full_hist, levels_histogram))\n",
    "\n",
    "        return full_hist\n",
    "\n",
    "    else: \n",
    "        \n",
    "        if color == \"Gray\": \n",
    "            lbp = local_binary_pattern(image, radius*8, radius)\n",
    "        else:\n",
    "            lbp0 = local_binary_pattern(image[:, :, 0], radius*8, radius)\n",
    "            lbp1 = local_binary_pattern(image[:, :, 1], radius*8, radius)\n",
    "            lbp2 = local_binary_pattern(image[:, :, 2], radius*8, radius)\n",
    "\n",
    "            lbp = np.zeros((h, w, c), dtype = np.uint8)\n",
    "            lbp[:, :, 0] = lbp0\n",
    "            lbp[:, :, 1] = lbp1\n",
    "            lbp[:, :, 2] = lbp2\n",
    "\n",
    "        levels_histogram = np.array([])\n",
    "\n",
    "        for i in range(levels):\n",
    "            block_hist = histogram_by_block(lbp, 2**i, 2**i, bins = bins, dim = dim, mask = mask, radius = radius) \n",
    "            levels_histogram = np.concatenate((levels_histogram, block_hist))\n",
    "\n",
    "        return levels_histogram"
   ]
  },
  {
   "cell_type": "code",
   "execution_count": 45,
   "id": "0799e363",
   "metadata": {},
   "outputs": [],
   "source": [
    "def get_all_hists(data, levels = 3, bins = 8, dim = \"1\", color = \"RGB\", masks = None, radius = 1, multiscale = False):\n",
    "    full_dict = dict()\n",
    "    \n",
    "    for k, v in tqdm.tqdm(data.items()):\n",
    "        if masks: \n",
    "            if masks[k].ndim == 3:\n",
    "                full_dict[k] = get_full_hist_lbp(v, levels = levels, bins = bins, dim = dim, color = color, mask = masks[k][:, :, 0], multiscale = multiscale, radius = radius)\n",
    "            else:\n",
    "                full_dict[k] = get_full_hist_lbp(v, levels = levels, bins = bins, dim = dim, color = color, mask = masks[k], multiscale = multiscale, radius = radius)\n",
    "        \n",
    "        else:\n",
    "            full_dict[k] = get_full_hist_lbp(v, levels = levels, bins = bins, dim = dim, color = color, mask = None, multiscale = multiscale, radius = radius)\n",
    "        \n",
    "    return full_dict"
   ]
  },
  {
   "cell_type": "code",
   "execution_count": null,
   "id": "76d2a644",
   "metadata": {},
   "outputs": [],
   "source": []
  },
  {
   "cell_type": "code",
   "execution_count": 48,
   "id": "42e728c0",
   "metadata": {},
   "outputs": [
    {
     "name": "stderr",
     "output_type": "stream",
     "text": [
      "100%|███████████████████████████████████████████| 30/30 [00:02<00:00, 13.17it/s]\n",
      "100%|█████████████████████████████████████████| 287/287 [01:30<00:00,  3.18it/s]\n",
      "/var/folders/wp/ddc_g8m16t9_6p5h_jppb_xr0000gn/T/ipykernel_2157/3142807494.py:2: RuntimeWarning: invalid value encountered in divide\n",
      "  result = ((h1 - h2)**2 / (h1 + h2))\n"
     ]
    },
    {
     "name": "stdout",
     "output_type": "stream",
     "text": [
      "Euclidean: 0.43333333333333335\n",
      "X_Squared: 0.23333333333333334\n",
      "L1: 0.3\n",
      "Histogram_Intersection: 0.3\n",
      "Hellinger_Kernel: 0.2\n",
      "Euclidean: 0.48611111111111105\n",
      "X_Squared: 0.29\n",
      "L1: 0.3511111111111111\n",
      "Histogram_Intersection: 0.3511111111111111\n",
      "Hellinger_Kernel: 0.25555555555555554\n",
      "Euclidean: 0.49087301587301585\n",
      "X_Squared: 0.29\n",
      "L1: 0.3548148148148148\n",
      "Histogram_Intersection: 0.3548148148148148\n",
      "Hellinger_Kernel: 0.26031746031746034\n",
      "Mean average precisions with different k values, using LBP descriptors:\n",
      "k=1 --> mAPK = 0.43333333333333335\n",
      "k=5 --> mAPK = 0.48611111111111105\n",
      "k=10 --> mAPK = 0.49087301587301585\n"
     ]
    }
   ],
   "source": [
    "with open('./qsd1_w3/gt_corresps.pkl', 'rb') as f:\n",
    "    cor1_w3 = pickle.load(f)\n",
    "    \n",
    "hists_qsd1_w3_radius_4_no_multiscale_64 = get_all_hists(qsd1_w3_median, levels = 3, bins = 64, dim = \"1\", color = \"Gray\", masks = tb_masks_inverted_qsd1_w3, radius = 4, multiscale = False)\n",
    "hists_bbdd_radius_4_no_multiscale_64 = get_all_hists(bbdd, levels = 3, bins = 64, dim = \"1\", color = \"Gray\", masks = None, radius = 4, multiscale = False)\n",
    "\n",
    "mAPK_qsd1_w3_lbp_k1 = calculateMAPK(hists_qsd1_w3_radius_4_no_multiscale_64, hists_bbdd_radius_4_no_multiscale_64, ground_truth = cor1_w3, topK=1)\n",
    "mAPK_qsd1_w3_lbp_k5 = calculateMAPK(hists_qsd1_w3_radius_4_no_multiscale_64, hists_bbdd_radius_4_no_multiscale_64, ground_truth = cor1_w3, topK=5)\n",
    "mAPK_qsd1_w3_lbp_k10 = calculateMAPK(hists_qsd1_w3_radius_4_no_multiscale_64, hists_bbdd_radius_4_no_multiscale_64, ground_truth = cor1_w3, topK=10)\n",
    "\n",
    "print(\"Mean average precisions with different k values, using LBP descriptors:\")\n",
    "print(f\"k=1 --> mAPK = {mAPK_qsd1_w3_lbp_k1}\")\n",
    "print(f\"k=5 --> mAPK = {mAPK_qsd1_w3_lbp_k5}\")\n",
    "print(f\"k=10 --> mAPK = {mAPK_qsd1_w3_lbp_k10}\")"
   ]
  },
  {
   "cell_type": "code",
   "execution_count": null,
   "id": "7535bbc2",
   "metadata": {},
   "outputs": [],
   "source": []
  },
  {
   "cell_type": "markdown",
   "id": "7418e837-a406-413a-a6cc-a5d672f330a5",
   "metadata": {},
   "source": [
    "## Discrete Cosine Transform (DCT)\n",
    "\n",
    "1) Resize all images to 400x400\n",
    "2) Apply DCT by Blocks\n",
    "3) Flatten DCT results and concatenate\n",
    "4) Normalize (?)\n",
    "5) Compute Distances and mapK"
   ]
  },
  {
   "cell_type": "code",
   "execution_count": 49,
   "id": "189a62af-ca19-4f25-837c-28f6453a5bf9",
   "metadata": {},
   "outputs": [],
   "source": [
    "def zigzag(matrix):\n",
    "    rows, cols = len(matrix), len(matrix[0])\n",
    "    result = [0] * (rows * cols)\n",
    "    \n",
    "    for i in range(rows):\n",
    "        for j in range(cols):\n",
    "            index = i * cols + j\n",
    "            if (i + j) % 2 == 0:\n",
    "                result[index] = matrix[i][j]\n",
    "            else:\n",
    "                result[index] = matrix[i][cols - 1 - j]\n",
    "    \n",
    "    return result"
   ]
  },
  {
   "cell_type": "code",
   "execution_count": 50,
   "id": "46c287c1-1820-4194-8485-d524b3a60bc2",
   "metadata": {},
   "outputs": [],
   "source": [
    "def dct_by_block(img, n_blocks_x, n_blocks_y, dim = \"1\"):\n",
    "    \n",
    "    M = math.ceil(img.shape[0]/n_blocks_x)\n",
    "    N = math.ceil(img.shape[1]/n_blocks_y)\n",
    "    tiles = [img[x:x+M, y:y+N] for x in range(0, img.shape[0], M) for y in range(0, img.shape[1], N)] \n",
    "    \n",
    "    dcts = np.array([])\n",
    "    \n",
    "    for i in range(len(tiles)):\n",
    "        \n",
    "        if tiles[i].ndim == 2:\n",
    "            # Grayscale\n",
    "            dst = cv2.dct(np.float32(tiles[i]))\n",
    "            tile_dct = np.array(zigzag(dst))\n",
    "        elif tiles[i].ndim == 3 and tiles[i].shape[2] == 3:\n",
    "            # BGR\n",
    "            dst1 = cv2.dct(np.float32(tiles[i][:, :, 0]))\n",
    "            dst2 = cv2.dct(np.float32(tiles[i][:, :, 1]))\n",
    "            dst3 = cv2.dct(np.float32(tiles[i][:, :, 2]))\n",
    "            tile_dct = np.concatenate([zigzag(dst1), zigzag(dst2), zigzag(dst3)]).flatten()\n",
    "        else:\n",
    "            raise Exception(\"Bad value of ndims: {}\".format(tiles[i].ndim))\n",
    "            \n",
    "        dcts = np.concatenate((dcts, tile_dct))\n",
    "\n",
    "    return dcts\n",
    "\n",
    "        \n",
    "\n",
    "def compute_dcts(qs, dim = \"1\", multiscale = False, levels = 3):\n",
    "    dcts = {}\n",
    "    \n",
    "    for name, img in qs.items():\n",
    "        # Resize images to 400x400\n",
    "        img = cv2.resize(img, (400, 400))\n",
    "        if dim == \"1\":\n",
    "            img = cv2.cvtColor(img, cv2.COLOR_BGR2GRAY)\n",
    "\n",
    "        if multiscale:\n",
    "            levels_dct = np.array([])\n",
    "    \n",
    "            for i in range(levels):\n",
    "                block_dct = dct_by_block(img, 2**i, 2**i, dim = dim)\n",
    "                block_dct = (block_dct - np.mean(block_dct)) / np.std(block_dct)\n",
    "                levels_dct = np.concatenate((levels_dct, block_dct))\n",
    "                \n",
    "            dcts[name] = levels_dct\n",
    "        else:\n",
    "            if img.ndim == 2:\n",
    "                # Grayscale\n",
    "                dst = cv2.dct(np.float32(img))\n",
    "                dct = np.array(zigzag(dst))\n",
    "            elif img.ndim == 3 and img.shape[2] == 3:\n",
    "                # BGR\n",
    "                dst1 = cv2.dct(np.float32(img[:, :, 0]))\n",
    "                dst2 = cv2.dct(np.float32(img[:, :, 1]))\n",
    "                dst3 = cv2.dct(np.float32(img[:, :, 2]))\n",
    "                dct = np.concatenate([zigzag(dst1), zigzag(dst2), zigzag(dst3)]).flatten()\n",
    "            else:\n",
    "                raise Exception(\"Bad value of ndims: {}\".format(tiles[i].ndim))\n",
    "\n",
    "            dcts[name] = dct\n",
    "            \n",
    "    return dcts"
   ]
  },
  {
   "cell_type": "markdown",
   "id": "8ca36a66-c6b6-4e99-87fa-3238e048c592",
   "metadata": {},
   "source": [
    "---"
   ]
  },
  {
   "cell_type": "markdown",
   "id": "6d40a1bb",
   "metadata": {},
   "source": [
    "## TASK 4"
   ]
  },
  {
   "cell_type": "markdown",
   "id": "bc21d4fa",
   "metadata": {},
   "source": [
    "### Combining descriptors"
   ]
  },
  {
   "cell_type": "code",
   "execution_count": null,
   "id": "1d349c3f",
   "metadata": {},
   "outputs": [],
   "source": []
  },
  {
   "cell_type": "markdown",
   "id": "8f3b75ea",
   "metadata": {},
   "source": [
    "### Copying the used methods from week 2 to computed color based descriptors"
   ]
  },
  {
   "cell_type": "code",
   "execution_count": 51,
   "id": "d49a9636",
   "metadata": {},
   "outputs": [],
   "source": [
    "def get_2d1d_hist_w2(img, bins, mask = None):\n",
    "    \n",
    "    full_histogram = np.array([])\n",
    "    \n",
    "    if mask is not None: hist_1d = cv2.calcHist([img], [0], mask, [bins], [0, 256])\n",
    "    else: hist_1d = cv2.calcHist([img], [0], None, [bins], [0, 256])\n",
    "    if np.sum(hist_1d != 0): hist_1d /= np.sum(hist_1d)\n",
    "    \n",
    "    if mask is not None: hist_2d = cv2.calcHist([img, img], [1, 2], mask, [bins, bins], [0, 256, 0, 256])\n",
    "    else: hist_2d = cv2.calcHist([img, img], [1, 2], None, [bins, bins], [0, 256, 0, 256])\n",
    "    if np.sum(hist_2d != 0): hist_2d /= np.sum(hist_2d)\n",
    "    \n",
    "    hist = np.concatenate((hist_1d.flatten(), hist_2d.flatten()))\n",
    "\n",
    "    return hist  "
   ]
  },
  {
   "cell_type": "code",
   "execution_count": 52,
   "id": "3eae7357",
   "metadata": {},
   "outputs": [],
   "source": [
    "def histogram_by_block_w2(img, n_blocks_x, n_blocks_y, bins = 8, dim = \"2d1d\", mask = None):\n",
    "    \n",
    "    M = math.ceil(img.shape[0]/n_blocks_x)\n",
    "    N = math.ceil(img.shape[1]/n_blocks_y)\n",
    "    tiles = [img[x:x+M, y:y+N] for x in range(0, img.shape[0], M) for y in range(0, img.shape[1], N)]\n",
    "    \n",
    "    if mask is not None: \n",
    "        mask_tiles = [mask[x:x+M,y:y+N] for x in range(0, img.shape[0],M) for y in range(0, img.shape[1], N)]\n",
    "       \n",
    "    histogram = np.array([])\n",
    "    \n",
    "    for i in range(len(tiles)):\n",
    "        if dim == \"3\":\n",
    "            if mask is not None: tile_hist = cv2.calcHist([tiles[i], tiles[i], tiles[i]], [0, 1, 2], mask_tiles[i], [bins, bins, bins], [0, 256, 0, 256, 0, 256])\n",
    "            else: tile_hist = cv2.calcHist([tiles[i]], [0, 1, 2], None, [bins, bins, bins], [0, 256, 0, 256, 0, 256])\n",
    "        \n",
    "        elif dim == \"2d1d\":           \n",
    "            if mask is not None: tile_hist = get_2d1d_hist_w2(tiles[i], bins, mask = mask_tiles[i])\n",
    "            else: tile_hist = get_2d1d_hist_w2(tiles[i], bins, mask = None)\n",
    "        \n",
    "        if np.sum(tile_hist) != 0:\n",
    "            tile_hist /= np.sum(tile_hist)\n",
    "            \n",
    "        histogram = np.concatenate((histogram, tile_hist.flatten()))\n",
    "\n",
    "    return histogram"
   ]
  },
  {
   "cell_type": "code",
   "execution_count": 53,
   "id": "6c4e4356",
   "metadata": {},
   "outputs": [],
   "source": [
    "def get_full_hist_w2(img, levels = 3, bins = 8, dim = \"2d1d\", color = \"Lab\", mask = None):\n",
    "    \n",
    "    if color == \"Lab\":\n",
    "        image = cv2.cvtColor(img, cv2.COLOR_BGR2Lab)\n",
    "    else: \n",
    "        image = img.copy()\n",
    "    \n",
    "    levels_histogram = np.array([])\n",
    "    \n",
    "    for i in range(levels):\n",
    "        block_hist = histogram_by_block_w2(image, 2**i, 2**i, bins = bins, dim = dim, mask = mask) \n",
    "        levels_histogram = np.concatenate((levels_histogram, block_hist))\n",
    "        \n",
    "    return levels_histogram"
   ]
  },
  {
   "cell_type": "code",
   "execution_count": 54,
   "id": "b618341b",
   "metadata": {},
   "outputs": [],
   "source": [
    "def get_all_hists_w2(data, levels = 3, bins = 8, dim = \"2d1d\", color = \"Lab\", masks = None):\n",
    "    full_dict = dict()\n",
    "    \n",
    "    for k, v in data.items():\n",
    "        if masks: \n",
    "            if masks[k].ndim == 3:\n",
    "                full_dict[k] = get_full_hist_w2(v, levels = levels, bins = bins, dim = dim, color = color, mask = masks[k][:, :, 0])\n",
    "            else:\n",
    "                full_dict[k] = get_full_hist_w2(v, levels = levels, bins = bins, dim = dim, color = color, mask = masks[k])\n",
    "        \n",
    "        else:\n",
    "            full_dict[k] = get_full_hist_w2(v, levels = levels, bins = bins, dim = dim, color = color, mask = None)\n",
    "        \n",
    "    return full_dict"
   ]
  },
  {
   "cell_type": "code",
   "execution_count": 55,
   "id": "6c995c87",
   "metadata": {},
   "outputs": [],
   "source": [
    "def order_tls_and_brs_w2(tls_and_brs, centroids): \n",
    "    if len(tls_and_brs) != 2: return tls_and_brs\n",
    "\n",
    "    if ((centroids[0][0] - centroids[1][0])**2 < (centroids[0][1] - centroids[1][1])**2): horizontal_ordering = False\n",
    "    else: horizontal_ordering = True\n",
    "        \n",
    "    if horizontal_ordering:\n",
    "        if centroids[0][0] < centroids[1][0]: return tls_and_brs\n",
    "        else: return [tls_and_brs[1], tls_and_brs[0]] \n",
    "    else:\n",
    "        if centroids[0][1] < centroids[1][1]: return tls_and_brs\n",
    "        else: return [tls_and_brs[1], tls_and_brs[0]]"
   ]
  },
  {
   "cell_type": "code",
   "execution_count": 56,
   "id": "bdd428c0",
   "metadata": {},
   "outputs": [],
   "source": [
    "def divide_paintings_w2(img):\n",
    "    \n",
    "    h_i, w_i, c = img.shape\n",
    "    \n",
    "    top_limit = int(round(h_i/8))\n",
    "    bottom_limit = int(h_i - top_limit)\n",
    "    \n",
    "    left_area = int(round(w_i/8))\n",
    "    right_area = int(w_i - left_area)\n",
    "    \n",
    "    area_pixel= int(h_i*w_i)\n",
    "    \n",
    "    image = cv2.cvtColor(img, cv2.COLOR_BGR2Lab)\n",
    "    imageL = image[:, :, 0]\n",
    "    imagea = image[:, :, 1]\n",
    "    imageb = image[:, :, 2]\n",
    "    \n",
    "    #kernel = np.ones((2, 10),np.uint8)\n",
    "    #thL = cv2.morphologyEx(imageL, cv2.MORPH_TOPHAT, kernel, iterations = 5)\n",
    "    #bhL = cv2.morphologyEx(imageL, cv2.MORPH_BLACKHAT, kernel, iterations = 5)\n",
    "    \n",
    "    kernel = np.ones((2, 2),np.uint8)\n",
    "    gradL = cv2.morphologyEx(imageL, cv2.MORPH_GRADIENT, kernel, iterations = 20)\n",
    "\n",
    "    ret2, th2 = cv2.threshold(gradL,0,255,cv2.THRESH_BINARY+cv2.THRESH_OTSU)\n",
    "    \n",
    "    kernel = np.ones((round(h_i*0.001), round(w_i*0.001)),np.uint8)\n",
    "    opening1 = cv2.morphologyEx(th2, cv2.MORPH_OPEN, kernel, iterations = 3)\n",
    "    \n",
    "    \n",
    "    # -----------------------------------------------------------------------\n",
    "    analysis = cv2.connectedComponentsWithStats(opening1, 4, cv2.CV_32S) \n",
    "    (totalLabels, label_ids, values, centroid) = analysis \n",
    "\n",
    "    # Initialize a new image to store  \n",
    "    # all the output components \n",
    "    output1 = np.zeros(imageL.shape, dtype=\"uint8\") \n",
    "\n",
    "    # Loop through each component \n",
    "    \n",
    "    mask = np.zeros([h_i,w_i], dtype=np.uint8)\n",
    "    cont=0\n",
    "    x1_prev= -10000\n",
    "    for i in range(1, totalLabels): \n",
    "        \n",
    "          # Area of the component \n",
    "        area = values[i, cv2.CC_STAT_AREA]  \n",
    "        \n",
    "        (X, Y) = centroid[i]\n",
    "         \n",
    "        #if True:\n",
    "        if (area > round(area_pixel*0.00001)):\n",
    "            x1 = values[i, cv2.CC_STAT_LEFT] \n",
    "            y1 = values[i, cv2.CC_STAT_TOP] \n",
    "            w = values[i, cv2.CC_STAT_WIDTH] \n",
    "            h = values[i, cv2.CC_STAT_HEIGHT]\n",
    "            \n",
    "            pt1 = (x1, y1) \n",
    "            pt2 = (x1+ w, y1+ h)\n",
    "            if (int(x1 - x1_prev) < int(round(w_i/4)) and (int(x1 - x1_prev) > int(round(-w_i/4)))):\n",
    "                roi_corners = np.array([(x1_prev,y1_prev),(x1+w,y1), pt2,(x1_prev,y1+h)], dtype=np.int32)\n",
    "            else:\n",
    "                roi_corners = np.array([pt1,(x1+w,y1), pt2,(x1,y1+h)], dtype=np.int32)\n",
    "        \n",
    "               \n",
    "            cv2.fillPoly(mask, [roi_corners], 255)\n",
    "            output1 = cv2.bitwise_or(output1, mask)\n",
    "            cont = cont+1\n",
    "            x1_prev= x1\n",
    "            y1_prev = y1                           \n",
    "            \n",
    "    if cont == 0:\n",
    "        output1 = th2\n",
    "        \n",
    "    #print(cont)\n",
    "    \n",
    "    # ---------------------------------------------------------------\n",
    "    \n",
    "    kernel = np.ones((round(h_i*0.02), round(w_i*0.01)),np.uint8)\n",
    "    opening2 = cv2.morphologyEx(output1, cv2.MORPH_OPEN, kernel, iterations = 15)\n",
    "    \n",
    "    # -----------------------------------------------------------------------\n",
    "    analysis2 = cv2.connectedComponentsWithStats(opening2, 4, cv2.CV_32S) \n",
    "    (totalLabels2, label_ids2, values2, centroid2) = analysis2 \n",
    "\n",
    "    # Initialize a new image to store  \n",
    "    # all the output components \n",
    "    output2 = np.zeros(imageL.shape, dtype=\"uint8\") \n",
    "\n",
    "    # Loop through each component \n",
    "    \n",
    "    mask2 = np.zeros([h_i,w_i], dtype=np.uint8)\n",
    "    cont=0\n",
    "    \n",
    "    tls_and_brs = []\n",
    "    centroids = []\n",
    "    \n",
    "    for i in range(1, totalLabels2): \n",
    "\n",
    "        x1_prev= -10000\n",
    "        \n",
    "          # Area of the component \n",
    "        area = values2[i, cv2.CC_STAT_AREA]  \n",
    "        \n",
    "        (X, Y) = centroid2[i]\n",
    "        \n",
    "        if area > round(area_pixel*0.05):\n",
    "        #if (area > round(area_pixel*0.2)) and ((Y<top_limit)or(Y>bottom_limit))and ((X>left_area)and(X<right_area)): \n",
    "            x1 = values2[i, cv2.CC_STAT_LEFT] \n",
    "            y1 = values2[i, cv2.CC_STAT_TOP] \n",
    "            w = values2[i, cv2.CC_STAT_WIDTH] \n",
    "            h = values2[i, cv2.CC_STAT_HEIGHT]\n",
    "            \n",
    "            pt1 = (x1, y1) \n",
    "            pt2 = (x1+ w, y1+ h)\n",
    "            if (int(x1 - x1_prev) < int(round(w_i/4)) and (int(x1 - x1_prev) > int(round(-w_i/4)))):\n",
    "                roi_corners2 = np.array([(x1_prev,y1_prev),(x1+w,y1), pt2,(x1_prev,y1+h)], dtype=np.int32)\n",
    "            else:\n",
    "                roi_corners2 = np.array([pt1,(x1+w,y1), pt2,(x1,y1+h)], dtype=np.int32)\n",
    "        \n",
    "               \n",
    "            cv2.fillPoly(mask2, [roi_corners2], 255)\n",
    "            output2 = cv2.bitwise_or(output2, mask2)\n",
    "            cont = cont+1\n",
    "            x1_prev= x1\n",
    "            y1_prev = y1    \n",
    "            \n",
    "            tls_and_brs.append([roi_corners2[0][0], roi_corners2[0][1], roi_corners2[2][0], roi_corners2[2][1]])\n",
    "            centroids.append([X, Y])\n",
    "            \n",
    "    if cont == 0:\n",
    "        output2 = output1\n",
    "    \n",
    "    # ---------------------------------------------------------------\n",
    "    '''\n",
    "    # for visualization:\n",
    "    fig, ax = plt.subplots(nrows=2, ncols=3, figsize = (10, 10))\n",
    "    \n",
    "    ax[0, 0].imshow(imageL, cmap = \"gray\")\n",
    "    ax[0, 1].imshow(th2, cmap = \"gray\")\n",
    "    ax[0, 2].imshow(opening1, cmap = \"gray\")\n",
    "    \n",
    "    ax[1, 0].imshow(output1, cmap = \"gray\")\n",
    "    ax[1, 1].imshow(opening2, cmap = \"gray\")\n",
    "    ax[1, 2].imshow(output2, cmap = \"gray\")\n",
    "    '''\n",
    "    \n",
    "    tls_and_brs = order_tls_and_brs_w2(tls_and_brs, centroids)\n",
    "    \n",
    "    return tls_and_brs, output2"
   ]
  },
  {
   "cell_type": "code",
   "execution_count": 57,
   "id": "fe789cda",
   "metadata": {},
   "outputs": [],
   "source": [
    "def task6_w2(qs, bbdd_hists, method = \"L1\", topK = 5, levels = 3, bins = 16, dim = \"3\", bins_1d = None, bins_2d = None, color = \"Lab\"):\n",
    "    \n",
    "    # depending on the method we want the largest or the closest score to select the topK\n",
    "    if method in [\"Euclidean\", \"L1\", \"X_squared\"]: rev = False\n",
    "    elif method in [\"Histogram_Intersection\", \"Hellinger_Kernel\"]: rev = True\n",
    "    \n",
    "    all_results = []\n",
    "    \n",
    "    for name, picture in qs.items():\n",
    "        # we first have to divide the picture into paintings\n",
    "        tls_and_brs = divide_paintings_w2(picture)[0]\n",
    "            \n",
    "        picture_results = []\n",
    "        for painting_tl_and_br in tls_and_brs:\n",
    "            # we are going to crop the picture to get each painting\n",
    "            painting = picture[painting_tl_and_br[1] : painting_tl_and_br[3]+1, painting_tl_and_br[0] : painting_tl_and_br[2]+1]\n",
    "            \n",
    "            # we have to mask the text boxes\n",
    "            not_rect_mask = get_name_boxs(painting)\n",
    "            tl, br = get_tl_and_br(not_rect_mask)\n",
    "            tr = (br[0], tl[1])\n",
    "            bl = (tl[0], br[1])\n",
    "            rect_mask = np.zeros((painting.shape[0], painting.shape[1]), dtype = np.uint8)\n",
    "            roi_corners = np.array([tl, tr, br, bl], dtype = np.int32)\n",
    "            cv2.fillPoly(rect_mask, [roi_corners], 255)\n",
    "            \n",
    "            # we have to invert the text box mask\n",
    "            rect_mask = (255 - rect_mask)\n",
    "            \n",
    "            # we have to compute the histogram masking the text box\n",
    "            hist = get_full_hist_w2(painting, levels = levels, bins = bins, dim = dim, color = color, mask = rect_mask)\n",
    "            \n",
    "            # compare with the bbdd histograms\n",
    "            comparisons = compare(hist, bbdd_hists, method)\n",
    "            \n",
    "            # get the topK\n",
    "            painting_topK = k_neighbours(comparisons, topK, rev = rev)\n",
    "            \n",
    "            # append topK to the picture results\n",
    "            picture_results.append(painting_topK)\n",
    "            \n",
    "        # append picture results to all_results\n",
    "        all_results.append(picture_results)\n",
    "        \n",
    "    return all_results"
   ]
  },
  {
   "cell_type": "code",
   "execution_count": null,
   "id": "1271218d",
   "metadata": {},
   "outputs": [],
   "source": []
  },
  {
   "cell_type": "code",
   "execution_count": 58,
   "id": "22b76898",
   "metadata": {},
   "outputs": [],
   "source": [
    "def get_painting_topK(img, hists_bbdd_RGB, tb_mask, dim=\"3\", levels = 3, rev = True, color=None, bins = 16, method = \"Histogram_Intersection\", topK = 10):\n",
    "    \n",
    "    # we have to compute the histogram masking the text box\n",
    "    hist = get_full_hist_w2(img, levels = levels, bins = bins, dim = dim, color = color, mask = tb_mask)\n",
    "\n",
    "    # compare with the bbdd histograms\n",
    "    comparisons = compare(hist, hists_bbdd_RGB, method)\n",
    "\n",
    "    # get the topK\n",
    "    img_topK = k_neighbours(comparisons, topK, rev = rev)\n",
    "        \n",
    "    return img_topK"
   ]
  },
  {
   "cell_type": "code",
   "execution_count": 59,
   "id": "74c72a58",
   "metadata": {},
   "outputs": [],
   "source": [
    "def get_authors_and_paintings(authors, bbdd):\n",
    "    \n",
    "    full_dict = dict()\n",
    "    \n",
    "    for name, image in bbdd.items():\n",
    "        \n",
    "        author = authors[name].lower()\n",
    "        \n",
    "        if author == \"\": author = \"unknown\"\n",
    "        \n",
    "        if author in full_dict: author_dict = full_dict[author]\n",
    "        else: author_dict = dict()\n",
    "            \n",
    "        author_dict[name] = image\n",
    "        full_dict[author] = author_dict\n",
    "         \n",
    "    return full_dict  "
   ]
  },
  {
   "cell_type": "code",
   "execution_count": 60,
   "id": "e53c2e1c",
   "metadata": {},
   "outputs": [],
   "source": [
    "def get_distance(img, tb_mask, method = \"levenshtein\"):\n",
    "    \n",
    "        \n",
    "    tl, br = get_tl_and_br(tb_mask)\n",
    "    tlx, tly = tl\n",
    "    brx, bry = br\n",
    "    margin = 0\n",
    "    cropped_img = img[tly - margin : bry, tlx - margin : brx]\n",
    "    ret2, th2 = cv2.threshold(cropped_img[:, :, 0], 0,255,cv2.THRESH_BINARY+cv2.THRESH_OTSU)\n",
    "\n",
    "    extractedInformation_otsu = pytesseract.image_to_string(cropped_img).lower()\n",
    "    otsu_split = extractedInformation_otsu.split('\\n')\n",
    "    min_score = 30\n",
    "    closest_otsu = \"unknown\"\n",
    "    for line in otsu_split:\n",
    "        line_name, line_score = get_closest(authors, line, method)\n",
    "        if line_score < min_score:\n",
    "            closest_otsu = line_name\n",
    "            min_score = line_score\n",
    "            \n",
    "    #print(extractedInformation_otsu, \"     \", closest_otsu, \"    \", min_score)\n",
    "        \n",
    "    return closest_otsu, min_score, cropped_img"
   ]
  },
  {
   "cell_type": "code",
   "execution_count": null,
   "id": "246e28e1",
   "metadata": {},
   "outputs": [],
   "source": []
  },
  {
   "cell_type": "code",
   "execution_count": 61,
   "id": "60a6a715",
   "metadata": {},
   "outputs": [],
   "source": [
    "def get_dct(img, dcts_bbdd, dim=\"3\", multiscale = True, levels = 3, rev = False, method = \"Euclidean\", topK = 10):\n",
    "\n",
    "    img = cv2.resize(img, (400, 400))\n",
    "    if dim == \"1\":\n",
    "        img = cv2.cvtColor(img, cv2.COLOR_BGR2GRAY)\n",
    "\n",
    "    if multiscale:\n",
    "        levels_dct = np.array([])\n",
    "\n",
    "        for i in range(levels):\n",
    "            block_dct = dct_by_block(img, 2**i, 2**i, dim = dim)\n",
    "            block_dct = (block_dct - np.mean(block_dct)) / np.std(block_dct)\n",
    "            levels_dct = np.concatenate((levels_dct, block_dct))\n",
    "            \n",
    "        dct = levels_dct\n",
    "    else:\n",
    "        if img.ndim == 2:\n",
    "            # Grayscale\n",
    "            dst = cv2.dct(np.float32(img))\n",
    "            dct = np.array(zigzag(dst))\n",
    "        elif img.ndim == 3 and img.shape[2] == 3:\n",
    "            # BGR\n",
    "            dst1 = cv2.dct(np.float32(img[:, :, 0]))\n",
    "            dst2 = cv2.dct(np.float32(img[:, :, 1]))\n",
    "            dst3 = cv2.dct(np.float32(img[:, :, 2]))\n",
    "            dct = np.concatenate([zigzag(dst1), zigzag(dst2), zigzag(dst3)]).flatten()\n",
    "        else:\n",
    "            print(\"Error\\n\\n\\n\")\n",
    "            raise Exception(\"Bad value of ndims: {}\".format(tiles[i].ndim))\n",
    "\n",
    "    # compare with the bbdd histograms\n",
    "    comparisons = compare(dct, dcts_bbdd, method)\n",
    "\n",
    "    # get the topK\n",
    "    img_topK = k_neighbours(comparisons, topK)\n",
    "        \n",
    "    return img_topK"
   ]
  },
  {
   "cell_type": "code",
   "execution_count": 62,
   "id": "c69f5a98",
   "metadata": {},
   "outputs": [],
   "source": [
    "with open('./qsd2_w3/gt_corresps.pkl', 'rb') as f:\n",
    "    cor2_w3 = pickle.load(f)"
   ]
  },
  {
   "cell_type": "code",
   "execution_count": 63,
   "id": "832bdc1f",
   "metadata": {},
   "outputs": [],
   "source": [
    "def get_lbp_topK(img, hists_lbp, tb_mask, dim=\"1\", levels = 3, rev = True, color=None, bins = 16, method = \"Histogram_Intersection\", topK = 10, radius = 6, multiscale = False):\n",
    "    \n",
    "    # we have to compute the histogram masking the text box\n",
    "    hist = get_full_hist_lbp(img, levels = levels, bins = bins, dim = dim, color = color, mask = tb_mask, radius = radius, multiscale = multiscale)\n",
    "\n",
    "    # compare with the bbdd histograms\n",
    "    comparisons = compare(hist, hists_lbp, method)\n",
    "\n",
    "    # get the topK\n",
    "    img_topK = k_neighbours(comparisons, topK, rev = rev)\n",
    "        \n",
    "    return img_topK"
   ]
  },
  {
   "cell_type": "code",
   "execution_count": null,
   "id": "6149de8c",
   "metadata": {},
   "outputs": [],
   "source": []
  },
  {
   "cell_type": "code",
   "execution_count": 64,
   "id": "3f8bc656",
   "metadata": {},
   "outputs": [],
   "source": [
    "def spended_time(start, end):\n",
    "    total_time = end - start\n",
    "    return total_time"
   ]
  },
  {
   "cell_type": "code",
   "execution_count": null,
   "id": "7b9327c2",
   "metadata": {},
   "outputs": [],
   "source": []
  },
  {
   "cell_type": "code",
   "execution_count": 65,
   "id": "5f1c34a8",
   "metadata": {},
   "outputs": [],
   "source": [
    "def combine_lists2(Color, DCT, LBP, color_W, dct_W, lbp_W):\n",
    "    # Create a list to store the combined values for each ID\n",
    "    combined_list = []\n",
    "\n",
    "    # Create dictionaries to store the positions of IDs in each list\n",
    "    color_positions = {id: i for i, id in enumerate(Color)}\n",
    "    dct_positions = {id: i for i, id in enumerate(DCT)}\n",
    "    lbp_positions = {id: i for i, id in enumerate(LBP)}\n",
    "\n",
    "    # Iterate through the unique IDs\n",
    "    for id in set(Color + DCT + LBP):\n",
    "        color_weight = color_W * (1 / (color_positions[id] + 1)) if id in color_positions else 0\n",
    "        dct_weight = dct_W * (1 / (dct_positions[id] + 1)) if id in dct_positions else 0\n",
    "        lbp_weight = lbp_W * (1 / (lbp_positions[id] + 1)) if id in lbp_positions else 0\n",
    "\n",
    "        combined_value = color_weight + dct_weight + lbp_weight\n",
    "        combined_list.append((id, combined_value))\n",
    "\n",
    "    # Sort the combined list by values in descending order\n",
    "    combined_list.sort(key=lambda item: item[1], reverse=True)\n",
    "\n",
    "    # Extract the IDs from the sorted list\n",
    "    combined_top_10 = [id for id, _ in combined_list[:10]]\n",
    "\n",
    "    return combined_top_10"
   ]
  },
  {
   "cell_type": "code",
   "execution_count": null,
   "id": "3a1e1bb2",
   "metadata": {},
   "outputs": [],
   "source": []
  },
  {
   "cell_type": "code",
   "execution_count": 84,
   "id": "e68e9345",
   "metadata": {},
   "outputs": [],
   "source": [
    "def task4(qs, gt, method = \"levenshtein\"):\n",
    "    \n",
    "    start_time = timer()\n",
    "    qs_medians = get_medians(qs)\n",
    "    end_time = timer()\n",
    "    print(f\"Medians computed. Spended {spended_time(start_time, end_time):.3f} seconds\")\n",
    "\n",
    "    start_time = timer()\n",
    "    bbdd_authors = get_dict_from_data(BBDD_PATH, extension=\".txt\")\n",
    "    bbdd_author_paintings = get_authors_and_paintings(bbdd_authors, bbdd)\n",
    "    end_time = timer()\n",
    "    print(f\"Authors and paintings dict computed. Spended {spended_time(start_time, end_time):.3f} seconds\")\n",
    "\n",
    "    start_time = timer()\n",
    "    hists_bbdd = get_all_hists_w2(bbdd, levels = 3, bins = 32, dim = \"2d1d\", color = \"Lab\", masks = None)\n",
    "    end_time = timer()\n",
    "    print(f\"Color histograms computed. Spended {spended_time(start_time, end_time):.3f} seconds\")\n",
    "\n",
    "    start_time = timer()\n",
    "    dcts_bbdd = compute_dcts(bbdd, dim=\"3\", multiscale = True)\n",
    "    end_time = timer()\n",
    "    print(f\"DCTs computed. Spended {spended_time(start_time, end_time):.3f} seconds\")\n",
    "\n",
    "    start_time = timer()\n",
    "    #lbps_bbdd = get_all_hists(bbdd, levels = 3, bins = 64, dim = \"1\", color = \"Gray\", masks = None, radius = 4, multiscale = False)\n",
    "    lbps_bbdd = hists_bbdd_radius_4_no_multiscale_64\n",
    "    end_time = timer()\n",
    "    print(f\"LBPs computed. Spended {spended_time(start_time, end_time):.3f} seconds\")\n",
    "    \n",
    "    \n",
    "    all_results_color = []\n",
    "    all_results_dct = []\n",
    "    all_results_lbp = []\n",
    "    \n",
    "    all_results = []\n",
    "    \n",
    "    for pic_name, picture in tqdm.tqdm(qs_medians.items()):\n",
    "        print(pic_name, \":\")\n",
    "        # we first have to divide the picture into paintings\n",
    "        tls_and_brs = divide_paintings_w2(picture)[0]\n",
    "            \n",
    "        picture_results_color = []\n",
    "        picture_results_dct = []\n",
    "        picture_results_lbp = []\n",
    "        \n",
    "        picture_results = []\n",
    "        \n",
    "        for painting_tl_and_br in tls_and_brs:\n",
    "            # we are going to crop the picture to get each painting\n",
    "            median_painting = picture[painting_tl_and_br[1] : painting_tl_and_br[3], painting_tl_and_br[0] : painting_tl_and_br[2]]\n",
    "            normal_painting = qs[pic_name][painting_tl_and_br[1] : painting_tl_and_br[3], painting_tl_and_br[0] : painting_tl_and_br[2]]\n",
    "            \n",
    "            print(f\"Median painting shape: {median_painting.shape}, Normal painting shape: {normal_painting.shape}\")\n",
    "            \n",
    "            #------------------------------------\n",
    "            # MEDIAN\n",
    "            # we have to mask the text boxes\n",
    "            median_not_rect_mask = get_name_boxs(median_painting)\n",
    "            tl, br = get_tl_and_br(median_not_rect_mask)\n",
    "            tr = (br[0], tl[1])\n",
    "            bl = (tl[0], br[1])\n",
    "            median_rect_mask = np.zeros((median_painting.shape[0], median_painting.shape[1]), dtype = np.uint8)\n",
    "            median_roi_corners = np.array([tl, tr, br, bl], dtype = np.int32)\n",
    "            cv2.fillPoly(median_rect_mask, [median_roi_corners], 255)\n",
    "            \n",
    "            median_name, median_score, median_cropped_img = get_distance(median_painting, median_rect_mask, method = method)\n",
    "            #------------------------------------\n",
    "            \n",
    "            \n",
    "            #------------------------------------\n",
    "            # NORMAL\n",
    "            # we have to mask the text boxes\n",
    "            normal_not_rect_mask = get_name_boxs(normal_painting)\n",
    "            tl, br = get_tl_and_br(normal_not_rect_mask)\n",
    "            tr = (br[0], tl[1])\n",
    "            bl = (tl[0], br[1])\n",
    "            normal_rect_mask = np.zeros((normal_painting.shape[0], normal_painting.shape[1]), dtype = np.uint8)\n",
    "            normal_roi_corners = np.array([tl, tr, br, bl], dtype = np.int32)\n",
    "            cv2.fillPoly(normal_rect_mask, [normal_roi_corners], 255)\n",
    "            \n",
    "            normal_name, normal_score, normal_cropped_img = get_distance(normal_painting, normal_rect_mask, method = method)\n",
    "            #------------------------------------\n",
    "            \n",
    "            if normal_score < median_score:\n",
    "                score = normal_score\n",
    "                name = normal_name\n",
    "                cropped_img = normal_cropped_img\n",
    "                pic = normal_painting\n",
    "                tb_mask = normal_rect_mask\n",
    "            else: \n",
    "                score = median_score\n",
    "                name = median_name\n",
    "                cropped_img = median_cropped_img\n",
    "                pic = median_painting\n",
    "                tb_mask = median_rect_mask\n",
    "                \n",
    "            inverted_tb_mask = 255 - tb_mask\n",
    "            with open(\"./QST2/method1/\"+pic_name+\".txt\", 'a') as file:\n",
    "                file.write(string.capwords(name, sep = None)+\"\\n\")\n",
    "            \n",
    "            if score <= 4:\n",
    "                searched_dict = bbdd_author_paintings[name]\n",
    "                used_RGB = dict()\n",
    "                used_DCT = dict()\n",
    "                used_LBP = dict()\n",
    "                for key in searched_dict.keys():\n",
    "                    used_RGB[key] = hists_bbdd[key]\n",
    "                    used_DCT[key] = dcts_bbdd[key]\n",
    "                    used_LBP[key] = lbps_bbdd[key]\n",
    "                    \n",
    "            else:\n",
    "                used_RGB = hists_bbdd\n",
    "                used_DCT = dcts_bbdd\n",
    "                used_LBP = lbps_bbdd\n",
    "                    \n",
    "                    \n",
    "            # COLOR\n",
    "            color_topk = get_painting_topK(pic, used_RGB, dim = \"2d1d\", color=\"Lab\", bins = 32, method = \"Histogram_Intersection\", topK = 10, tb_mask = inverted_tb_mask)\n",
    "                 \n",
    "            # DCT  \n",
    "            dct_topk = get_dct(pic, used_DCT, dim=\"3\", multiscale = True, levels = 3, rev = False, method = \"Euclidean\", topK = 10)\n",
    "            \n",
    "            # LBP\n",
    "            lbp_topk = get_lbp_topK(pic, used_LBP, inverted_tb_mask, dim=\"1\", levels = 3, rev = True, color=\"Gray\", bins = 64, method = \"Histogram_Intersection\", topK = 10, radius = 4, multiscale = False)\n",
    "            \n",
    "            print(f\"Color top 10: {color_topk}\\nDCT top 10: {dct_topk}\\nLBP top 10: {lbp_topk}\")\n",
    "\n",
    "            out = combine_lists2(color_topk, dct_topk, lbp_topk, color_W=0.5, dct_W=0.3, lbp_W=0.2)\n",
    "            while len(out) < 10:\n",
    "                out.append(0)\n",
    "            print(f\"Overall top 10: {out}\")\n",
    "                \n",
    "            while len(color_topk) < 10: color_topk.append(0)\n",
    "            while len(dct_topk) < 10: dct_topk.append(0)\n",
    "            while len(lbp_topk) < 10: lbp_topk.append(0)\n",
    "        \n",
    "            picture_results_color.append(color_topk)\n",
    "            picture_results_dct.append(dct_topk)\n",
    "            picture_results_lbp.append(lbp_topk)\n",
    "            \n",
    "            picture_results.append(out)\n",
    "\n",
    "            \n",
    "        print(\"---------\")\n",
    "        print(\"---------\\n\\n\")\n",
    "            \n",
    "        all_results_color.append(picture_results_color)\n",
    "        all_results_dct.append(picture_results_dct)\n",
    "        all_results_lbp.append(picture_results_lbp)\n",
    "        \n",
    "        all_results.append(picture_results)\n",
    "        \n",
    "    return all_results_color, all_results_dct, all_results_lbp, all_results\n",
    "        "
   ]
  },
  {
   "cell_type": "code",
   "execution_count": 67,
   "id": "936ea63a",
   "metadata": {
    "scrolled": true
   },
   "outputs": [
    {
     "name": "stdout",
     "output_type": "stream",
     "text": [
      "Medians computed. Spended 0.166 seconds\n",
      "Authors and paintings dict computed. Spended 0.047 seconds\n",
      "Color histograms computed. Spended 6.595 seconds\n",
      "DCTs computed. Spended 83.437 seconds\n",
      "LBPs computed. Spended 0.001 seconds\n"
     ]
    },
    {
     "name": "stderr",
     "output_type": "stream",
     "text": [
      "\r",
      "  0%|                                                    | 0/30 [00:00<?, ?it/s]"
     ]
    },
    {
     "name": "stdout",
     "output_type": "stream",
     "text": [
      "00000 :\n",
      "Median painting shape: (416, 467, 3), Normal painting shape: (416, 467, 3)\n"
     ]
    },
    {
     "name": "stderr",
     "output_type": "stream",
     "text": [
      "\r",
      "  3%|█▍                                          | 1/30 [00:01<00:36,  1.25s/it]"
     ]
    },
    {
     "name": "stdout",
     "output_type": "stream",
     "text": [
      "Color top 10: [282, 32, 246, 109, 210]\n",
      "DCT top 10: [109, 246, 32, 210, 282]\n",
      "LBP top 10: [109, 32, 246, 282, 210]\n",
      "Overall top 10: [109, 282, 32, 246, 210, 0, 0, 0, 0, 0]\n",
      "---------\n",
      "---------\n",
      "\n",
      "\n",
      "00001 :\n",
      "Median painting shape: (1753, 1528, 3), Normal painting shape: (1753, 1528, 3)\n",
      "Color top 10: [116, 248, 60, 40, 168, 81, 261, 197, 0, 234]\n",
      "DCT top 10: [78, 36, 6, 65, 164, 108, 209, 53, 283, 44]\n",
      "LBP top 10: [163, 145, 3, 162, 161, 58, 57, 119, 170, 201]\n",
      "Overall top 10: [116, 78, 248, 163, 60, 36, 40, 145, 168, 6]\n",
      "Median painting shape: (800, 865, 3), Normal painting shape: (800, 865, 3)\n"
     ]
    },
    {
     "name": "stderr",
     "output_type": "stream",
     "text": [
      "\r",
      "  7%|██▉                                         | 2/30 [00:16<04:26,  9.53s/it]"
     ]
    },
    {
     "name": "stdout",
     "output_type": "stream",
     "text": [
      "Color top 10: [147, 218, 116, 31]\n",
      "DCT top 10: [116, 147, 218, 31]\n",
      "LBP top 10: [218, 31, 116, 147]\n",
      "Overall top 10: [147, 218, 116, 31, 0, 0, 0, 0, 0, 0]\n",
      "---------\n",
      "---------\n",
      "\n",
      "\n",
      "00002 :\n",
      "Median painting shape: (478, 364, 3), Normal painting shape: (478, 364, 3)\n"
     ]
    },
    {
     "name": "stderr",
     "output_type": "stream",
     "text": [
      "\r",
      " 10%|████▍                                       | 3/30 [00:17<02:32,  5.66s/it]"
     ]
    },
    {
     "name": "stdout",
     "output_type": "stream",
     "text": [
      "Color top 10: [202, 184, 22, 92]\n",
      "DCT top 10: [184, 92, 202, 22]\n",
      "LBP top 10: [184, 22, 202, 92]\n",
      "Overall top 10: [184, 202, 22, 92, 0, 0, 0, 0, 0, 0]\n",
      "---------\n",
      "---------\n",
      "\n",
      "\n",
      "00003 :\n",
      "Median painting shape: (1501, 1826, 3), Normal painting shape: (1501, 1826, 3)\n"
     ]
    },
    {
     "name": "stderr",
     "output_type": "stream",
     "text": [
      "\r",
      " 13%|█████▊                                      | 4/30 [00:26<02:58,  6.87s/it]"
     ]
    },
    {
     "name": "stdout",
     "output_type": "stream",
     "text": [
      "Color top 10: [225, 259, 160, 130, 163, 248, 168, 82, 51, 154]\n",
      "DCT top 10: [225, 58, 51, 215, 192, 104, 228, 163, 130, 137]\n",
      "LBP top 10: [160, 248, 239, 51, 154, 113, 82, 215, 259, 39]\n",
      "Overall top 10: [225, 160, 259, 51, 248, 130, 58, 163, 215, 82]\n",
      "---------\n",
      "---------\n",
      "\n",
      "\n",
      "00004 :\n",
      "Median painting shape: (2307, 1461, 3), Normal painting shape: (2307, 1461, 3)\n",
      "Color top 10: [161, 193]\n",
      "DCT top 10: [161, 193]\n",
      "LBP top 10: [161, 193]\n",
      "Overall top 10: [161, 193, 0, 0, 0, 0, 0, 0, 0, 0]\n",
      "Median painting shape: (2217, 1667, 3), Normal painting shape: (2217, 1667, 3)\n"
     ]
    },
    {
     "name": "stderr",
     "output_type": "stream",
     "text": [
      "\r",
      " 17%|███████▎                                    | 5/30 [00:48<05:12, 12.49s/it]"
     ]
    },
    {
     "name": "stdout",
     "output_type": "stream",
     "text": [
      "Color top 10: [193, 161]\n",
      "DCT top 10: [193, 161]\n",
      "LBP top 10: [193, 161]\n",
      "Overall top 10: [193, 161, 0, 0, 0, 0, 0, 0, 0, 0]\n",
      "---------\n",
      "---------\n",
      "\n",
      "\n",
      "00005 :\n",
      "Median painting shape: (598, 777, 3), Normal painting shape: (598, 777, 3)\n"
     ]
    },
    {
     "name": "stderr",
     "output_type": "stream",
     "text": [
      "\r",
      " 20%|████████▊                                   | 6/30 [00:50<03:32,  8.86s/it]"
     ]
    },
    {
     "name": "stdout",
     "output_type": "stream",
     "text": [
      "Color top 10: [55, 198, 53, 124]\n",
      "DCT top 10: [53, 124, 198, 55]\n",
      "LBP top 10: [124, 55, 198, 53]\n",
      "Overall top 10: [55, 53, 124, 198, 0, 0, 0, 0, 0, 0]\n",
      "---------\n",
      "---------\n",
      "\n",
      "\n",
      "00006 :\n",
      "Median painting shape: (1980, 2065, 3), Normal painting shape: (1980, 2065, 3)\n"
     ]
    },
    {
     "name": "stderr",
     "output_type": "stream",
     "text": [
      "\r",
      " 23%|██████████▎                                 | 7/30 [01:04<03:59, 10.40s/it]"
     ]
    },
    {
     "name": "stdout",
     "output_type": "stream",
     "text": [
      "Color top 10: [113, 259, 57, 72, 130, 225, 88, 160, 31, 110]\n",
      "DCT top 10: [176, 75, 184, 63, 229, 202, 39, 113, 73, 178]\n",
      "LBP top 10: [225, 24, 58, 281, 228, 45, 192, 75, 170, 259]\n",
      "Overall top 10: [113, 176, 225, 259, 75, 57, 72, 130, 24, 184]\n",
      "---------\n",
      "---------\n",
      "\n",
      "\n",
      "00007 :\n",
      "Median painting shape: (1709, 1649, 3), Normal painting shape: (1709, 1649, 3)\n",
      "Color top 10: [104, 225, 259, 82, 170, 163, 51, 130, 113, 160]\n",
      "DCT top 10: [58, 228, 51, 104, 215, 192, 225, 137, 163, 39]\n",
      "LBP top 10: [168, 259, 192, 170, 225, 113, 215, 137, 130, 51]\n",
      "Overall top 10: [104, 225, 58, 259, 168, 51, 170, 228, 82, 163]\n",
      "Median painting shape: (1965, 1700, 3), Normal painting shape: (1965, 1700, 3)\n"
     ]
    },
    {
     "name": "stderr",
     "output_type": "stream",
     "text": [
      "\r",
      " 27%|███████████▋                                | 8/30 [01:23<04:54, 13.38s/it]"
     ]
    },
    {
     "name": "stdout",
     "output_type": "stream",
     "text": [
      "Color top 10: [259, 130, 160, 154, 225, 113, 170, 81, 276, 82]\n",
      "DCT top 10: [130, 39, 239, 215, 170, 228, 192, 113, 58, 160]\n",
      "LBP top 10: [82, 51, 248, 39, 154, 81, 137, 168, 113, 276]\n",
      "Overall top 10: [130, 259, 82, 39, 160, 154, 113, 170, 51, 225]\n",
      "---------\n",
      "---------\n",
      "\n",
      "\n",
      "00008 :\n",
      "Median painting shape: (746, 596, 3), Normal painting shape: (746, 596, 3)\n"
     ]
    },
    {
     "name": "stderr",
     "output_type": "stream",
     "text": [
      "\r",
      " 30%|█████████████▏                              | 9/30 [01:25<03:26,  9.82s/it]"
     ]
    },
    {
     "name": "stdout",
     "output_type": "stream",
     "text": [
      "Color top 10: [41, 220, 28, 172]\n",
      "DCT top 10: [41, 220, 28, 172]\n",
      "LBP top 10: [41, 172, 220, 28]\n",
      "Overall top 10: [41, 220, 28, 172, 0, 0, 0, 0, 0, 0]\n",
      "---------\n",
      "---------\n",
      "\n",
      "\n",
      "00009 :\n",
      "Median painting shape: (1586, 1776, 3), Normal painting shape: (1586, 1776, 3)\n",
      "Color top 10: [259, 170, 192, 225, 239, 51, 160, 130, 215, 163]\n",
      "DCT top 10: [192, 58, 160, 215, 51, 225, 104, 130, 239, 39]\n",
      "LBP top 10: [225, 192, 168, 259, 228, 39, 239, 170, 51, 82]\n",
      "Overall top 10: [192, 259, 225, 170, 160, 51, 239, 58, 215, 130]\n",
      "Median painting shape: (1787, 1731, 3), Normal painting shape: (1787, 1731, 3)\n"
     ]
    },
    {
     "name": "stderr",
     "output_type": "stream",
     "text": [
      "\r",
      " 33%|██████████████▎                            | 10/30 [01:44<04:12, 12.63s/it]"
     ]
    },
    {
     "name": "stdout",
     "output_type": "stream",
     "text": [
      "Color top 10: [259, 160, 130, 170, 225, 154, 168, 104, 276, 82]\n",
      "DCT top 10: [192, 58, 215, 51, 160, 39, 228, 130, 239, 259]\n",
      "LBP top 10: [225, 168, 259, 192, 170, 228, 58, 215, 113, 130]\n",
      "Overall top 10: [259, 192, 160, 225, 130, 58, 168, 170, 215, 154]\n",
      "---------\n",
      "---------\n",
      "\n",
      "\n",
      "00010 :\n",
      "Median painting shape: (539, 407, 3), Normal painting shape: (539, 407, 3)\n"
     ]
    },
    {
     "name": "stderr",
     "output_type": "stream",
     "text": [
      "\r",
      " 37%|███████████████▊                           | 11/30 [01:46<02:58,  9.41s/it]"
     ]
    },
    {
     "name": "stdout",
     "output_type": "stream",
     "text": [
      "Color top 10: [121, 9, 123, 71, 37, 26, 133, 139, 213, 110]\n",
      "DCT top 10: [73, 75, 262, 228, 176, 170, 249, 141, 63, 204]\n",
      "LBP top 10: [143, 254, 155, 46, 171, 242, 74, 25, 86, 197]\n",
      "Overall top 10: [121, 73, 9, 143, 123, 75, 71, 37, 254, 262]\n",
      "---------\n",
      "---------\n",
      "\n",
      "\n",
      "00011 :\n",
      "Median painting shape: (1464, 1715, 3), Normal painting shape: (1464, 1715, 3)\n"
     ]
    },
    {
     "name": "stderr",
     "output_type": "stream",
     "text": [
      "\r",
      " 40%|█████████████████▏                         | 12/30 [01:56<02:50,  9.48s/it]"
     ]
    },
    {
     "name": "stdout",
     "output_type": "stream",
     "text": [
      "Color top 10: [75]\n",
      "DCT top 10: [75]\n",
      "LBP top 10: [75]\n",
      "Overall top 10: [75, 0, 0, 0, 0, 0, 0, 0, 0, 0]\n",
      "---------\n",
      "---------\n",
      "\n",
      "\n",
      "00012 :\n",
      "Median painting shape: (229, 462, 3), Normal painting shape: (229, 462, 3)\n"
     ]
    },
    {
     "name": "stderr",
     "output_type": "stream",
     "text": [
      "\r",
      " 43%|██████████████████▋                        | 13/30 [01:57<01:56,  6.85s/it]"
     ]
    },
    {
     "name": "stdout",
     "output_type": "stream",
     "text": [
      "Color top 10: [241]\n",
      "DCT top 10: [241]\n",
      "LBP top 10: [241]\n",
      "Overall top 10: [241, 0, 0, 0, 0, 0, 0, 0, 0, 0]\n",
      "---------\n",
      "---------\n",
      "\n",
      "\n",
      "00013 :\n",
      "Median painting shape: (1954, 1841, 3), Normal painting shape: (1954, 1841, 3)\n"
     ]
    },
    {
     "name": "stderr",
     "output_type": "stream",
     "text": [
      "\r",
      " 47%|████████████████████                       | 14/30 [02:09<02:13,  8.34s/it]"
     ]
    },
    {
     "name": "stdout",
     "output_type": "stream",
     "text": [
      "Color top 10: [160, 259, 225, 168, 244, 70, 130, 271, 103, 58]\n",
      "DCT top 10: [2, 58, 141, 229, 178, 1, 202, 194, 184, 97]\n",
      "LBP top 10: [57, 140, 259, 103, 215, 192, 218, 168, 135, 223]\n",
      "Overall top 10: [160, 259, 2, 57, 58, 225, 168, 103, 140, 244]\n",
      "---------\n",
      "---------\n",
      "\n",
      "\n",
      "00014 :\n",
      "Median painting shape: (424, 499, 3), Normal painting shape: (424, 499, 3)\n"
     ]
    },
    {
     "name": "stderr",
     "output_type": "stream",
     "text": [
      "\r",
      " 50%|█████████████████████▌                     | 15/30 [02:10<01:32,  6.16s/it]"
     ]
    },
    {
     "name": "stdout",
     "output_type": "stream",
     "text": [
      "Color top 10: [203, 149, 211, 251]\n",
      "DCT top 10: [203, 149, 251, 211]\n",
      "LBP top 10: [211, 251, 203, 149]\n",
      "Overall top 10: [203, 149, 211, 251, 0, 0, 0, 0, 0, 0]\n",
      "---------\n",
      "---------\n",
      "\n",
      "\n",
      "00015 :\n",
      "Median painting shape: (608, 432, 3), Normal painting shape: (608, 432, 3)\n"
     ]
    },
    {
     "name": "stderr",
     "output_type": "stream",
     "text": [
      "\r",
      " 53%|██████████████████████▉                    | 16/30 [02:11<01:05,  4.69s/it]"
     ]
    },
    {
     "name": "stdout",
     "output_type": "stream",
     "text": [
      "Color top 10: [128, 176]\n",
      "DCT top 10: [176, 128]\n",
      "LBP top 10: [176, 128]\n",
      "Overall top 10: [128, 176, 0, 0, 0, 0, 0, 0, 0, 0]\n",
      "---------\n",
      "---------\n",
      "\n",
      "\n",
      "00016 :\n",
      "Median painting shape: (2068, 1482, 3), Normal painting shape: (2068, 1482, 3)\n"
     ]
    },
    {
     "name": "stderr",
     "output_type": "stream",
     "text": [
      "\r",
      " 57%|████████████████████████▎                  | 17/30 [02:23<01:29,  6.89s/it]"
     ]
    },
    {
     "name": "stdout",
     "output_type": "stream",
     "text": [
      "Color top 10: [248, 84, 260, 218, 163, 26, 264, 61, 221, 146]\n",
      "DCT top 10: [36, 260, 108, 65, 47, 35, 6, 164, 1, 165]\n",
      "LBP top 10: [93, 169, 260, 276, 146, 244, 286, 81, 151, 63]\n",
      "Overall top 10: [248, 260, 36, 84, 93, 218, 163, 169, 108, 146]\n",
      "---------\n",
      "---------\n",
      "\n",
      "\n",
      "00017 :\n",
      "Median painting shape: (699, 819, 3), Normal painting shape: (699, 819, 3)\n",
      "Color top 10: [107, 74, 281, 167, 241, 242, 57, 247, 30, 146]\n",
      "DCT top 10: [107, 250, 25, 184, 22, 1, 92, 97, 194, 74]\n",
      "LBP top 10: [89, 173, 75, 95, 235, 106, 249, 43, 144, 150]\n",
      "Overall top 10: [107, 74, 89, 281, 250, 167, 173, 241, 25, 242]\n",
      "Median painting shape: (762, 580, 3), Normal painting shape: (762, 580, 3)\n"
     ]
    },
    {
     "name": "stderr",
     "output_type": "stream",
     "text": [
      "\r",
      " 60%|█████████████████████████▊                 | 18/30 [02:28<01:14,  6.18s/it]"
     ]
    },
    {
     "name": "stdout",
     "output_type": "stream",
     "text": [
      "Color top 10: [164, 74, 46, 107]\n",
      "DCT top 10: [164, 74, 46, 107]\n",
      "LBP top 10: [164, 107, 46, 74]\n",
      "Overall top 10: [164, 74, 46, 107, 0, 0, 0, 0, 0, 0]\n",
      "---------\n",
      "---------\n",
      "\n",
      "\n",
      "00018 :\n",
      "Median painting shape: (289, 264, 3), Normal painting shape: (289, 264, 3)\n"
     ]
    },
    {
     "name": "stderr",
     "output_type": "stream",
     "text": [
      "\r",
      " 63%|███████████████████████████▏               | 19/30 [02:29<00:52,  4.74s/it]"
     ]
    },
    {
     "name": "stdout",
     "output_type": "stream",
     "text": [
      "Color top 10: [278, 18, 197, 61, 126, 191, 108, 279, 209, 125]\n",
      "DCT top 10: [186, 97, 65, 108, 36, 189, 278, 49, 18, 208]\n",
      "LBP top 10: [9, 29, 125, 230, 205, 105, 197, 129, 126, 112]\n",
      "Overall top 10: [278, 186, 18, 9, 197, 97, 108, 61, 126, 125]\n",
      "---------\n",
      "---------\n",
      "\n",
      "\n",
      "00019 :\n",
      "Median painting shape: (2051, 1619, 3), Normal painting shape: (2051, 1619, 3)\n",
      "Color top 10: [82, 81, 163, 154, 104, 225, 51, 137, 239, 113]\n",
      "DCT top 10: [81, 137, 51, 82, 163, 104, 215, 276, 225, 168]\n",
      "LBP top 10: [160, 248, 154, 51, 82, 276, 81, 137, 39, 104]\n",
      "Overall top 10: [82, 81, 137, 163, 51, 160, 154, 104, 225, 248]\n",
      "Median painting shape: (1975, 1570, 3), Normal painting shape: (1975, 1570, 3)\n"
     ]
    },
    {
     "name": "stderr",
     "output_type": "stream",
     "text": [
      "\r",
      " 67%|████████████████████████████▋              | 20/30 [02:50<01:35,  9.57s/it]"
     ]
    },
    {
     "name": "stdout",
     "output_type": "stream",
     "text": [
      "Color top 10: [163, 51, 239, 137, 225, 215, 82, 192, 104, 58]\n",
      "DCT top 10: [51, 215, 137, 163, 228, 239, 39, 225, 58, 82]\n",
      "LBP top 10: [163, 104, 137, 81, 170, 215, 113, 130, 259, 154]\n",
      "Overall top 10: [163, 51, 137, 215, 239, 104, 225, 82, 58, 192]\n",
      "---------\n",
      "---------\n",
      "\n",
      "\n",
      "00020 :\n",
      "Median painting shape: (768, 728, 3), Normal painting shape: (768, 728, 3)\n"
     ]
    },
    {
     "name": "stderr",
     "output_type": "stream",
     "text": [
      "\r",
      " 70%|██████████████████████████████             | 21/30 [02:52<01:06,  7.35s/it]"
     ]
    },
    {
     "name": "stdout",
     "output_type": "stream",
     "text": [
      "Color top 10: [25, 242, 8]\n",
      "DCT top 10: [25, 8, 242]\n",
      "LBP top 10: [8, 242, 25]\n",
      "Overall top 10: [25, 8, 242, 0, 0, 0, 0, 0, 0, 0]\n",
      "---------\n",
      "---------\n",
      "\n",
      "\n",
      "00021 :\n",
      "Median painting shape: (729, 895, 3), Normal painting shape: (729, 895, 3)\n",
      "Color top 10: [88, 132, 103, 130, 57, 225, 286, 84, 260, 113]\n",
      "DCT top 10: [108, 13, 184, 74, 263, 1, 164, 106, 202, 201]\n",
      "LBP top 10: [140, 57, 259, 103, 168, 215, 223, 170, 144, 192]\n",
      "Overall top 10: [88, 108, 132, 103, 140, 57, 13, 130, 184, 225]\n",
      "Median painting shape: (562, 761, 3), Normal painting shape: (562, 761, 3)\n"
     ]
    },
    {
     "name": "stderr",
     "output_type": "stream",
     "text": [
      "\r",
      " 73%|███████████████████████████████▌           | 22/30 [02:57<00:54,  6.77s/it]"
     ]
    },
    {
     "name": "stdout",
     "output_type": "stream",
     "text": [
      "Color top 10: [271, 69, 84, 132, 234, 135, 275, 63, 237, 94]\n",
      "DCT top 10: [232, 275, 135, 234, 271, 237, 63, 94, 132, 69]\n",
      "LBP top 10: [135, 63, 132, 237, 271, 3, 84, 69, 275, 94]\n",
      "Overall top 10: [271, 135, 69, 232, 275, 132, 63, 84, 234, 237]\n",
      "---------\n",
      "---------\n",
      "\n",
      "\n",
      "00022 :\n",
      "Median painting shape: (1294, 1002, 3), Normal painting shape: (1294, 1002, 3)\n"
     ]
    },
    {
     "name": "stderr",
     "output_type": "stream",
     "text": [
      "\r",
      " 77%|████████████████████████████████▉          | 23/30 [03:02<00:42,  6.01s/it]"
     ]
    },
    {
     "name": "stdout",
     "output_type": "stream",
     "text": [
      "Color top 10: [286, 260, 119, 23]\n",
      "DCT top 10: [286, 119, 23, 260]\n",
      "LBP top 10: [119, 286, 23, 260]\n",
      "Overall top 10: [286, 119, 260, 23, 0, 0, 0, 0, 0, 0]\n",
      "---------\n",
      "---------\n",
      "\n",
      "\n",
      "00023 :\n",
      "Median painting shape: (639, 739, 3), Normal painting shape: (639, 739, 3)\n"
     ]
    },
    {
     "name": "stderr",
     "output_type": "stream",
     "text": [
      "\r",
      " 80%|██████████████████████████████████▍        | 24/30 [03:04<00:28,  4.78s/it]"
     ]
    },
    {
     "name": "stdout",
     "output_type": "stream",
     "text": [
      "Color top 10: [200, 12]\n",
      "DCT top 10: [200, 12]\n",
      "LBP top 10: [12, 200]\n",
      "Overall top 10: [200, 12, 0, 0, 0, 0, 0, 0, 0, 0]\n",
      "---------\n",
      "---------\n",
      "\n",
      "\n",
      "00024 :\n",
      "Median painting shape: (513, 426, 3), Normal painting shape: (513, 426, 3)\n"
     ]
    },
    {
     "name": "stderr",
     "output_type": "stream",
     "text": [
      "\r",
      " 83%|███████████████████████████████████▊       | 25/30 [03:05<00:18,  3.69s/it]"
     ]
    },
    {
     "name": "stdout",
     "output_type": "stream",
     "text": [
      "Color top 10: [251, 149, 203, 211]\n",
      "DCT top 10: [251, 149, 203, 211]\n",
      "LBP top 10: [251, 211, 203, 149]\n",
      "Overall top 10: [251, 149, 203, 211, 0, 0, 0, 0, 0, 0]\n",
      "---------\n",
      "---------\n",
      "\n",
      "\n",
      "00025 :\n",
      "Median painting shape: (615, 491, 3), Normal painting shape: (615, 491, 3)\n"
     ]
    },
    {
     "name": "stderr",
     "output_type": "stream",
     "text": [
      "\r",
      " 87%|█████████████████████████████████████▎     | 26/30 [03:06<00:11,  2.99s/it]"
     ]
    },
    {
     "name": "stdout",
     "output_type": "stream",
     "text": [
      "Color top 10: [35, 258]\n",
      "DCT top 10: [35, 258]\n",
      "LBP top 10: [35, 258]\n",
      "Overall top 10: [35, 258, 0, 0, 0, 0, 0, 0, 0, 0]\n",
      "---------\n",
      "---------\n",
      "\n",
      "\n",
      "00026 :\n",
      "Median painting shape: (610, 620, 3), Normal painting shape: (610, 620, 3)\n",
      "Color top 10: [75]\n",
      "DCT top 10: [75]\n",
      "LBP top 10: [75]\n",
      "Overall top 10: [75, 0, 0, 0, 0, 0, 0, 0, 0, 0]\n",
      "Median painting shape: (609, 616, 3), Normal painting shape: (609, 616, 3)\n"
     ]
    },
    {
     "name": "stderr",
     "output_type": "stream",
     "text": [
      "\r",
      " 90%|██████████████████████████████████████▋    | 27/30 [03:09<00:09,  3.06s/it]"
     ]
    },
    {
     "name": "stdout",
     "output_type": "stream",
     "text": [
      "Color top 10: [179, 219, 231]\n",
      "DCT top 10: [179, 219, 231]\n",
      "LBP top 10: [219, 179, 231]\n",
      "Overall top 10: [179, 219, 231, 0, 0, 0, 0, 0, 0, 0]\n",
      "---------\n",
      "---------\n",
      "\n",
      "\n",
      "00027 :\n",
      "Median painting shape: (594, 638, 3), Normal painting shape: (594, 638, 3)\n"
     ]
    },
    {
     "name": "stderr",
     "output_type": "stream",
     "text": [
      "\r",
      " 93%|████████████████████████████████████████▏  | 28/30 [03:11<00:05,  2.80s/it]"
     ]
    },
    {
     "name": "stdout",
     "output_type": "stream",
     "text": [
      "Color top 10: [76, 103, 140, 43, 225, 113, 163, 249, 192, 88]\n",
      "DCT top 10: [164, 94, 74, 97, 109, 53, 184, 18, 1, 194]\n",
      "LBP top 10: [201, 161, 162, 112, 130, 145, 119, 170, 137, 163]\n",
      "Overall top 10: [76, 164, 103, 201, 140, 94, 43, 161, 225, 74]\n",
      "---------\n",
      "---------\n",
      "\n",
      "\n",
      "00028 :\n",
      "Median painting shape: (553, 409, 3), Normal painting shape: (553, 409, 3)\n"
     ]
    },
    {
     "name": "stderr",
     "output_type": "stream",
     "text": [
      "\r",
      " 97%|█████████████████████████████████████████▌ | 29/30 [03:13<00:02,  2.31s/it]"
     ]
    },
    {
     "name": "stdout",
     "output_type": "stream",
     "text": [
      "Color top 10: [183, 67, 266]\n",
      "DCT top 10: [183, 67, 266]\n",
      "LBP top 10: [183, 266, 67]\n",
      "Overall top 10: [183, 67, 266, 0, 0, 0, 0, 0, 0, 0]\n",
      "---------\n",
      "---------\n",
      "\n",
      "\n",
      "00029 :\n",
      "Median painting shape: (1825, 1766, 3), Normal painting shape: (1825, 1766, 3)\n"
     ]
    },
    {
     "name": "stderr",
     "output_type": "stream",
     "text": [
      "100%|███████████████████████████████████████████| 30/30 [03:23<00:00,  6.77s/it]"
     ]
    },
    {
     "name": "stdout",
     "output_type": "stream",
     "text": [
      "Color top 10: [137, 51, 163, 225, 248, 104, 168, 58, 81, 154]\n",
      "DCT top 10: [228, 51, 58, 104, 215, 225, 163, 137, 192, 82]\n",
      "LBP top 10: [225, 192, 168, 259, 170, 228, 58, 215, 113, 130]\n",
      "Overall top 10: [137, 51, 225, 228, 163, 58, 104, 168, 192, 248]\n",
      "---------\n",
      "---------\n",
      "\n",
      "\n"
     ]
    },
    {
     "name": "stderr",
     "output_type": "stream",
     "text": [
      "\n"
     ]
    }
   ],
   "source": [
    "results_task4 = task4(qsd2_w3, cor2_w3)"
   ]
  },
  {
   "cell_type": "code",
   "execution_count": 74,
   "id": "7d260e6a",
   "metadata": {},
   "outputs": [
    {
     "data": {
      "text/plain": [
       "0.6923076923076923"
      ]
     },
     "execution_count": 74,
     "metadata": {},
     "output_type": "execute_result"
    }
   ],
   "source": [
    "#Color\n",
    "compute_mapk(cor2_w3,results_task4[0],5)"
   ]
  },
  {
   "cell_type": "code",
   "execution_count": 69,
   "id": "0f7c9a8a",
   "metadata": {},
   "outputs": [
    {
     "data": {
      "text/plain": [
       "0.5884615384615385"
      ]
     },
     "execution_count": 69,
     "metadata": {},
     "output_type": "execute_result"
    }
   ],
   "source": [
    "#DCT\n",
    "compute_mapk(cor2_w3,results_task4[1],5)"
   ]
  },
  {
   "cell_type": "code",
   "execution_count": 70,
   "id": "475c123e",
   "metadata": {},
   "outputs": [
    {
     "data": {
      "text/plain": [
       "0.3803418803418803"
      ]
     },
     "execution_count": 70,
     "metadata": {},
     "output_type": "execute_result"
    }
   ],
   "source": [
    "#LBP\n",
    "compute_mapk(cor2_w3,results_task4[2],5)"
   ]
  },
  {
   "cell_type": "code",
   "execution_count": 75,
   "id": "f4b3e3d7",
   "metadata": {},
   "outputs": [
    {
     "data": {
      "text/plain": [
       "0.6666666666666666"
      ]
     },
     "execution_count": 75,
     "metadata": {},
     "output_type": "execute_result"
    }
   ],
   "source": [
    "#Combine\n",
    "compute_mapk(cor2_w3,results_task4[3],1)"
   ]
  },
  {
   "cell_type": "code",
   "execution_count": null,
   "id": "a726b865",
   "metadata": {},
   "outputs": [],
   "source": []
  },
  {
   "cell_type": "code",
   "execution_count": 85,
   "id": "42dfe661",
   "metadata": {},
   "outputs": [],
   "source": [
    "def task4_test1(qs, method = \"levenshtein\"):\n",
    "    \n",
    "    start_time = timer()\n",
    "    qs_medians = get_medians(qs)\n",
    "    end_time = timer()\n",
    "    print(f\"Medians computed. Spended {spended_time(start_time, end_time):.3f} seconds\")\n",
    "\n",
    "    start_time = timer()\n",
    "    bbdd_authors = get_dict_from_data(BBDD_PATH, extension=\".txt\")\n",
    "    bbdd_author_paintings = get_authors_and_paintings(bbdd_authors, bbdd)\n",
    "    end_time = timer()\n",
    "    print(f\"Authors and paintings dict computed. Spended {spended_time(start_time, end_time):.3f} seconds\")\n",
    "\n",
    "    start_time = timer()\n",
    "    hists_bbdd = get_all_hists_w2(bbdd, levels = 3, bins = 32, dim = \"2d1d\", color = \"Lab\", masks = None)\n",
    "    end_time = timer()\n",
    "    print(f\"Color histograms computed. Spended {spended_time(start_time, end_time):.3f} seconds\")\n",
    "\n",
    "    start_time = timer()\n",
    "    dcts_bbdd = compute_dcts(bbdd, dim=\"3\", multiscale = True)\n",
    "    end_time = timer()\n",
    "    print(f\"DCTs computed. Spended {spended_time(start_time, end_time):.3f} seconds\")\n",
    "\n",
    "    start_time = timer()\n",
    "    lbps_bbdd = get_all_hists(bbdd, levels = 3, bins = 64, dim = \"1\", color = \"Gray\", masks = None, radius = 5, multiscale = False)\n",
    "    end_time = timer()\n",
    "    print(f\"LBPs computed. Spended {spended_time(start_time, end_time):.3f} seconds\")\n",
    "    \n",
    "    \n",
    "    all_results_color = []\n",
    "    all_results_dct = []\n",
    "    all_results_lbp = []\n",
    "    all_results_text=[]\n",
    "    \n",
    "    all_results = []\n",
    "    \n",
    "    for pic_name, picture in tqdm.tqdm(qs_medians.items()):\n",
    "        print(pic_name, \":\")\n",
    "\n",
    "            \n",
    "        picture_results_color = []\n",
    "        picture_results_dct = []\n",
    "        picture_results_lbp = []\n",
    "        \n",
    "        picture_results = []\n",
    "        \n",
    "        \n",
    "        #------------------------------------\n",
    "        # MEDIAN\n",
    "        # we have to mask the text boxes\n",
    "        median_painting=picture\n",
    "        median_not_rect_mask = get_name_boxs(median_painting)\n",
    "        tl, br = get_tl_and_br(median_not_rect_mask)\n",
    "        tr = (br[0], tl[1])\n",
    "        bl = (tl[0], br[1])\n",
    "        median_rect_mask = np.zeros((median_painting.shape[0], median_painting.shape[1]), dtype = np.uint8)\n",
    "        median_roi_corners = np.array([tl, tr, br, bl], dtype = np.int32)\n",
    "        cv2.fillPoly(median_rect_mask, [median_roi_corners], 255)\n",
    "\n",
    "        median_name, median_score, median_cropped_img = get_distance(median_painting, median_rect_mask, method = method)\n",
    "        #------------------------------------\n",
    "\n",
    "\n",
    "        #------------------------------------\n",
    "        # NORMAL\n",
    "        # we have to mask the text boxes\n",
    "        normal_painting = qs[pic_name]\n",
    "        normal_not_rect_mask = get_name_boxs(normal_painting)\n",
    "        tl, br = get_tl_and_br(normal_not_rect_mask)\n",
    "        tr = (br[0], tl[1])\n",
    "        bl = (tl[0], br[1])\n",
    "        normal_rect_mask = np.zeros((normal_painting.shape[0], normal_painting.shape[1]), dtype = np.uint8)\n",
    "        normal_roi_corners = np.array([tl, tr, br, bl], dtype = np.int32)\n",
    "        cv2.fillPoly(normal_rect_mask, [normal_roi_corners], 255)\n",
    "\n",
    "        normal_name, normal_score, normal_cropped_img = get_distance(normal_painting, normal_rect_mask, method = method)\n",
    "        #------------------------------------\n",
    "\n",
    "        if normal_score < median_score:\n",
    "            score = normal_score\n",
    "            name = normal_name\n",
    "            cropped_img = normal_cropped_img\n",
    "            pic = normal_painting\n",
    "            tb_mask = normal_rect_mask\n",
    "        else: \n",
    "            score = median_score\n",
    "            name = median_name\n",
    "            cropped_img = median_cropped_img\n",
    "            pic = median_painting\n",
    "            tb_mask = median_rect_mask\n",
    "\n",
    "        inverted_tb_mask = 255 - tb_mask\n",
    "        with open(\"./QST1/method1/\"+pic_name+\".txt\", 'w') as file:\n",
    "            file.write(string.capwords(name, sep = None)+\"\\n\")\n",
    "            \n",
    "        text_topk = [int(key) for key in bbdd_author_paintings[name].keys()]\n",
    "        if len(text_topk)>10: text_topk=text_topk[:10]\n",
    "        while len(text_topk)<10: text_topk.append(0)\n",
    "        all_results_text.append(text_topk)\n",
    "        \n",
    "        if score <= 4:\n",
    "            searched_dict = bbdd_author_paintings[name]\n",
    "            used_RGB = dict()\n",
    "            used_DCT = dict()\n",
    "            used_LBP = dict()\n",
    "            for key in searched_dict.keys():\n",
    "                used_RGB[key] = hists_bbdd[key]\n",
    "                used_DCT[key] = dcts_bbdd[key]\n",
    "                used_LBP[key] = lbps_bbdd[key]\n",
    "\n",
    "        else:\n",
    "            used_RGB = hists_bbdd\n",
    "            used_DCT = dcts_bbdd\n",
    "            used_LBP = lbps_bbdd\n",
    "\n",
    "\n",
    "        # COLOR\n",
    "        color_topk = get_painting_topK(pic,used_RGB, dim = \"2d1d\", color=\"Lab\", bins = 32, method = \"Histogram_Intersection\", topK = 10, tb_mask = inverted_tb_mask)\n",
    "\n",
    "        # DCT  \n",
    "        dct_topk = get_dct(pic, used_DCT, dim=\"3\", multiscale = True, levels = 3, rev = False, method = \"Euclidean\", topK = 10)\n",
    "\n",
    "        # LBP\n",
    "        lbp_topk = get_lbp_topK(pic, used_LBP, inverted_tb_mask, dim=\"1\", levels = 3, rev = True, color=\"Gray\", bins = 64, method = \"Histogram_Intersection\", topK = 10, radius = 5, multiscale = False)\n",
    "\n",
    "        print(f\"Color top 10: {color_topk}\\nDCT top 10: {dct_topk}\\nLBP top 10: {lbp_topk}\\ntext top 10: {text_topk}\")\n",
    "\n",
    "        out = combine_lists2(color_topk, dct_topk, lbp_topk, color_W=0.5, dct_W=0.3, lbp_W=0.2)\n",
    "        while len(out) < 10:\n",
    "            out.append(0)\n",
    "        print(f\"Overall top 10: {out}\")\n",
    "\n",
    "        while len(color_topk) < 10: color_topk.append(0)\n",
    "        while len(dct_topk) < 10: dct_topk.append(0)\n",
    "        while len(lbp_topk) < 10: lbp_topk.append(0)\n",
    "\n",
    "        picture_results_color.append(color_topk)\n",
    "        picture_results_dct.append(dct_topk)\n",
    "        picture_results_lbp.append(lbp_topk)\n",
    "\n",
    "        picture_results.append(out)\n",
    "\n",
    "            \n",
    "        print(\"---------\")\n",
    "        print(\"---------\\n\\n\")\n",
    "            \n",
    "        all_results_color.append(color_topk)\n",
    "        all_results_dct.append(dct_topk)\n",
    "        all_results_lbp.append(lbp_topk)\n",
    "        \n",
    "        all_results.append(out)\n",
    "        \n",
    "    return all_results_color, all_results_dct, all_results_lbp, all_results, all_results_text"
   ]
  },
  {
   "cell_type": "code",
   "execution_count": null,
   "id": "8688067a",
   "metadata": {},
   "outputs": [],
   "source": []
  },
  {
   "cell_type": "markdown",
   "id": "a20bd38b",
   "metadata": {},
   "source": [
    "### TESTS"
   ]
  },
  {
   "cell_type": "code",
   "execution_count": 87,
   "id": "16d1a09f",
   "metadata": {},
   "outputs": [
    {
     "name": "stdout",
     "output_type": "stream",
     "text": [
      "Medians computed. Spended 0.061 seconds\n",
      "Authors and paintings dict computed. Spended 0.039 seconds\n",
      "Color histograms computed. Spended 7.506 seconds\n",
      "DCTs computed. Spended 83.157 seconds\n",
      "LBPs computed. Spended 0.000 seconds\n"
     ]
    },
    {
     "name": "stderr",
     "output_type": "stream",
     "text": [
      "\r",
      "  0%|                                                    | 0/30 [00:00<?, ?it/s]"
     ]
    },
    {
     "name": "stdout",
     "output_type": "stream",
     "text": [
      "00000 :\n",
      "Median painting shape: (1729, 1527, 3), Normal painting shape: (1729, 1527, 3)\n"
     ]
    },
    {
     "name": "stderr",
     "output_type": "stream",
     "text": [
      "\r",
      "  3%|█▍                                          | 1/30 [00:13<06:40, 13.81s/it]"
     ]
    },
    {
     "name": "stdout",
     "output_type": "stream",
     "text": [
      "Color top 10: [248, 81, 197, 21, 60, 116, 156, 99, 94, 140]\n",
      "DCT top 10: [78, 36, 6, 65, 108, 164, 116, 283, 209, 53]\n",
      "LBP top 10: [190, 116, 113, 215, 37, 40, 119, 271, 244, 63]\n",
      "Overall top 10: [248, 78, 81, 116, 190, 197, 36, 21, 60, 6]\n",
      "---------\n",
      "---------\n",
      "\n",
      "\n",
      "00001 :\n",
      "Median painting shape: (612, 781, 3), Normal painting shape: (612, 781, 3)\n"
     ]
    },
    {
     "name": "stderr",
     "output_type": "stream",
     "text": [
      "\r",
      "  7%|██▉                                         | 2/30 [00:15<03:12,  6.86s/it]"
     ]
    },
    {
     "name": "stdout",
     "output_type": "stream",
     "text": [
      "Color top 10: [55, 53, 124, 198]\n",
      "DCT top 10: [53, 124, 55, 198]\n",
      "LBP top 10: [53, 55, 198, 124]\n",
      "Overall top 10: [53, 55, 124, 198, 0, 0, 0, 0, 0, 0]\n",
      "---------\n",
      "---------\n",
      "\n",
      "\n",
      "00002 :\n",
      "Median painting shape: (2195, 3915, 3), Normal painting shape: (2195, 3915, 3)\n"
     ]
    },
    {
     "name": "stderr",
     "output_type": "stream",
     "text": [
      "\r",
      " 10%|████▍                                       | 3/30 [00:46<07:55, 17.61s/it]"
     ]
    },
    {
     "name": "stdout",
     "output_type": "stream",
     "text": [
      "Color top 10: [225, 248, 58, 163, 130, 160, 51, 168, 81, 215]\n",
      "DCT top 10: [51, 215, 82, 137, 39, 163, 58, 130, 228, 225]\n",
      "LBP top 10: [248, 82, 51, 137, 168, 113, 39, 81, 259, 154]\n",
      "Overall top 10: [225, 248, 51, 58, 82, 215, 163, 130, 137, 168]\n",
      "---------\n",
      "---------\n",
      "\n",
      "\n",
      "00003 :\n",
      "Median painting shape: (449, 527, 3), Normal painting shape: (449, 527, 3)\n"
     ]
    },
    {
     "name": "stderr",
     "output_type": "stream",
     "text": [
      "\r",
      " 13%|█████▊                                      | 4/30 [00:47<04:49, 11.14s/it]"
     ]
    },
    {
     "name": "stdout",
     "output_type": "stream",
     "text": [
      "Color top 10: [211, 149, 203, 251]\n",
      "DCT top 10: [211, 251, 149, 203]\n",
      "LBP top 10: [203, 149, 251, 211]\n",
      "Overall top 10: [211, 149, 203, 251, 0, 0, 0, 0, 0, 0]\n",
      "---------\n",
      "---------\n",
      "\n",
      "\n",
      "00004 :\n",
      "Median painting shape: (679, 917, 3), Normal painting shape: (679, 917, 3)\n",
      "Color top 10: [130, 88, 132, 103, 31, 113, 57, 225, 286, 241]\n",
      "DCT top 10: [132, 108, 184, 74, 13, 263, 1, 201, 164, 202]\n",
      "LBP top 10: [57, 140, 132, 168, 145, 228, 259, 103, 223, 170]\n",
      "Overall top 10: [132, 130, 57, 88, 103, 108, 140, 31, 184, 113]\n",
      "Median painting shape: (275, 367, 3), Normal painting shape: (275, 367, 3)\n",
      "Color top 10: [31, 57, 286, 174, 88, 225, 241, 9, 259, 242]\n",
      "DCT top 10: [106, 164, 108, 74, 22, 184, 263, 202, 14, 1]\n",
      "LBP top 10: [47, 236, 52, 285, 251, 178, 268, 36, 247, 158]\n",
      "Overall top 10: [31, 106, 57, 47, 286, 164, 174, 88, 236, 108]\n",
      "Median painting shape: (322, 523, 3), Normal painting shape: (322, 523, 3)\n"
     ]
    },
    {
     "name": "stderr",
     "output_type": "stream",
     "text": [
      "\r",
      " 17%|███████▎                                    | 5/30 [00:53<03:51,  9.26s/it]"
     ]
    },
    {
     "name": "stdout",
     "output_type": "stream",
     "text": [
      "Color top 10: [271, 69, 234, 84, 132, 135, 63, 94, 275, 3]\n",
      "DCT top 10: [232, 234, 271, 135, 63, 275, 237, 69, 132, 94]\n",
      "LBP top 10: [135, 237, 84, 132, 69, 275, 271, 94, 3, 63]\n",
      "Overall top 10: [271, 135, 69, 234, 232, 84, 132, 63, 237, 275]\n",
      "---------\n",
      "---------\n",
      "\n",
      "\n",
      "00005 :\n",
      "Median painting shape: (533, 532, 3), Normal painting shape: (533, 532, 3)\n",
      "Color top 10: [28, 220, 41, 172]\n",
      "DCT top 10: [28, 41, 220, 172]\n",
      "LBP top 10: [28, 220, 41, 172]\n",
      "Overall top 10: [28, 220, 41, 172, 0, 0, 0, 0, 0, 0]\n",
      "Median painting shape: (745, 599, 3), Normal painting shape: (745, 599, 3)\n"
     ]
    },
    {
     "name": "stderr",
     "output_type": "stream",
     "text": [
      "\r",
      " 20%|████████▊                                   | 6/30 [00:56<02:54,  7.27s/it]"
     ]
    },
    {
     "name": "stdout",
     "output_type": "stream",
     "text": [
      "Color top 10: [41, 220, 28, 172]\n",
      "DCT top 10: [41, 28, 220, 172]\n",
      "LBP top 10: [220, 28, 41, 172]\n",
      "Overall top 10: [41, 220, 28, 172, 0, 0, 0, 0, 0, 0]\n",
      "---------\n",
      "---------\n",
      "\n",
      "\n",
      "00006 :\n",
      "Median painting shape: (498, 431, 3), Normal painting shape: (498, 431, 3)\n"
     ]
    },
    {
     "name": "stderr",
     "output_type": "stream",
     "text": [
      "\r",
      " 23%|██████████▎                                 | 7/30 [00:57<02:01,  5.27s/it]"
     ]
    },
    {
     "name": "stdout",
     "output_type": "stream",
     "text": [
      "Color top 10: [251, 149, 203, 211]\n",
      "DCT top 10: [251, 149, 211, 203]\n",
      "LBP top 10: [203, 149, 251, 211]\n",
      "Overall top 10: [251, 149, 203, 211, 0, 0, 0, 0, 0, 0]\n",
      "---------\n",
      "---------\n",
      "\n",
      "\n",
      "00007 :\n",
      "Median painting shape: (768, 757, 3), Normal painting shape: (768, 757, 3)\n"
     ]
    },
    {
     "name": "stderr",
     "output_type": "stream",
     "text": [
      "\r",
      " 27%|███████████▋                                | 8/30 [01:00<01:34,  4.31s/it]"
     ]
    },
    {
     "name": "stdout",
     "output_type": "stream",
     "text": [
      "Color top 10: [25, 242, 8]\n",
      "DCT top 10: [25, 8, 242]\n",
      "LBP top 10: [242, 25, 8]\n",
      "Overall top 10: [25, 242, 8, 0, 0, 0, 0, 0, 0, 0]\n",
      "---------\n",
      "---------\n",
      "\n",
      "\n",
      "00008 :\n",
      "Median painting shape: (1293, 1002, 3), Normal painting shape: (1293, 1002, 3)\n"
     ]
    },
    {
     "name": "stderr",
     "output_type": "stream",
     "text": [
      "\r",
      " 30%|█████████████▏                              | 9/30 [01:04<01:30,  4.30s/it]"
     ]
    },
    {
     "name": "stdout",
     "output_type": "stream",
     "text": [
      "Color top 10: [286, 260, 119, 23]\n",
      "DCT top 10: [286, 119, 23, 260]\n",
      "LBP top 10: [119, 286, 23, 260]\n",
      "Overall top 10: [286, 119, 260, 23, 0, 0, 0, 0, 0, 0]\n",
      "---------\n",
      "---------\n",
      "\n",
      "\n",
      "00009 :\n",
      "Median painting shape: (2068, 1482, 3), Normal painting shape: (2068, 1482, 3)\n"
     ]
    },
    {
     "name": "stderr",
     "output_type": "stream",
     "text": [
      "\r",
      " 33%|██████████████▎                            | 10/30 [01:15<02:05,  6.27s/it]"
     ]
    },
    {
     "name": "stdout",
     "output_type": "stream",
     "text": [
      "Color top 10: [260, 286, 84, 248, 21, 241, 281, 57, 88, 225]\n",
      "DCT top 10: [260, 36, 164, 108, 11, 35, 6, 224, 47, 272]\n",
      "LBP top 10: [119, 161, 63, 60, 81, 205, 88, 218, 3, 286]\n",
      "Overall top 10: [260, 286, 119, 84, 36, 248, 21, 161, 164, 88]\n",
      "---------\n",
      "---------\n",
      "\n",
      "\n",
      "00010 :\n",
      "Median painting shape: (1340, 1100, 3), Normal painting shape: (1340, 1100, 3)\n"
     ]
    },
    {
     "name": "stderr",
     "output_type": "stream",
     "text": [
      "\r",
      " 37%|███████████████▊                           | 11/30 [01:20<01:51,  5.88s/it]"
     ]
    },
    {
     "name": "stdout",
     "output_type": "stream",
     "text": [
      "Color top 10: [170, 225, 160, 259, 130, 248, 168, 82, 215, 239]\n",
      "DCT top 10: [228, 215, 170, 58, 51, 239, 137, 39, 192, 130]\n",
      "LBP top 10: [154, 51, 113, 81, 82, 170, 259, 248, 137, 39]\n",
      "Overall top 10: [170, 228, 225, 215, 154, 160, 51, 259, 130, 248]\n",
      "---------\n",
      "---------\n",
      "\n",
      "\n",
      "00011 :\n",
      "Median painting shape: (1467, 1716, 3), Normal painting shape: (1467, 1716, 3)\n"
     ]
    },
    {
     "name": "stderr",
     "output_type": "stream",
     "text": [
      "\r",
      " 40%|█████████████████▏                         | 12/30 [01:28<01:57,  6.55s/it]"
     ]
    },
    {
     "name": "stdout",
     "output_type": "stream",
     "text": [
      "Color top 10: [215, 239, 51, 163, 39, 192, 225, 113, 82, 104]\n",
      "DCT top 10: [215, 192, 228, 58, 51, 39, 239, 170, 225, 130]\n",
      "LBP top 10: [215, 225, 58, 170, 259, 192, 113, 168, 228, 163]\n",
      "Overall top 10: [215, 239, 192, 51, 225, 39, 163, 58, 228, 113]\n",
      "---------\n",
      "---------\n",
      "\n",
      "\n",
      "00012 :\n",
      "Median painting shape: (553, 409, 3), Normal painting shape: (553, 409, 3)\n"
     ]
    },
    {
     "name": "stderr",
     "output_type": "stream",
     "text": [
      "\r",
      " 43%|██████████████████▋                        | 13/30 [01:29<01:23,  4.94s/it]"
     ]
    },
    {
     "name": "stdout",
     "output_type": "stream",
     "text": [
      "Color top 10: [183, 67, 266]\n",
      "DCT top 10: [183, 67, 266]\n",
      "LBP top 10: [183, 266, 67]\n",
      "Overall top 10: [183, 67, 266, 0, 0, 0, 0, 0, 0, 0]\n",
      "---------\n",
      "---------\n",
      "\n",
      "\n",
      "00013 :\n",
      "Median painting shape: (590, 605, 3), Normal painting shape: (590, 605, 3)\n"
     ]
    },
    {
     "name": "stderr",
     "output_type": "stream",
     "text": [
      "\r",
      " 47%|████████████████████                       | 14/30 [01:31<01:02,  3.93s/it]"
     ]
    },
    {
     "name": "stdout",
     "output_type": "stream",
     "text": [
      "Color top 10: [76, 43, 249, 136]\n",
      "DCT top 10: [249, 76, 43, 136]\n",
      "LBP top 10: [76, 43, 136, 249]\n",
      "Overall top 10: [76, 249, 43, 136, 0, 0, 0, 0, 0, 0]\n",
      "---------\n",
      "---------\n",
      "\n",
      "\n",
      "00014 :\n",
      "Median painting shape: (295, 237, 3), Normal painting shape: (295, 237, 3)\n",
      "Color top 10: [73, 189, 278, 279, 126, 125, 138, 197, 159, 9]\n",
      "DCT top 10: [108, 97, 36, 159, 18, 269, 186, 65, 49, 278]\n",
      "LBP top 10: [159, 17, 56, 33, 36, 186, 153, 264, 115, 105]\n",
      "Overall top 10: [73, 159, 108, 189, 278, 97, 36, 279, 17, 126]\n",
      "Median painting shape: (561, 691, 3), Normal painting shape: (561, 691, 3)\n"
     ]
    },
    {
     "name": "stderr",
     "output_type": "stream",
     "text": [
      "\r",
      " 50%|█████████████████████▌                     | 15/30 [01:33<00:52,  3.53s/it]"
     ]
    },
    {
     "name": "stdout",
     "output_type": "stream",
     "text": [
      "Color top 10: [27]\n",
      "DCT top 10: [27]\n",
      "LBP top 10: [27]\n",
      "Overall top 10: [27, 0, 0, 0, 0, 0, 0, 0, 0, 0]\n",
      "---------\n",
      "---------\n",
      "\n",
      "\n",
      "00015 :\n",
      "Median painting shape: (1408, 1394, 3), Normal painting shape: (1408, 1394, 3)\n"
     ]
    },
    {
     "name": "stderr",
     "output_type": "stream",
     "text": [
      "\r",
      " 53%|██████████████████████▉                    | 16/30 [01:41<01:06,  4.73s/it]"
     ]
    },
    {
     "name": "stdout",
     "output_type": "stream",
     "text": [
      "Color top 10: [110, 160, 133, 218, 244, 57, 123, 259, 241, 170]\n",
      "DCT top 10: [160, 58, 178, 2, 192, 141, 183, 229, 67, 118]\n",
      "LBP top 10: [140, 192, 259, 57, 168, 113, 170, 215, 223, 103]\n",
      "Overall top 10: [160, 110, 140, 133, 192, 58, 57, 259, 218, 244]\n",
      "---------\n",
      "---------\n",
      "\n",
      "\n",
      "00016 :\n",
      "Median painting shape: (762, 579, 3), Normal painting shape: (762, 579, 3)\n"
     ]
    },
    {
     "name": "stderr",
     "output_type": "stream",
     "text": [
      "\r",
      " 57%|████████████████████████▎                  | 17/30 [01:42<00:49,  3.84s/it]"
     ]
    },
    {
     "name": "stdout",
     "output_type": "stream",
     "text": [
      "Color top 10: [164, 74, 46, 107]\n",
      "DCT top 10: [164, 74, 46, 107]\n",
      "LBP top 10: [74, 46, 107, 164]\n",
      "Overall top 10: [164, 74, 46, 107, 0, 0, 0, 0, 0, 0]\n",
      "---------\n",
      "---------\n",
      "\n",
      "\n",
      "00017 :\n",
      "Median painting shape: (412, 464, 3), Normal painting shape: (412, 464, 3)\n",
      "Color top 10: [32, 246, 109, 210, 282]\n",
      "DCT top 10: [109, 210, 32, 246, 282]\n",
      "LBP top 10: [32, 109, 246, 282, 210]\n",
      "Overall top 10: [32, 109, 246, 210, 282, 0, 0, 0, 0, 0]\n",
      "Median painting shape: (414, 467, 3), Normal painting shape: (414, 467, 3)\n"
     ]
    },
    {
     "name": "stderr",
     "output_type": "stream",
     "text": [
      "\r",
      " 60%|█████████████████████████▊                 | 18/30 [01:44<00:39,  3.30s/it]"
     ]
    },
    {
     "name": "stdout",
     "output_type": "stream",
     "text": [
      "Color top 10: [282, 109, 32, 246, 210]\n",
      "DCT top 10: [109, 210, 32, 246, 282]\n",
      "LBP top 10: [109, 32, 246, 282, 210]\n",
      "Overall top 10: [109, 282, 32, 210, 246, 0, 0, 0, 0, 0]\n",
      "---------\n",
      "---------\n",
      "\n",
      "\n",
      "00018 :\n",
      "Median painting shape: (373, 466, 3), Normal painting shape: (373, 466, 3)\n"
     ]
    },
    {
     "name": "stderr",
     "output_type": "stream",
     "text": [
      "\r",
      " 63%|███████████████████████████▏               | 19/30 [01:45<00:28,  2.61s/it]"
     ]
    },
    {
     "name": "stdout",
     "output_type": "stream",
     "text": [
      "Color top 10: [199, 34]\n",
      "DCT top 10: [199, 34]\n",
      "LBP top 10: [34, 199]\n",
      "Overall top 10: [199, 34, 0, 0, 0, 0, 0, 0, 0, 0]\n",
      "---------\n",
      "---------\n",
      "\n",
      "\n",
      "00019 :\n",
      "Median painting shape: (300, 251, 3), Normal painting shape: (300, 251, 3)\n",
      "Color top 10: [35, 5, 49, 197, 18, 258, 68, 278, 146, 280]\n",
      "DCT top 10: [1, 194, 204, 97, 184, 209, 6, 165, 49, 182]\n",
      "LBP top 10: [7, 163, 145, 3, 58, 111, 162, 243, 95, 201]\n",
      "Overall top 10: [35, 1, 5, 7, 49, 194, 197, 18, 163, 204]\n",
      "Median painting shape: (341, 283, 3), Normal painting shape: (341, 283, 3)\n"
     ]
    },
    {
     "name": "stderr",
     "output_type": "stream",
     "text": [
      "\r",
      " 67%|████████████████████████████▋              | 20/30 [01:48<00:25,  2.52s/it]"
     ]
    },
    {
     "name": "stdout",
     "output_type": "stream",
     "text": [
      "Color top 10: [35, 258]\n",
      "DCT top 10: [35, 258]\n",
      "LBP top 10: [35, 258]\n",
      "Overall top 10: [35, 258, 0, 0, 0, 0, 0, 0, 0, 0]\n",
      "---------\n",
      "---------\n",
      "\n",
      "\n",
      "00020 :\n",
      "Median painting shape: (413, 316, 3), Normal painting shape: (413, 316, 3)\n"
     ]
    },
    {
     "name": "stderr",
     "output_type": "stream",
     "text": [
      "\r",
      " 70%|██████████████████████████████             | 21/30 [01:49<00:19,  2.21s/it]"
     ]
    },
    {
     "name": "stdout",
     "output_type": "stream",
     "text": [
      "Color top 10: [65, 116, 47, 24, 21, 147, 191, 270, 90, 5]\n",
      "DCT top 10: [6, 164, 106, 165, 53, 108, 68, 35, 36, 148]\n",
      "LBP top 10: [283, 89, 257, 43, 279, 191, 173, 20, 207, 0]\n",
      "Overall top 10: [65, 6, 116, 283, 47, 164, 24, 191, 21, 89]\n",
      "---------\n",
      "---------\n",
      "\n",
      "\n",
      "00021 :\n",
      "Median painting shape: (1965, 1706, 3), Normal painting shape: (1965, 1706, 3)\n"
     ]
    },
    {
     "name": "stderr",
     "output_type": "stream",
     "text": [
      "\r",
      " 73%|███████████████████████████████▌           | 22/30 [02:00<00:37,  4.67s/it]"
     ]
    },
    {
     "name": "stdout",
     "output_type": "stream",
     "text": [
      "Color top 10: [259, 130, 160, 154, 225, 113, 170, 81, 276, 82]\n",
      "DCT top 10: [130, 39, 113, 239, 215, 192, 170, 228, 58, 51]\n",
      "LBP top 10: [82, 39, 51, 248, 154, 168, 81, 137, 239, 113]\n",
      "Overall top 10: [130, 259, 39, 82, 113, 160, 154, 170, 225, 239]\n",
      "---------\n",
      "---------\n",
      "\n",
      "\n",
      "00022 :\n",
      "Median painting shape: (506, 377, 3), Normal painting shape: (506, 377, 3)\n",
      "Color top 10: [92, 202, 184, 22]\n",
      "DCT top 10: [184, 92, 202, 22]\n",
      "LBP top 10: [184, 22, 202, 92]\n",
      "Overall top 10: [92, 184, 202, 22, 0, 0, 0, 0, 0, 0]\n",
      "Median painting shape: (223, 435, 3), Normal painting shape: (223, 435, 3)\n"
     ]
    },
    {
     "name": "stderr",
     "output_type": "stream",
     "text": [
      "\r",
      " 77%|████████████████████████████████▉          | 23/30 [02:01<00:26,  3.81s/it]"
     ]
    },
    {
     "name": "stdout",
     "output_type": "stream",
     "text": [
      "Color top 10: [182, 90, 101, 91, 252, 262]\n",
      "DCT top 10: [182, 90, 262, 101, 252, 91]\n",
      "LBP top 10: [182, 252, 91, 90, 101, 262]\n",
      "Overall top 10: [182, 90, 101, 252, 91, 262, 0, 0, 0, 0]\n",
      "---------\n",
      "---------\n",
      "\n",
      "\n",
      "00023 :\n",
      "Median painting shape: (608, 432, 3), Normal painting shape: (608, 432, 3)\n"
     ]
    },
    {
     "name": "stderr",
     "output_type": "stream",
     "text": [
      "\r",
      " 80%|██████████████████████████████████▍        | 24/30 [02:03<00:18,  3.06s/it]"
     ]
    },
    {
     "name": "stdout",
     "output_type": "stream",
     "text": [
      "Color top 10: [128, 176]\n",
      "DCT top 10: [176, 128]\n",
      "LBP top 10: [176, 128]\n",
      "Overall top 10: [128, 176, 0, 0, 0, 0, 0, 0, 0, 0]\n",
      "---------\n",
      "---------\n",
      "\n",
      "\n",
      "00024 :\n",
      "Median painting shape: (544, 466, 3), Normal painting shape: (544, 466, 3)\n"
     ]
    },
    {
     "name": "stderr",
     "output_type": "stream",
     "text": [
      "\r",
      " 83%|███████████████████████████████████▊       | 25/30 [02:04<00:12,  2.51s/it]"
     ]
    },
    {
     "name": "stdout",
     "output_type": "stream",
     "text": [
      "Color top 10: [258, 35]\n",
      "DCT top 10: [258, 35]\n",
      "LBP top 10: [258, 35]\n",
      "Overall top 10: [258, 35, 0, 0, 0, 0, 0, 0, 0, 0]\n",
      "---------\n",
      "---------\n",
      "\n",
      "\n",
      "00025 :\n",
      "Median painting shape: (610, 620, 3), Normal painting shape: (610, 620, 3)\n"
     ]
    },
    {
     "name": "stderr",
     "output_type": "stream",
     "text": [
      "\r",
      " 87%|█████████████████████████████████████▎     | 26/30 [02:06<00:08,  2.22s/it]"
     ]
    },
    {
     "name": "stdout",
     "output_type": "stream",
     "text": [
      "Color top 10: [75]\n",
      "DCT top 10: [75]\n",
      "LBP top 10: [75]\n",
      "Overall top 10: [75, 0, 0, 0, 0, 0, 0, 0, 0, 0]\n",
      "---------\n",
      "---------\n",
      "\n",
      "\n",
      "00026 :\n",
      "Median painting shape: (2051, 1619, 3), Normal painting shape: (2051, 1619, 3)\n",
      "Color top 10: [82, 81, 104, 154, 163, 225, 51, 113, 137, 259]\n",
      "DCT top 10: [81, 137, 82, 51, 163, 104, 225, 276, 215, 168]\n",
      "LBP top 10: [130, 81, 137, 104, 228, 276, 168, 163, 82, 170]\n",
      "Overall top 10: [81, 82, 137, 104, 130, 163, 51, 225, 154, 276]\n",
      "Median painting shape: (1975, 1659, 3), Normal painting shape: (1975, 1659, 3)\n"
     ]
    },
    {
     "name": "stderr",
     "output_type": "stream",
     "text": [
      "\r",
      " 90%|██████████████████████████████████████▋    | 27/30 [02:28<00:24,  8.24s/it]"
     ]
    },
    {
     "name": "stdout",
     "output_type": "stream",
     "text": [
      "Color top 10: [75]\n",
      "DCT top 10: [75]\n",
      "LBP top 10: [75]\n",
      "Overall top 10: [75, 0, 0, 0, 0, 0, 0, 0, 0, 0]\n",
      "---------\n",
      "---------\n",
      "\n",
      "\n",
      "00027 :\n",
      "Median painting shape: (639, 737, 3), Normal painting shape: (639, 737, 3)\n",
      "Color top 10: [200, 12]\n",
      "DCT top 10: [200, 12]\n",
      "LBP top 10: [12, 200]\n",
      "Overall top 10: [200, 12, 0, 0, 0, 0, 0, 0, 0, 0]\n",
      "Median painting shape: (678, 541, 3), Normal painting shape: (678, 541, 3)\n"
     ]
    },
    {
     "name": "stderr",
     "output_type": "stream",
     "text": [
      "\r",
      " 93%|████████████████████████████████████████▏  | 28/30 [02:32<00:13,  6.87s/it]"
     ]
    },
    {
     "name": "stdout",
     "output_type": "stream",
     "text": [
      "Color top 10: [12, 200]\n",
      "DCT top 10: [12, 200]\n",
      "LBP top 10: [12, 200]\n",
      "Overall top 10: [12, 200, 0, 0, 0, 0, 0, 0, 0, 0]\n",
      "---------\n",
      "---------\n",
      "\n",
      "\n",
      "00028 :\n",
      "Median painting shape: (2307, 1460, 3), Normal painting shape: (2307, 1460, 3)\n"
     ]
    },
    {
     "name": "stderr",
     "output_type": "stream",
     "text": [
      "\r",
      " 97%|█████████████████████████████████████████▌ | 29/30 [02:42<00:07,  7.96s/it]"
     ]
    },
    {
     "name": "stdout",
     "output_type": "stream",
     "text": [
      "Color top 10: [161, 193]\n",
      "DCT top 10: [161, 193]\n",
      "LBP top 10: [161, 193]\n",
      "Overall top 10: [161, 193, 0, 0, 0, 0, 0, 0, 0, 0]\n",
      "---------\n",
      "---------\n",
      "\n",
      "\n",
      "00029 :\n",
      "Median painting shape: (489, 397, 3), Normal painting shape: (489, 397, 3)\n"
     ]
    },
    {
     "name": "stderr",
     "output_type": "stream",
     "text": [
      "100%|███████████████████████████████████████████| 30/30 [02:44<00:00,  5.49s/it]"
     ]
    },
    {
     "name": "stdout",
     "output_type": "stream",
     "text": [
      "Color top 10: [40, 272, 222, 212, 151, 35, 108, 97, 270, 214]\n",
      "DCT top 10: [184, 1, 97, 186, 194, 204, 108, 165, 201, 236]\n",
      "LBP top 10: [204, 182, 75, 178, 280, 100, 89, 114, 47, 194]\n",
      "Overall top 10: [40, 184, 272, 204, 222, 97, 1, 212, 108, 151]\n",
      "---------\n",
      "---------\n",
      "\n",
      "\n"
     ]
    },
    {
     "name": "stderr",
     "output_type": "stream",
     "text": [
      "\n"
     ]
    },
    {
     "name": "stdout",
     "output_type": "stream",
     "text": [
      "Medians computed. Spended 0.429 seconds\n",
      "Authors and paintings dict computed. Spended 0.039 seconds\n",
      "Color histograms computed. Spended 7.651 seconds\n",
      "DCTs computed. Spended 83.343 seconds\n"
     ]
    },
    {
     "name": "stderr",
     "output_type": "stream",
     "text": [
      "100%|█████████████████████████████████████████| 287/287 [01:55<00:00,  2.49it/s]\n"
     ]
    },
    {
     "name": "stdout",
     "output_type": "stream",
     "text": [
      "LBPs computed. Spended 115.296 seconds\n"
     ]
    },
    {
     "name": "stderr",
     "output_type": "stream",
     "text": [
      "\r",
      "  0%|                                                    | 0/50 [00:00<?, ?it/s]"
     ]
    },
    {
     "name": "stdout",
     "output_type": "stream",
     "text": [
      "00000 :\n"
     ]
    },
    {
     "name": "stderr",
     "output_type": "stream",
     "text": [
      "\r",
      "  2%|▉                                           | 1/50 [00:01<00:52,  1.08s/it]"
     ]
    },
    {
     "name": "stdout",
     "output_type": "stream",
     "text": [
      "Color top 10: [242, 8, 25]\n",
      "DCT top 10: [242, 25, 8]\n",
      "LBP top 10: [242, 25, 8]\n",
      "text top 10: [8, 25, 242, 0, 0, 0, 0, 0, 0, 0]\n",
      "Overall top 10: [242, 8, 25, 0, 0, 0, 0, 0, 0, 0]\n",
      "---------\n",
      "---------\n",
      "\n",
      "\n",
      "00001 :\n"
     ]
    },
    {
     "name": "stderr",
     "output_type": "stream",
     "text": [
      "\r",
      "  4%|█▊                                          | 2/50 [00:03<01:18,  1.64s/it]"
     ]
    },
    {
     "name": "stdout",
     "output_type": "stream",
     "text": [
      "Color top 10: [102]\n",
      "DCT top 10: [102]\n",
      "LBP top 10: [102]\n",
      "text top 10: [102, 0, 0, 0, 0, 0, 0, 0, 0, 0]\n",
      "Overall top 10: [102, 0, 0, 0, 0, 0, 0, 0, 0, 0]\n",
      "---------\n",
      "---------\n",
      "\n",
      "\n",
      "00002 :\n"
     ]
    },
    {
     "name": "stderr",
     "output_type": "stream",
     "text": [
      "\r",
      "  6%|██▋                                         | 3/50 [00:04<01:02,  1.33s/it]"
     ]
    },
    {
     "name": "stdout",
     "output_type": "stream",
     "text": [
      "Color top 10: [282, 32, 210, 246, 109]\n",
      "DCT top 10: [109, 282, 32, 246, 210]\n",
      "LBP top 10: [32, 109, 246, 282, 210]\n",
      "text top 10: [32, 109, 210, 246, 282, 0, 0, 0, 0, 0]\n",
      "Overall top 10: [282, 32, 109, 210, 246, 0, 0, 0, 0, 0]\n",
      "---------\n",
      "---------\n",
      "\n",
      "\n",
      "00003 :\n"
     ]
    },
    {
     "name": "stderr",
     "output_type": "stream",
     "text": [
      "\r",
      "  8%|███▌                                        | 4/50 [00:14<03:39,  4.77s/it]"
     ]
    },
    {
     "name": "stdout",
     "output_type": "stream",
     "text": [
      "Color top 10: [259, 130, 154, 225, 160, 113, 170, 81, 82, 163]\n",
      "DCT top 10: [130, 215, 192, 113, 39, 170, 239, 58, 51, 160]\n",
      "LBP top 10: [130, 168, 39, 81, 228, 82, 276, 137, 170, 104]\n",
      "text top 10: [39, 51, 58, 81, 82, 104, 113, 130, 137, 154]\n",
      "Overall top 10: [130, 259, 154, 113, 215, 170, 160, 39, 225, 81]\n",
      "---------\n",
      "---------\n",
      "\n",
      "\n",
      "00004 :\n"
     ]
    },
    {
     "name": "stderr",
     "output_type": "stream",
     "text": [
      "\r",
      " 10%|████▍                                       | 5/50 [00:15<02:32,  3.40s/it]"
     ]
    },
    {
     "name": "stdout",
     "output_type": "stream",
     "text": [
      "Color top 10: [262, 90, 252, 91, 182, 101]\n",
      "DCT top 10: [90, 182, 252, 262, 101, 91]\n",
      "LBP top 10: [90, 101, 252, 91, 262, 182]\n",
      "text top 10: [90, 91, 101, 182, 252, 262, 0, 0, 0, 0]\n",
      "Overall top 10: [90, 262, 252, 182, 101, 91, 0, 0, 0, 0]\n",
      "---------\n",
      "---------\n",
      "\n",
      "\n",
      "00005 :\n"
     ]
    },
    {
     "name": "stderr",
     "output_type": "stream",
     "text": [
      "\r",
      " 12%|█████▎                                      | 6/50 [00:16<02:02,  2.77s/it]"
     ]
    },
    {
     "name": "stdout",
     "output_type": "stream",
     "text": [
      "Color top 10: [21]\n",
      "DCT top 10: [21]\n",
      "LBP top 10: [21]\n",
      "text top 10: [21, 0, 0, 0, 0, 0, 0, 0, 0, 0]\n",
      "Overall top 10: [21, 0, 0, 0, 0, 0, 0, 0, 0, 0]\n",
      "---------\n",
      "---------\n",
      "\n",
      "\n",
      "00006 :\n"
     ]
    },
    {
     "name": "stderr",
     "output_type": "stream",
     "text": [
      "\r",
      " 14%|██████▏                                     | 7/50 [00:17<01:33,  2.18s/it]"
     ]
    },
    {
     "name": "stdout",
     "output_type": "stream",
     "text": [
      "Color top 10: [92, 184, 202, 22]\n",
      "DCT top 10: [92, 22, 184, 202]\n",
      "LBP top 10: [184, 22, 202, 92]\n",
      "text top 10: [22, 92, 184, 202, 0, 0, 0, 0, 0, 0]\n",
      "Overall top 10: [92, 184, 22, 202, 0, 0, 0, 0, 0, 0]\n",
      "---------\n",
      "---------\n",
      "\n",
      "\n",
      "00007 :\n"
     ]
    },
    {
     "name": "stderr",
     "output_type": "stream",
     "text": [
      "\r",
      " 16%|███████                                     | 8/50 [00:19<01:23,  2.00s/it]"
     ]
    },
    {
     "name": "stdout",
     "output_type": "stream",
     "text": [
      "Color top 10: [142, 83]\n",
      "DCT top 10: [142, 83]\n",
      "LBP top 10: [142, 83]\n",
      "text top 10: [83, 142, 0, 0, 0, 0, 0, 0, 0, 0]\n",
      "Overall top 10: [142, 83, 0, 0, 0, 0, 0, 0, 0, 0]\n",
      "---------\n",
      "---------\n",
      "\n",
      "\n",
      "00008 :\n"
     ]
    },
    {
     "name": "stderr",
     "output_type": "stream",
     "text": [
      "\r",
      " 18%|███████▉                                    | 9/50 [00:29<03:10,  4.64s/it]"
     ]
    },
    {
     "name": "stdout",
     "output_type": "stream",
     "text": [
      "Color top 10: [74, 146, 34, 8, 279, 57, 64, 9, 21, 82]\n",
      "DCT top 10: [189, 36, 52, 47, 206, 65, 77, 236, 11, 35]\n",
      "LBP top 10: [212, 89, 208, 189, 285, 206, 95, 178, 38, 249]\n",
      "text top 10: [75, 0, 0, 0, 0, 0, 0, 0, 0, 0]\n",
      "Overall top 10: [74, 189, 146, 212, 34, 36, 8, 279, 89, 52]\n",
      "---------\n",
      "---------\n",
      "\n",
      "\n",
      "00009 :\n"
     ]
    },
    {
     "name": "stderr",
     "output_type": "stream",
     "text": [
      "\r",
      " 20%|████████▌                                  | 10/50 [00:30<02:20,  3.52s/it]"
     ]
    },
    {
     "name": "stdout",
     "output_type": "stream",
     "text": [
      "Color top 10: [110, 143, 174, 187]\n",
      "DCT top 10: [110, 143, 174, 187]\n",
      "LBP top 10: [110, 143, 187, 174]\n",
      "text top 10: [110, 143, 174, 187, 0, 0, 0, 0, 0, 0]\n",
      "Overall top 10: [110, 143, 174, 187, 0, 0, 0, 0, 0, 0]\n",
      "---------\n",
      "---------\n",
      "\n",
      "\n",
      "00010 :\n"
     ]
    },
    {
     "name": "stderr",
     "output_type": "stream",
     "text": [
      "\r",
      " 22%|█████████▍                                 | 11/50 [00:32<01:54,  2.92s/it]"
     ]
    },
    {
     "name": "stdout",
     "output_type": "stream",
     "text": [
      "Color top 10: [53, 55, 124, 198]\n",
      "DCT top 10: [53, 124, 55, 198]\n",
      "LBP top 10: [53, 55, 124, 198]\n",
      "text top 10: [53, 55, 124, 198, 0, 0, 0, 0, 0, 0]\n",
      "Overall top 10: [53, 55, 124, 198, 0, 0, 0, 0, 0, 0]\n",
      "---------\n",
      "---------\n",
      "\n",
      "\n",
      "00011 :\n"
     ]
    },
    {
     "name": "stderr",
     "output_type": "stream",
     "text": [
      "\r",
      " 24%|██████████▎                                | 12/50 [00:33<01:33,  2.46s/it]"
     ]
    },
    {
     "name": "stdout",
     "output_type": "stream",
     "text": [
      "Color top 10: [34, 199]\n",
      "DCT top 10: [34, 199]\n",
      "LBP top 10: [34, 199]\n",
      "text top 10: [34, 199, 0, 0, 0, 0, 0, 0, 0, 0]\n",
      "Overall top 10: [34, 199, 0, 0, 0, 0, 0, 0, 0, 0]\n",
      "---------\n",
      "---------\n",
      "\n",
      "\n",
      "00012 :\n"
     ]
    },
    {
     "name": "stderr",
     "output_type": "stream",
     "text": [
      "\r",
      " 26%|███████████▏                               | 13/50 [00:44<03:07,  5.08s/it]"
     ]
    },
    {
     "name": "stdout",
     "output_type": "stream",
     "text": [
      "Color top 10: [130, 225, 192, 58, 160, 215, 51, 154, 163, 113]\n",
      "DCT top 10: [130, 215, 51, 39, 113, 239, 170, 58, 192, 228]\n",
      "LBP top 10: [130, 228, 168, 39, 82, 81, 137, 276, 170, 225]\n",
      "text top 10: [39, 51, 58, 81, 82, 104, 113, 130, 137, 154]\n",
      "Overall top 10: [130, 225, 215, 192, 51, 58, 228, 39, 113, 160]\n",
      "---------\n",
      "---------\n",
      "\n",
      "\n",
      "00013 :\n"
     ]
    },
    {
     "name": "stderr",
     "output_type": "stream",
     "text": [
      "\r",
      " 28%|████████████                               | 14/50 [00:46<02:30,  4.18s/it]"
     ]
    },
    {
     "name": "stdout",
     "output_type": "stream",
     "text": [
      "Color top 10: [107, 74, 164, 46]\n",
      "DCT top 10: [107, 164, 46, 74]\n",
      "LBP top 10: [164, 107, 46, 74]\n",
      "text top 10: [46, 74, 107, 164, 0, 0, 0, 0, 0, 0]\n",
      "Overall top 10: [107, 164, 74, 46, 0, 0, 0, 0, 0, 0]\n",
      "---------\n",
      "---------\n",
      "\n",
      "\n",
      "00014 :\n"
     ]
    },
    {
     "name": "stderr",
     "output_type": "stream",
     "text": [
      "\r",
      " 30%|████████████▉                              | 15/50 [00:48<02:01,  3.46s/it]"
     ]
    },
    {
     "name": "stdout",
     "output_type": "stream",
     "text": [
      "Color top 10: [25, 145, 200, 51, 66, 174, 137, 158, 13, 163]\n",
      "DCT top 10: [90, 1, 184, 201, 194, 186, 204, 236, 97, 92]\n",
      "LBP top 10: [192, 223, 235, 259, 90, 101, 168, 272, 70, 32]\n",
      "text top 10: [75, 0, 0, 0, 0, 0, 0, 0, 0, 0]\n",
      "Overall top 10: [25, 90, 145, 192, 200, 1, 51, 66, 223, 184]\n",
      "---------\n",
      "---------\n",
      "\n",
      "\n",
      "00015 :\n"
     ]
    },
    {
     "name": "stderr",
     "output_type": "stream",
     "text": [
      "\r",
      " 32%|█████████████▊                             | 16/50 [00:50<01:44,  3.08s/it]"
     ]
    },
    {
     "name": "stdout",
     "output_type": "stream",
     "text": [
      "Color top 10: [132, 84, 63, 69, 135, 271, 94, 237, 234, 232]\n",
      "DCT top 10: [132, 237, 63, 94, 232, 135, 234, 275, 69, 84]\n",
      "LBP top 10: [132, 63, 135, 3, 237, 271, 275, 84, 69, 94]\n",
      "text top 10: [3, 63, 69, 84, 94, 132, 135, 232, 234, 237]\n",
      "Overall top 10: [132, 63, 84, 237, 135, 69, 94, 271, 232, 234]\n",
      "---------\n",
      "---------\n",
      "\n",
      "\n",
      "00016 :\n"
     ]
    },
    {
     "name": "stderr",
     "output_type": "stream",
     "text": [
      "\r",
      " 34%|██████████████▌                            | 17/50 [00:51<01:20,  2.45s/it]"
     ]
    },
    {
     "name": "stdout",
     "output_type": "stream",
     "text": [
      "Color top 10: [206, 47]\n",
      "DCT top 10: [47, 206]\n",
      "LBP top 10: [47, 206]\n",
      "text top 10: [47, 206, 0, 0, 0, 0, 0, 0, 0, 0]\n",
      "Overall top 10: [206, 47, 0, 0, 0, 0, 0, 0, 0, 0]\n",
      "---------\n",
      "---------\n",
      "\n",
      "\n",
      "00017 :\n"
     ]
    },
    {
     "name": "stderr",
     "output_type": "stream",
     "text": [
      "\r",
      " 36%|███████████████▍                           | 18/50 [01:00<02:22,  4.45s/it]"
     ]
    },
    {
     "name": "stdout",
     "output_type": "stream",
     "text": [
      "Color top 10: [260, 286, 23, 119]\n",
      "DCT top 10: [260, 119, 286, 23]\n",
      "LBP top 10: [119, 260, 286, 23]\n",
      "text top 10: [23, 119, 260, 286, 0, 0, 0, 0, 0, 0]\n",
      "Overall top 10: [260, 119, 286, 23, 0, 0, 0, 0, 0, 0]\n",
      "---------\n",
      "---------\n",
      "\n",
      "\n",
      "00018 :\n"
     ]
    },
    {
     "name": "stderr",
     "output_type": "stream",
     "text": [
      "\r",
      " 38%|████████████████▎                          | 19/50 [01:04<02:06,  4.08s/it]"
     ]
    },
    {
     "name": "stdout",
     "output_type": "stream",
     "text": [
      "Color top 10: [218, 31, 116, 147]\n",
      "DCT top 10: [218, 116, 147, 31]\n",
      "LBP top 10: [218, 116, 31, 147]\n",
      "text top 10: [31, 116, 147, 218, 0, 0, 0, 0, 0, 0]\n",
      "Overall top 10: [218, 116, 31, 147, 0, 0, 0, 0, 0, 0]\n",
      "---------\n",
      "---------\n",
      "\n",
      "\n",
      "00019 :\n"
     ]
    },
    {
     "name": "stderr",
     "output_type": "stream",
     "text": [
      "\r",
      " 40%|█████████████████▏                         | 20/50 [01:05<01:33,  3.12s/it]"
     ]
    },
    {
     "name": "stdout",
     "output_type": "stream",
     "text": [
      "Color top 10: [223]\n",
      "DCT top 10: [223]\n",
      "LBP top 10: [223]\n",
      "text top 10: [223, 0, 0, 0, 0, 0, 0, 0, 0, 0]\n",
      "Overall top 10: [223, 0, 0, 0, 0, 0, 0, 0, 0, 0]\n",
      "---------\n",
      "---------\n",
      "\n",
      "\n",
      "00020 :\n"
     ]
    },
    {
     "name": "stderr",
     "output_type": "stream",
     "text": [
      "\r",
      " 42%|██████████████████                         | 21/50 [01:07<01:20,  2.78s/it]"
     ]
    },
    {
     "name": "stdout",
     "output_type": "stream",
     "text": [
      "Color top 10: [282, 44, 128, 227, 198, 196, 32, 57, 247, 233]\n",
      "DCT top 10: [11, 36, 106, 206, 68, 108, 164, 44, 40, 238]\n",
      "LBP top 10: [226, 240, 250, 155, 183, 285, 109, 174, 90, 251]\n",
      "text top 10: [11, 93, 190, 207, 238, 280, 285, 0, 0, 0]\n",
      "Overall top 10: [282, 11, 44, 226, 128, 36, 227, 198, 240, 106]\n",
      "---------\n",
      "---------\n",
      "\n",
      "\n",
      "00021 :\n"
     ]
    },
    {
     "name": "stderr",
     "output_type": "stream",
     "text": [
      "\r",
      " 44%|██████████████████▉                        | 22/50 [01:07<01:02,  2.23s/it]"
     ]
    },
    {
     "name": "stdout",
     "output_type": "stream",
     "text": [
      "Color top 10: [202, 184, 92, 22]\n",
      "DCT top 10: [184, 202, 92, 22]\n",
      "LBP top 10: [184, 22, 202, 92]\n",
      "text top 10: [22, 92, 184, 202, 0, 0, 0, 0, 0, 0]\n",
      "Overall top 10: [184, 202, 92, 22, 0, 0, 0, 0, 0, 0]\n",
      "---------\n",
      "---------\n",
      "\n",
      "\n",
      "00022 :\n"
     ]
    },
    {
     "name": "stderr",
     "output_type": "stream",
     "text": [
      "\r",
      " 46%|███████████████████▊                       | 23/50 [01:08<00:48,  1.78s/it]"
     ]
    },
    {
     "name": "stdout",
     "output_type": "stream",
     "text": [
      "Color top 10: [67, 183, 266]\n",
      "DCT top 10: [67, 183, 266]\n",
      "LBP top 10: [67, 183, 266]\n",
      "text top 10: [67, 183, 266, 0, 0, 0, 0, 0, 0, 0]\n",
      "Overall top 10: [67, 183, 266, 0, 0, 0, 0, 0, 0, 0]\n",
      "---------\n",
      "---------\n",
      "\n",
      "\n",
      "00023 :\n"
     ]
    },
    {
     "name": "stderr",
     "output_type": "stream",
     "text": [
      "\r",
      " 48%|████████████████████▋                      | 24/50 [01:16<01:31,  3.53s/it]"
     ]
    },
    {
     "name": "stdout",
     "output_type": "stream",
     "text": [
      "Color top 10: [215, 239, 163, 39, 51, 192, 113, 225, 82, 104]\n",
      "DCT top 10: [215, 192, 51, 39, 58, 239, 130, 228, 225, 104]\n",
      "LBP top 10: [215, 259, 113, 170, 51, 137, 168, 104, 154, 192]\n",
      "text top 10: [39, 51, 58, 81, 82, 104, 113, 130, 137, 154]\n",
      "Overall top 10: [215, 239, 192, 51, 39, 163, 113, 104, 259, 225]\n",
      "---------\n",
      "---------\n",
      "\n",
      "\n",
      "00024 :\n"
     ]
    },
    {
     "name": "stderr",
     "output_type": "stream",
     "text": [
      "\r",
      " 50%|█████████████████████▌                     | 25/50 [01:27<02:29,  5.96s/it]"
     ]
    },
    {
     "name": "stdout",
     "output_type": "stream",
     "text": [
      "Color top 10: [276, 225, 154, 137, 163, 82, 168, 104, 51, 239]\n",
      "DCT top 10: [276, 137, 104, 51, 163, 228, 81, 225, 82, 168]\n",
      "LBP top 10: [228, 130, 276, 81, 163, 168, 170, 225, 137, 58]\n",
      "text top 10: [39, 51, 58, 81, 82, 104, 113, 130, 137, 154]\n",
      "Overall top 10: [276, 225, 137, 228, 163, 154, 104, 168, 51, 82]\n",
      "---------\n",
      "---------\n",
      "\n",
      "\n",
      "00025 :\n"
     ]
    },
    {
     "name": "stderr",
     "output_type": "stream",
     "text": [
      "\r",
      " 52%|██████████████████████▎                    | 26/50 [01:28<01:45,  4.38s/it]"
     ]
    },
    {
     "name": "stdout",
     "output_type": "stream",
     "text": [
      "Color top 10: [245, 257]\n",
      "DCT top 10: [245, 257]\n",
      "LBP top 10: [245, 257]\n",
      "text top 10: [245, 257, 0, 0, 0, 0, 0, 0, 0, 0]\n",
      "Overall top 10: [245, 257, 0, 0, 0, 0, 0, 0, 0, 0]\n",
      "---------\n",
      "---------\n",
      "\n",
      "\n",
      "00026 :\n"
     ]
    },
    {
     "name": "stderr",
     "output_type": "stream",
     "text": [
      "\r",
      " 54%|███████████████████████▏                   | 27/50 [01:30<01:21,  3.56s/it]"
     ]
    },
    {
     "name": "stdout",
     "output_type": "stream",
     "text": [
      "Color top 10: [157, 57, 218, 34, 118, 133, 8, 146, 102, 62]\n",
      "DCT top 10: [270, 36, 40, 209, 47, 68, 24, 35, 189, 11]\n",
      "LBP top 10: [190, 163, 220, 56, 133, 212, 246, 45, 209, 170]\n",
      "text top 10: [75, 0, 0, 0, 0, 0, 0, 0, 0, 0]\n",
      "Overall top 10: [157, 270, 57, 190, 218, 36, 34, 133, 163, 118]\n",
      "---------\n",
      "---------\n",
      "\n",
      "\n",
      "00027 :\n"
     ]
    },
    {
     "name": "stderr",
     "output_type": "stream",
     "text": [
      "\r",
      " 56%|████████████████████████                   | 28/50 [01:39<01:54,  5.22s/it]"
     ]
    },
    {
     "name": "stdout",
     "output_type": "stream",
     "text": [
      "Color top 10: [260, 286, 23, 119]\n",
      "DCT top 10: [260, 119, 286, 23]\n",
      "LBP top 10: [119, 260, 286, 23]\n",
      "text top 10: [23, 119, 260, 286, 0, 0, 0, 0, 0, 0]\n",
      "Overall top 10: [260, 119, 286, 23, 0, 0, 0, 0, 0, 0]\n",
      "---------\n",
      "---------\n",
      "\n",
      "\n",
      "00028 :\n"
     ]
    },
    {
     "name": "stderr",
     "output_type": "stream",
     "text": [
      "\r",
      " 58%|████████████████████████▉                  | 29/50 [01:40<01:23,  3.95s/it]"
     ]
    },
    {
     "name": "stdout",
     "output_type": "stream",
     "text": [
      "Color top 10: [251, 149, 203, 211]\n",
      "DCT top 10: [251, 211, 149, 203]\n",
      "LBP top 10: [251, 203, 149, 211]\n",
      "text top 10: [149, 203, 211, 251, 0, 0, 0, 0, 0, 0]\n",
      "Overall top 10: [251, 149, 203, 211, 0, 0, 0, 0, 0, 0]\n",
      "---------\n",
      "---------\n",
      "\n",
      "\n",
      "00029 :\n"
     ]
    },
    {
     "name": "stderr",
     "output_type": "stream",
     "text": [
      "\r",
      " 60%|█████████████████████████▊                 | 30/50 [01:41<01:04,  3.24s/it]"
     ]
    },
    {
     "name": "stdout",
     "output_type": "stream",
     "text": [
      "Color top 10: [179, 219, 231]\n",
      "DCT top 10: [179, 219, 231]\n",
      "LBP top 10: [231, 179, 219]\n",
      "text top 10: [179, 219, 231, 0, 0, 0, 0, 0, 0, 0]\n",
      "Overall top 10: [179, 219, 231, 0, 0, 0, 0, 0, 0, 0]\n",
      "---------\n",
      "---------\n",
      "\n",
      "\n",
      "00030 :\n"
     ]
    },
    {
     "name": "stderr",
     "output_type": "stream",
     "text": [
      "\r",
      " 62%|██████████████████████████▋                | 31/50 [01:50<01:30,  4.75s/it]"
     ]
    },
    {
     "name": "stdout",
     "output_type": "stream",
     "text": [
      "Color top 10: [225, 259, 130, 160, 163, 82, 168, 104, 154, 51]\n",
      "DCT top 10: [225, 215, 168, 104, 51, 192, 58, 137, 163, 228]\n",
      "LBP top 10: [259, 168, 192, 225, 113, 215, 104, 39, 137, 51]\n",
      "text top 10: [39, 51, 58, 81, 82, 104, 113, 130, 137, 154]\n",
      "Overall top 10: [225, 259, 168, 215, 130, 104, 163, 51, 160, 192]\n",
      "---------\n",
      "---------\n",
      "\n",
      "\n",
      "00031 :\n"
     ]
    },
    {
     "name": "stderr",
     "output_type": "stream",
     "text": [
      "\r",
      " 64%|███████████████████████████▌               | 32/50 [01:58<01:46,  5.93s/it]"
     ]
    },
    {
     "name": "stdout",
     "output_type": "stream",
     "text": [
      "Color top 10: [259, 192, 239, 51, 225, 170, 163, 130, 160, 113]\n",
      "DCT top 10: [192, 58, 215, 160, 51, 239, 225, 130, 170, 104]\n",
      "LBP top 10: [51, 215, 192, 154, 259, 113, 248, 137, 239, 160]\n",
      "text top 10: [39, 51, 58, 81, 82, 104, 113, 130, 137, 154]\n",
      "Overall top 10: [192, 259, 51, 239, 215, 160, 58, 225, 170, 130]\n",
      "---------\n",
      "---------\n",
      "\n",
      "\n",
      "00032 :\n"
     ]
    },
    {
     "name": "stderr",
     "output_type": "stream",
     "text": [
      "\r",
      " 66%|████████████████████████████▍              | 33/50 [02:01<01:26,  5.07s/it]"
     ]
    },
    {
     "name": "stdout",
     "output_type": "stream",
     "text": [
      "Color top 10: [57, 120, 40]\n",
      "DCT top 10: [120, 40, 57]\n",
      "LBP top 10: [57, 40, 120]\n",
      "text top 10: [40, 57, 120, 0, 0, 0, 0, 0, 0, 0]\n",
      "Overall top 10: [57, 120, 40, 0, 0, 0, 0, 0, 0, 0]\n",
      "---------\n",
      "---------\n",
      "\n",
      "\n",
      "00033 :\n"
     ]
    },
    {
     "name": "stderr",
     "output_type": "stream",
     "text": [
      "\r",
      " 68%|█████████████████████████████▏             | 34/50 [02:02<01:01,  3.83s/it]"
     ]
    },
    {
     "name": "stdout",
     "output_type": "stream",
     "text": [
      "Color top 10: [148, 191, 85, 197, 61, 18, 278, 205, 114, 152]\n",
      "DCT top 10: [108, 97, 209, 18, 36, 49, 269, 159, 65, 85]\n",
      "LBP top 10: [9, 205, 126, 145, 29, 144, 125, 185, 112, 62]\n",
      "text top 10: [2, 9, 14, 17, 18, 19, 29, 33, 36, 38]\n",
      "Overall top 10: [148, 108, 191, 9, 85, 205, 18, 97, 197, 61]\n",
      "---------\n",
      "---------\n",
      "\n",
      "\n",
      "00034 :\n"
     ]
    },
    {
     "name": "stderr",
     "output_type": "stream",
     "text": [
      "\r",
      " 70%|██████████████████████████████             | 35/50 [02:04<00:47,  3.20s/it]"
     ]
    },
    {
     "name": "stdout",
     "output_type": "stream",
     "text": [
      "Color top 10: [117, 272, 187, 146, 217, 232, 85, 151, 95, 73]\n",
      "DCT top 10: [178, 183, 141, 229, 2, 209, 67, 85, 75, 191]\n",
      "LBP top 10: [209, 212, 220, 125, 58, 206, 178, 24, 162, 108]\n",
      "text top 10: [75, 0, 0, 0, 0, 0, 0, 0, 0, 0]\n",
      "Overall top 10: [117, 178, 272, 209, 187, 183, 146, 85, 212, 217]\n",
      "---------\n",
      "---------\n",
      "\n",
      "\n",
      "00035 :\n"
     ]
    },
    {
     "name": "stderr",
     "output_type": "stream",
     "text": [
      "\r",
      " 72%|██████████████████████████████▉            | 36/50 [02:05<00:36,  2.58s/it]"
     ]
    },
    {
     "name": "stdout",
     "output_type": "stream",
     "text": [
      "Color top 10: [236, 204, 20]\n",
      "DCT top 10: [236, 204, 20]\n",
      "LBP top 10: [236, 20, 204]\n",
      "text top 10: [20, 204, 236, 0, 0, 0, 0, 0, 0, 0]\n",
      "Overall top 10: [236, 204, 20, 0, 0, 0, 0, 0, 0, 0]\n",
      "---------\n",
      "---------\n",
      "\n",
      "\n",
      "00036 :\n"
     ]
    },
    {
     "name": "stderr",
     "output_type": "stream",
     "text": [
      "\r",
      " 74%|███████████████████████████████▊           | 37/50 [02:06<00:27,  2.09s/it]"
     ]
    },
    {
     "name": "stdout",
     "output_type": "stream",
     "text": [
      "Color top 10: [203, 149, 211, 251]\n",
      "DCT top 10: [203, 251, 149, 211]\n",
      "LBP top 10: [211, 203, 251, 149]\n",
      "text top 10: [149, 203, 211, 251, 0, 0, 0, 0, 0, 0]\n",
      "Overall top 10: [203, 211, 149, 251, 0, 0, 0, 0, 0, 0]\n",
      "---------\n",
      "---------\n",
      "\n",
      "\n",
      "00037 :\n"
     ]
    },
    {
     "name": "stderr",
     "output_type": "stream",
     "text": [
      "\r",
      " 76%|████████████████████████████████▋          | 38/50 [02:07<00:21,  1.76s/it]"
     ]
    },
    {
     "name": "stdout",
     "output_type": "stream",
     "text": [
      "Color top 10: [118]\n",
      "DCT top 10: [118]\n",
      "LBP top 10: [118]\n",
      "text top 10: [118, 0, 0, 0, 0, 0, 0, 0, 0, 0]\n",
      "Overall top 10: [118, 0, 0, 0, 0, 0, 0, 0, 0, 0]\n",
      "---------\n",
      "---------\n",
      "\n",
      "\n",
      "00038 :\n"
     ]
    },
    {
     "name": "stderr",
     "output_type": "stream",
     "text": [
      "\r",
      " 78%|█████████████████████████████████▌         | 39/50 [02:10<00:21,  1.97s/it]"
     ]
    },
    {
     "name": "stdout",
     "output_type": "stream",
     "text": [
      "Color top 10: [30]\n",
      "DCT top 10: [30]\n",
      "LBP top 10: [30]\n",
      "text top 10: [30, 0, 0, 0, 0, 0, 0, 0, 0, 0]\n",
      "Overall top 10: [30, 0, 0, 0, 0, 0, 0, 0, 0, 0]\n",
      "---------\n",
      "---------\n",
      "\n",
      "\n",
      "00039 :\n"
     ]
    },
    {
     "name": "stderr",
     "output_type": "stream",
     "text": [
      "\r",
      " 80%|██████████████████████████████████▍        | 40/50 [02:12<00:20,  2.01s/it]"
     ]
    },
    {
     "name": "stdout",
     "output_type": "stream",
     "text": [
      "Color top 10: [44, 87, 56, 126, 197, 260, 279, 225, 130, 190]\n",
      "DCT top 10: [44, 151, 56, 263, 108, 17, 106, 164, 255, 11]\n",
      "LBP top 10: [245, 184, 89, 189, 236, 118, 207, 75, 206, 36]\n",
      "text top 10: [75, 0, 0, 0, 0, 0, 0, 0, 0, 0]\n",
      "Overall top 10: [44, 56, 87, 245, 151, 126, 184, 197, 260, 263]\n",
      "---------\n",
      "---------\n",
      "\n",
      "\n",
      "00040 :\n"
     ]
    },
    {
     "name": "stderr",
     "output_type": "stream",
     "text": [
      "\r",
      " 82%|███████████████████████████████████▎       | 41/50 [02:13<00:15,  1.73s/it]"
     ]
    },
    {
     "name": "stdout",
     "output_type": "stream",
     "text": [
      "Color top 10: [183, 67, 266]\n",
      "DCT top 10: [183, 67, 266]\n",
      "LBP top 10: [183, 266, 67]\n",
      "text top 10: [67, 183, 266, 0, 0, 0, 0, 0, 0, 0]\n",
      "Overall top 10: [183, 67, 266, 0, 0, 0, 0, 0, 0, 0]\n",
      "---------\n",
      "---------\n",
      "\n",
      "\n",
      "00041 :\n"
     ]
    },
    {
     "name": "stderr",
     "output_type": "stream",
     "text": [
      "\r",
      " 84%|████████████████████████████████████       | 42/50 [02:14<00:11,  1.47s/it]"
     ]
    },
    {
     "name": "stdout",
     "output_type": "stream",
     "text": [
      "Color top 10: [277, 77, 13, 52]\n",
      "DCT top 10: [277, 13, 77, 52]\n",
      "LBP top 10: [277, 52, 13, 77]\n",
      "text top 10: [13, 52, 77, 277, 0, 0, 0, 0, 0, 0]\n",
      "Overall top 10: [277, 77, 13, 52, 0, 0, 0, 0, 0, 0]\n",
      "---------\n",
      "---------\n",
      "\n",
      "\n",
      "00042 :\n"
     ]
    },
    {
     "name": "stderr",
     "output_type": "stream",
     "text": [
      "\r",
      " 86%|████████████████████████████████████▉      | 43/50 [02:25<00:30,  4.30s/it]"
     ]
    },
    {
     "name": "stdout",
     "output_type": "stream",
     "text": [
      "Color top 10: [193, 161]\n",
      "DCT top 10: [193, 161]\n",
      "LBP top 10: [193, 161]\n",
      "text top 10: [161, 193, 0, 0, 0, 0, 0, 0, 0, 0]\n",
      "Overall top 10: [193, 161, 0, 0, 0, 0, 0, 0, 0, 0]\n",
      "---------\n",
      "---------\n",
      "\n",
      "\n",
      "00043 :\n"
     ]
    },
    {
     "name": "stderr",
     "output_type": "stream",
     "text": [
      "\r",
      " 88%|█████████████████████████████████████▊     | 44/50 [02:34<00:35,  5.92s/it]"
     ]
    },
    {
     "name": "stdout",
     "output_type": "stream",
     "text": [
      "Color top 10: [163, 51, 239, 215, 137, 225, 82, 104, 192, 39]\n",
      "DCT top 10: [163, 137, 51, 215, 239, 82, 104, 225, 58, 228]\n",
      "LBP top 10: [248, 81, 215, 154, 137, 104, 51, 113, 160, 259]\n",
      "text top 10: [39, 51, 58, 81, 82, 104, 113, 130, 137, 154]\n",
      "Overall top 10: [163, 51, 137, 215, 239, 248, 104, 82, 225, 81]\n",
      "---------\n",
      "---------\n",
      "\n",
      "\n",
      "00044 :\n"
     ]
    },
    {
     "name": "stderr",
     "output_type": "stream",
     "text": [
      "\r",
      " 90%|██████████████████████████████████████▋    | 45/50 [02:46<00:38,  7.71s/it]"
     ]
    },
    {
     "name": "stdout",
     "output_type": "stream",
     "text": [
      "Color top 10: [113, 259, 225, 130, 160, 154, 192, 82, 170, 239]\n",
      "DCT top 10: [113, 130, 239, 170, 215, 39, 192, 51, 58, 228]\n",
      "LBP top 10: [225, 58, 170, 228, 259, 215, 113, 192, 168, 163]\n",
      "text top 10: [39, 51, 58, 81, 82, 104, 113, 130, 137, 154]\n",
      "Overall top 10: [113, 225, 259, 130, 170, 239, 192, 58, 160, 215]\n",
      "---------\n",
      "---------\n",
      "\n",
      "\n",
      "00045 :\n"
     ]
    },
    {
     "name": "stderr",
     "output_type": "stream",
     "text": [
      "\r",
      " 92%|███████████████████████████████████████▌   | 46/50 [02:48<00:23,  5.82s/it]"
     ]
    },
    {
     "name": "stdout",
     "output_type": "stream",
     "text": [
      "Color top 10: [101, 90, 91, 182, 252, 262]\n",
      "DCT top 10: [101, 252, 91, 182, 90, 262]\n",
      "LBP top 10: [90, 91, 252, 101, 262, 182]\n",
      "text top 10: [90, 91, 101, 182, 252, 262, 0, 0, 0, 0]\n",
      "Overall top 10: [101, 90, 91, 252, 182, 262, 0, 0, 0, 0]\n",
      "---------\n",
      "---------\n",
      "\n",
      "\n",
      "00046 :\n"
     ]
    },
    {
     "name": "stderr",
     "output_type": "stream",
     "text": [
      "\r",
      " 94%|████████████████████████████████████████▍  | 47/50 [02:50<00:14,  4.74s/it]"
     ]
    },
    {
     "name": "stdout",
     "output_type": "stream",
     "text": [
      "Color top 10: [58, 176, 161, 119, 16, 70, 29, 23, 192, 160]\n",
      "DCT top 10: [176, 1, 194, 97, 184, 250, 22, 202, 201, 100]\n",
      "LBP top 10: [57, 40, 218, 215, 140, 113, 170, 88, 259, 286]\n",
      "text top 10: [75, 0, 0, 0, 0, 0, 0, 0, 0, 0]\n",
      "Overall top 10: [176, 58, 57, 161, 1, 119, 16, 40, 194, 70]\n",
      "---------\n",
      "---------\n",
      "\n",
      "\n",
      "00047 :\n"
     ]
    },
    {
     "name": "stderr",
     "output_type": "stream",
     "text": [
      "\r",
      " 96%|█████████████████████████████████████████▎ | 48/50 [02:51<00:07,  3.64s/it]"
     ]
    },
    {
     "name": "stdout",
     "output_type": "stream",
     "text": [
      "Color top 10: [258, 35]\n",
      "DCT top 10: [258, 35]\n",
      "LBP top 10: [258, 35]\n",
      "text top 10: [35, 258, 0, 0, 0, 0, 0, 0, 0, 0]\n",
      "Overall top 10: [258, 35, 0, 0, 0, 0, 0, 0, 0, 0]\n",
      "---------\n",
      "---------\n",
      "\n",
      "\n",
      "00048 :\n"
     ]
    },
    {
     "name": "stderr",
     "output_type": "stream",
     "text": [
      "\r",
      " 98%|██████████████████████████████████████████▏| 49/50 [02:52<00:02,  2.76s/it]"
     ]
    },
    {
     "name": "stdout",
     "output_type": "stream",
     "text": [
      "Color top 10: [35, 258]\n",
      "DCT top 10: [35, 258]\n",
      "LBP top 10: [35, 258]\n",
      "text top 10: [35, 258, 0, 0, 0, 0, 0, 0, 0, 0]\n",
      "Overall top 10: [35, 258, 0, 0, 0, 0, 0, 0, 0, 0]\n",
      "---------\n",
      "---------\n",
      "\n",
      "\n",
      "00049 :\n"
     ]
    },
    {
     "name": "stderr",
     "output_type": "stream",
     "text": [
      "100%|███████████████████████████████████████████| 50/50 [02:54<00:00,  3.50s/it]"
     ]
    },
    {
     "name": "stdout",
     "output_type": "stream",
     "text": [
      "Color top 10: [147, 58, 78, 248, 56, 35, 23, 237, 278, 234]\n",
      "DCT top 10: [6, 78, 164, 36, 108, 65, 209, 53, 106, 147]\n",
      "LBP top 10: [225, 57, 168, 259, 218, 192, 140, 223, 103, 201]\n",
      "text top 10: [75, 0, 0, 0, 0, 0, 0, 0, 0, 0]\n",
      "Overall top 10: [147, 78, 6, 58, 225, 248, 56, 57, 164, 35]\n",
      "---------\n",
      "---------\n",
      "\n",
      "\n"
     ]
    },
    {
     "name": "stderr",
     "output_type": "stream",
     "text": [
      "\n"
     ]
    }
   ],
   "source": [
    "QST1_W3_PATH = './qst1_w3/'\n",
    "QST2_W3_PATH = './qst2_w3/'\n",
    "\n",
    "qst1_w3 = get_dict_from_data(QST1_W3_PATH)\n",
    "qst2_w3 = get_dict_from_data(QST2_W3_PATH)\n",
    "\n",
    "resultados_qst2 = task4(qst2_w3,None)\n",
    "resultados_qst1 = task4_test1(qst1_w3)"
   ]
  },
  {
   "cell_type": "code",
   "execution_count": 79,
   "id": "de696c2b",
   "metadata": {},
   "outputs": [],
   "source": [
    "with open('./QST2/result.pkl', 'wb') as f:\n",
    "    pickle.dump(resultados_qst2[3], f)\n",
    "\n",
    "with open('./QST1/result.pkl', 'wb') as f:\n",
    "    pickle.dump(resultados_qst1[3], f)"
   ]
  },
  {
   "cell_type": "code",
   "execution_count": 82,
   "id": "6b57a78f",
   "metadata": {},
   "outputs": [],
   "source": [
    "with open('./QST2/result.pkl', 'rb') as f:\n",
    "    results = pickle.load(f)\n",
    "    \n"
   ]
  },
  {
   "cell_type": "code",
   "execution_count": 83,
   "id": "c43fd283",
   "metadata": {},
   "outputs": [
    {
     "data": {
      "text/plain": [
       "[[[248, 78, 81, 116, 190, 197, 36, 21, 60, 6]],\n",
       " [[53, 55, 124, 198, 0, 0, 0, 0, 0, 0]],\n",
       " [[225, 248, 51, 58, 82, 215, 163, 130, 137, 168]],\n",
       " [[211, 149, 203, 251, 0, 0, 0, 0, 0, 0]],\n",
       " [[132, 130, 57, 88, 103, 108, 140, 31, 184, 113],\n",
       "  [31, 106, 57, 47, 286, 164, 174, 88, 236, 108],\n",
       "  [271, 135, 69, 234, 232, 84, 132, 63, 237, 275]],\n",
       " [[28, 220, 41, 172, 0, 0, 0, 0, 0, 0], [41, 220, 28, 172, 0, 0, 0, 0, 0, 0]],\n",
       " [[251, 149, 203, 211, 0, 0, 0, 0, 0, 0]],\n",
       " [[25, 242, 8, 0, 0, 0, 0, 0, 0, 0]],\n",
       " [[286, 119, 260, 23, 0, 0, 0, 0, 0, 0]],\n",
       " [[260, 286, 119, 84, 36, 248, 21, 161, 164, 88]],\n",
       " [[170, 228, 225, 215, 154, 160, 51, 259, 130, 248]],\n",
       " [[215, 239, 192, 51, 225, 39, 163, 58, 228, 113]],\n",
       " [[183, 67, 266, 0, 0, 0, 0, 0, 0, 0]],\n",
       " [[76, 249, 43, 136, 0, 0, 0, 0, 0, 0]],\n",
       " [[73, 159, 108, 189, 278, 97, 36, 279, 17, 126],\n",
       "  [27, 0, 0, 0, 0, 0, 0, 0, 0, 0]],\n",
       " [[160, 110, 140, 133, 192, 58, 57, 259, 218, 244]],\n",
       " [[164, 74, 46, 107, 0, 0, 0, 0, 0, 0]],\n",
       " [[32, 109, 246, 210, 282, 0, 0, 0, 0, 0],\n",
       "  [109, 282, 32, 210, 246, 0, 0, 0, 0, 0]],\n",
       " [[199, 34, 0, 0, 0, 0, 0, 0, 0, 0]],\n",
       " [[35, 1, 5, 7, 49, 194, 197, 18, 163, 204],\n",
       "  [35, 258, 0, 0, 0, 0, 0, 0, 0, 0]],\n",
       " [[65, 6, 116, 283, 47, 164, 24, 191, 21, 89]],\n",
       " [[130, 259, 39, 82, 113, 160, 154, 170, 225, 239]],\n",
       " [[92, 184, 202, 22, 0, 0, 0, 0, 0, 0],\n",
       "  [182, 90, 101, 252, 91, 262, 0, 0, 0, 0]],\n",
       " [[128, 176, 0, 0, 0, 0, 0, 0, 0, 0]],\n",
       " [[258, 35, 0, 0, 0, 0, 0, 0, 0, 0]],\n",
       " [[75, 0, 0, 0, 0, 0, 0, 0, 0, 0]],\n",
       " [[81, 82, 137, 104, 130, 163, 51, 225, 154, 276],\n",
       "  [75, 0, 0, 0, 0, 0, 0, 0, 0, 0]],\n",
       " [[200, 12, 0, 0, 0, 0, 0, 0, 0, 0], [12, 200, 0, 0, 0, 0, 0, 0, 0, 0]],\n",
       " [[161, 193, 0, 0, 0, 0, 0, 0, 0, 0]],\n",
       " [[40, 184, 272, 204, 222, 97, 1, 212, 108, 151]]]"
      ]
     },
     "execution_count": 83,
     "metadata": {},
     "output_type": "execute_result"
    }
   ],
   "source": [
    "results"
   ]
  },
  {
   "cell_type": "code",
   "execution_count": null,
   "id": "d914c987",
   "metadata": {},
   "outputs": [],
   "source": []
  }
 ],
 "metadata": {
  "kernelspec": {
   "display_name": "Python 3 (ipykernel)",
   "language": "python",
   "name": "python3"
  },
  "language_info": {
   "codemirror_mode": {
    "name": "ipython",
    "version": 3
   },
   "file_extension": ".py",
   "mimetype": "text/x-python",
   "name": "python",
   "nbconvert_exporter": "python",
   "pygments_lexer": "ipython3",
   "version": "3.11.5"
  }
 },
 "nbformat": 4,
 "nbformat_minor": 5
}
