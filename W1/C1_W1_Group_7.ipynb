{
 "cells": [
  {
   "cell_type": "markdown",
   "id": "c9b5c156-22ff-4b1c-8a67-21cf3844349f",
   "metadata": {},
   "source": [
    "# C1-W1: Content Based Image Retrieval (Week 1)\n",
    "\n",
    "## Team 7\n",
    "- Marco Cordón\n",
    "- Iñaki Lacunza\n",
    "- Cristian Gutiérrez\n",
    "\n",
    "### Summary of the methods we have applied:\n",
    "- **Method 1**: CieLAB + L1 Distance + 64 bins\n",
    "- **Method 2**: RGB + Hellinger Kernel + 8 bins"
   ]
  },
  {
   "cell_type": "code",
   "execution_count": 1,
   "id": "1b1a545c",
   "metadata": {},
   "outputs": [],
   "source": [
    "import os\n",
    "import skimage\n",
    "import matplotlib.pyplot as plt\n",
    "import numpy as np\n",
    "\n",
    "import pandas as pd\n",
    "\n",
    "import cv2\n",
    "import pickle"
   ]
  },
  {
   "cell_type": "markdown",
   "id": "70bbe3c0-db6d-4bf8-b906-49a768895398",
   "metadata": {},
   "source": [
    "### Task 1: Create Museum and query image descriptors\n",
    "\n",
    "<ins>Image Descriptors used</ins>: \n",
    "- **Method 1**: CieLAB concatenated Histograms\n",
    "- **Method 2**: 3D RGB concatenated Histograms\n",
    "\n",
    "The Histograms are normalized."
   ]
  },
  {
   "cell_type": "code",
   "execution_count": 2,
   "id": "0c0f74d3",
   "metadata": {},
   "outputs": [],
   "source": [
    "def get_dict_from_data(path, extension=\".jpg\"):\n",
    "    dictionary = dict()\n",
    "    for file in sorted(os.listdir(path)):\n",
    "        if file.endswith(extension):\n",
    "            key = os.path.splitext(file)[0].split('_').pop()\n",
    "            dictionary[key] = cv2.imread(os.path.join(path, file))\n",
    "            \n",
    "    return dictionary"
   ]
  },
  {
   "cell_type": "code",
   "execution_count": 3,
   "id": "42b622af",
   "metadata": {},
   "outputs": [],
   "source": [
    "def histogram(data, n_channels = 3, color = \"RGB\", mask = None):\n",
    "    \n",
    "    hist_images = dict()\n",
    "    \n",
    "    for k, v in data.items():\n",
    "        # Get image shape for normalization\n",
    "        h, w, c = v.shape\n",
    "        #print(f\"Shape of the {k} image: height->{h}, width->{w}, number of channels->{c}\")\n",
    "        num_values = h*w*c\n",
    "        \n",
    "        # Histogram calculation\n",
    "        \n",
    "        if color == \"RGB\":\n",
    "            \n",
    "            if mask: \n",
    "                red_color = cv2.calcHist([v], [1], mask[k], [8], [0, 256])\n",
    "            else:\n",
    "                red_color = cv2.calcHist([v], [1], None, [8], [0, 256])\n",
    "                \n",
    "            \n",
    "            if mask: \n",
    "                blue_color = cv2.calcHist([v], [0], mask[k], [8], [0, 256])\n",
    "            else:\n",
    "                blue_color = cv2.calcHist([v], [0], None, [8], [0, 256])\n",
    "            \n",
    "            if mask: \n",
    "                green_color = cv2.calcHist([v], [2], mask[k], [8], [0, 256])\n",
    "            else:\n",
    "                green_color = cv2.calcHist([v], [2], None, [8], [0, 256])\n",
    "                \n",
    "               \n",
    "            histogram = np.concatenate((red_color, green_color, blue_color))\n",
    "            histogram /= np.sum(histogram)\n",
    "            \n",
    "            \n",
    "        elif color == \"Lab\":\n",
    "            \n",
    "            v = cv2.cvtColor(v, cv2.COLOR_BGR2Lab)\n",
    "            \n",
    "            if mask: \n",
    "                a = cv2.calcHist([v], [1], mask[k], [64], [0, 256])\n",
    "            else:\n",
    "                a = cv2.calcHist([v], [1], None, [64], [0, 256])\n",
    "                            \n",
    "            if mask: \n",
    "                L = cv2.calcHist([v], [0], mask[k], [64], [0, 256])\n",
    "            else:\n",
    "                L = cv2.calcHist([v], [0], None, [64], [0, 256])\n",
    "                \n",
    "            \n",
    "            if mask: \n",
    "                b = cv2.calcHist([v], [2], mask[k], [64], [0, 256])\n",
    "            else:\n",
    "                b = cv2.calcHist([v], [2], None, [64], [0, 256])\n",
    "                 \n",
    "            histogram = np.concatenate((L, a, b))\n",
    "            histogram /= np.sum(histogram)           \n",
    "            \n",
    "        elif color == \"HSV\":\n",
    "            hsv = cv2.cvtColor(v, cv2.COLOR_BGR2HSV)\n",
    "            \n",
    "            if mask: \n",
    "                s = cv2.calcHist([v], [1], mask[k], [64], [0, 256])\n",
    "            else:\n",
    "                s = cv2.calcHist([v], [1], None, [64], [0, 256])\n",
    "                \n",
    "            \n",
    "            if mask: \n",
    "                h = cv2.calcHist([v], [0], mask[k], [64], [0, 256])\n",
    "            else:\n",
    "                h = cv2.calcHist([v], [0], None, [64], [0, 256])\n",
    "                \n",
    "            \n",
    "            if mask: \n",
    "                v = cv2.calcHist([v], [2], mask[k], [64], [0, 256])\n",
    "            else:\n",
    "                v = cv2.calcHist([v], [2], None, [64], [0, 256])\n",
    "                        \n",
    "            histogram = np.concatenate((h, s, v))\n",
    "            histogram /= np.sum(histogram)\n",
    "            \n",
    "        hist_images[k] = histogram.flatten()\n",
    "    \n",
    "    return hist_images"
   ]
  },
  {
   "cell_type": "code",
   "execution_count": 4,
   "id": "7bfe701b",
   "metadata": {},
   "outputs": [],
   "source": [
    "def plot_histogram(hist, channels = 3, color=\"rgb\", size = 256):\n",
    "    plt.figure(figsize = (15, 15))\n",
    "    \n",
    "    if color == \"rgb\": \n",
    "        colors = \"rgb\"\n",
    "    else:\n",
    "        colors=[\"black\", \"yellow\", \"brown\"]\n",
    "    \n",
    "    if channels == 3:\n",
    "        fig, axs = plt.subplots(nrows = 1, ncols = channels)\n",
    "        \n",
    "        fig.tight_layout(pad=3.0)\n",
    "        \n",
    "        axs[0].plot(hist[: size], c = colors[0])\n",
    "        axs[0].set_title(\"Channel 1\")\n",
    "        if size == 256: axs[1].set_xticks(range(0, 256, 100))\n",
    "        else: axs[2].set_xticks(range(0, size, 4))\n",
    "        \n",
    "        axs[1].plot(hist[size : size*2], c = colors[1])\n",
    "        axs[1].set_title(\"Channel 2\")\n",
    "        if size == 256: axs[1].set_xticks(range(0, 256, 100))\n",
    "        else: axs[2].set_xticks(range(0, size, 4))\n",
    "        \n",
    "        axs[2].plot(hist[size*2 :], c = colors[2])\n",
    "        axs[2].set_title(\"Channel 3\")\n",
    "        if size == 256: axs[2].set_xticks(range(0, 256, 100))\n",
    "        else: axs[2].set_xticks(range(0, size, 4))\n",
    "        \n",
    "    elif channels == 1:\n",
    "        plt.plot(hist, c = \"black\")\n",
    "        "
   ]
  },
  {
   "cell_type": "markdown",
   "id": "91516797-600c-4484-8f78-308424a7a3d1",
   "metadata": {},
   "source": [
    "### Task 2: Similarity measures\n",
    "\n",
    "<ins>Metrics we are using:</ins>\n",
    "- **Method 1**: L1 Distance (distance metric)\n",
    "- **Method 2**: Hellinger Kernel (similarity metric)\n",
    "\n",
    "We have chosen the metrics for each method based on a simple benchmark performed on the query sets (slides)."
   ]
  },
  {
   "cell_type": "code",
   "execution_count": 5,
   "id": "234fdbcf",
   "metadata": {},
   "outputs": [],
   "source": [
    "def Euclidean(h1, h2):\n",
    "    return np.linalg.norm(h1 - h2)"
   ]
  },
  {
   "cell_type": "code",
   "execution_count": 6,
   "id": "4ce78fdd",
   "metadata": {},
   "outputs": [],
   "source": [
    "def L1_distance(h1, h2):\n",
    "    result = np.subtract(h1, h2)\n",
    "    result = np.absolute(result)\n",
    "    return np.sum(result)"
   ]
  },
  {
   "cell_type": "code",
   "execution_count": 7,
   "id": "6bae4852",
   "metadata": {},
   "outputs": [],
   "source": [
    "def XSquaredDistance(h1, h2):\n",
    "    result = ((h1 - h2)**2 / (h1 + h2))\n",
    "    result = np.nan_to_num(result, nan = 0.0)\n",
    "    return np.sum(result)"
   ]
  },
  {
   "cell_type": "code",
   "execution_count": 8,
   "id": "c12e50b2",
   "metadata": {},
   "outputs": [],
   "source": [
    "def HistogramIntersection(h1, h2):\n",
    "    return np.sum(np.minimum(h1, h2))"
   ]
  },
  {
   "cell_type": "code",
   "execution_count": 9,
   "id": "f15d6fe3",
   "metadata": {},
   "outputs": [],
   "source": [
    "def HellingerKernel(h1, h2):\n",
    "    x = np.multiply(h1, h2)\n",
    "    x = np.sqrt(x)\n",
    "    return np.sum(x)"
   ]
  },
  {
   "cell_type": "code",
   "execution_count": null,
   "id": "42e9841c",
   "metadata": {},
   "outputs": [],
   "source": []
  },
  {
   "cell_type": "code",
   "execution_count": 10,
   "id": "a34ade0c",
   "metadata": {},
   "outputs": [],
   "source": [
    "def compare(query, database, method):\n",
    "    result = dict()\n",
    "    for k, v in database.items():\n",
    "        if method == \"Euclidean\": result[k] = Euclidean(v, query)\n",
    "        elif method == \"L1\": result[k] = L1_distance(v, query)\n",
    "        elif method == \"X_Squared\": result[k] = XSquaredDistance(v, query)\n",
    "        elif method == \"Histogram_Intersection\": result[k] = HistogramIntersection(v, query)\n",
    "        elif method == \"Hellinger_Kernel\": result[k] = HellingerKernel(v, query)\n",
    "        \n",
    "    return result"
   ]
  },
  {
   "cell_type": "markdown",
   "id": "3266f072",
   "metadata": {},
   "source": [
    "##### Obtaining ground truth indexes:"
   ]
  },
  {
   "cell_type": "code",
   "execution_count": 11,
   "id": "47c892e8",
   "metadata": {},
   "outputs": [],
   "source": [
    "with open('./qsd1_w1/gt_corresps.pkl', 'rb') as f:\n",
    "    cor1 = pickle.load(f)\n",
    "\n",
    "with open('./qsd2_w1/gt_corresps.pkl', 'rb') as f:\n",
    "    cor2 = pickle.load(f)"
   ]
  },
  {
   "cell_type": "markdown",
   "id": "8f9a92dd-9910-4ef1-b7b5-ab4a3737c44f",
   "metadata": {},
   "source": [
    "### Task 3: Retrieval System"
   ]
  },
  {
   "cell_type": "code",
   "execution_count": 12,
   "id": "853a5ce6",
   "metadata": {},
   "outputs": [],
   "source": [
    "def k_neighbours(dictionary, k=10, rev=False):\n",
    "    result_dict = dict(sorted(dictionary.items(), key=lambda item: item[1], reverse=rev))\n",
    "    return [int(keys) for keys,v in result_dict.items()][:k]"
   ]
  },
  {
   "cell_type": "markdown",
   "id": "f0cc0ea6-b103-4409-8731-9ac4733ea1a5",
   "metadata": {},
   "source": [
    "### Task 4: Evaluation using map@k\n",
    "\n",
    "We are using the ml_metrics functions locally."
   ]
  },
  {
   "cell_type": "code",
   "execution_count": 13,
   "id": "93057c2f",
   "metadata": {},
   "outputs": [],
   "source": [
    "def apk(actual, predicted, k=10):\n",
    "    if len(predicted)>k:\n",
    "        predicted = predicted[:k]\n",
    "\n",
    "    score = 0.0\n",
    "    num_hits = 0.0\n",
    "\n",
    "    for i,p in enumerate(predicted):\n",
    "        if p in actual and p not in predicted[:i]:\n",
    "            num_hits += 1.0\n",
    "            score += num_hits / (i+1.0)\n",
    "\n",
    "    if not actual:\n",
    "        return 0.0\n",
    "\n",
    "    return score / min(len(actual), k)\n",
    "\n",
    "def mapk(actual, predicted, k=10):\n",
    "    return np.mean([apk(a,p,k) for a,p in zip(actual, predicted)])"
   ]
  },
  {
   "cell_type": "code",
   "execution_count": 14,
   "id": "1722dada",
   "metadata": {},
   "outputs": [],
   "source": [
    "def calculateMAPK(histograms, histograms_bbdd, method, ground_truth = None, topK=10, rev = False):\n",
    "    apk_list = []\n",
    "              \n",
    "    for k, v in histograms.items():\n",
    "        apk_list += [k_neighbours(compare(v, histograms_bbdd, method), topK, rev = rev)]\n",
    "      \n",
    "    if ground_truth:\n",
    "        #print(ground_truth)\n",
    "        #print(apk_list)\n",
    "        return mapk(actual=ground_truth, predicted=apk_list, k=topK)\n",
    "    else:\n",
    "        return apk_list\n",
    "    "
   ]
  },
  {
   "cell_type": "markdown",
   "id": "37ee4222-3636-44db-9a0a-885817406674",
   "metadata": {},
   "source": [
    "### Task 5: Background removal using color\n",
    "\n",
    "We are using an **Otsu threshold** + **Morphological operations**.\n",
    "\n",
    "More precisely the following steps:\n",
    "1) Gaussian blur\n",
    "\n",
    "2) Otsu Threshold\n",
    "\n",
    "3) Normalization\n",
    "\n",
    "4) Morphological operations:\n",
    "\n",
    "    4.1) Gradient\n",
    "    \n",
    "    4.2) Or (Gradient + Otsu Threshold)\n",
    "    \n",
    "    4.3) 2x Closing\n",
    "    \n",
    "    4.4) Opening\n",
    "    \n",
    "    4.5) Closing\n",
    "    \n",
    "    4.6) Erode\n",
    "    \n",
    "\n",
    "\n",
    "The kernel size used for the morphological operations is relative to the image size."
   ]
  },
  {
   "cell_type": "code",
   "execution_count": 15,
   "id": "214630d8",
   "metadata": {},
   "outputs": [],
   "source": [
    "def get_mask_with_percentages(img, path=None):\n",
    "    # 1.\n",
    "    blur_img = cv2.GaussianBlur(img[:,:,0], (25,25), 0)\n",
    "            \n",
    "    # 2. \n",
    "    ret2, th2 = cv2.threshold(blur_img, 0, 255, cv2.THRESH_BINARY+cv2.THRESH_OTSU)\n",
    "    \n",
    "    # 3.\n",
    "    th2 = th2 / 255.0\n",
    "    \n",
    "    # Calculting the kernel size relative to the image size\n",
    "    h, w, c = img.shape\n",
    "    \n",
    "    hper = 0.05\n",
    "    wper = 0.05\n",
    "    \n",
    "    hker = int(h * hper)\n",
    "    wker = int(w * wper)\n",
    "    \n",
    "    # 4.\n",
    "    # Gradient\n",
    "    kernel = np.ones((hker, wker),np.uint8)\n",
    "    gradient = cv2.morphologyEx(th2, cv2.MORPH_GRADIENT, kernel, cv2.BORDER_CONSTANT, borderValue=1)\n",
    "    \n",
    "    # We need to invert the mask\n",
    "    th2 = 1 - th2\n",
    "    \n",
    "    # Or\n",
    "    mask = (th2 == 1) + (gradient == 1)\n",
    "    mask = (255* mask).astype(np.uint8)\n",
    "    \n",
    "    # 2x Closing\n",
    "    kernel_closing1 = np.ones((int(hker*0.5), int(wker*0.5)), np.uint8)\n",
    "    closing1 = cv2.morphologyEx(mask, cv2.MORPH_CLOSE, kernel_closing1)\n",
    "    kernel_closing2 = np.ones((int(hker*1.), int(wker*1.)), np.uint8)\n",
    "    closing2 = cv2.morphologyEx(closing1, cv2.MORPH_CLOSE, kernel_closing2)\n",
    "    \n",
    "    # Opening:\n",
    "    kernel_opening = np.ones((int(hker),int(wker)),np.uint8)\n",
    "    opening = cv2.morphologyEx(closing2, cv2.MORPH_OPEN, kernel_opening)\n",
    "    \n",
    "    # 3.rd Closing\n",
    "    kernel_closing3 = np.ones((int(hker*1.25), int(wker*1.25)),np.uint8)\n",
    "    closing3 = cv2.morphologyEx(opening, cv2.MORPH_CLOSE, kernel_closing3)\n",
    "    \n",
    "    # Erosion\n",
    "    kernel_erode = np.ones((int(hker*1.), int(wker*1.)),np.uint8)\n",
    "    erode = cv2.erode(closing3, kernel_erode)        \n",
    "    \n",
    "    # Preprocessing steps visualization:\n",
    "    \"\"\"\n",
    "    plt.axis(\"off\")\n",
    "    fig, ax = plt.subplots(nrows=3, ncols=3)\n",
    "    \n",
    "    ax[0, 0].imshow(img)\n",
    "    ax[0, 1].imshow(th2, cmap = \"gray\") # blur\n",
    "    ax[0, 2].imshow(gradient, cmap = \"gray\") # gradient\n",
    "    ax[1, 0].imshow(mask, cmap = \"gray\") # or\n",
    "    ax[1, 1].imshow(closing1, cmap = \"gray\") # closing1\n",
    "    ax[1, 2].imshow(closing2, cmap = \"gray\") # closing2\n",
    "    ax[2, 0].imshow(opening, cmap = \"gray\") # opening\n",
    "    ax[2, 1].imshow(closing3, cmap = \"gray\") # closing3\n",
    "    ax[2, 1].imshow(erode, cmap = \"gray\") # erode\n",
    "    \n",
    "    \"\"\"\n",
    "\n",
    "    return erode\n",
    "    "
   ]
  },
  {
   "cell_type": "markdown",
   "id": "073f73ca-a0f9-4a83-bbdb-69732a82ec42",
   "metadata": {},
   "source": [
    "### Task 6: Evaluation of picture masks and retrieval system"
   ]
  },
  {
   "cell_type": "code",
   "execution_count": 16,
   "id": "a0c93f71",
   "metadata": {},
   "outputs": [],
   "source": [
    "def get_masks_and_comparisons(query_set, path = None):\n",
    "    correct_masks = get_dict_from_data(path=QSD2_PATH, extension=\".png\")\n",
    "    \n",
    "    all_results = dict()\n",
    "    masks = dict()\n",
    "    \n",
    "    for name, mask in correct_masks.items():\n",
    "        mask = cv2.cvtColor(mask ,cv2.COLOR_BGR2GRAY)\n",
    "        predicted_mask = get_mask_with_percentages(query_set[name])\n",
    "        \n",
    "        # If path is True, save masks in a specified path. For saving test masks\n",
    "        if path:\n",
    "            if not os.path.exists(path):\n",
    "                os.makedirs(path)\n",
    "                \n",
    "            filename = os.path.join(path, name + \".png\")\n",
    "            cv2.imwrite(filename, predicted_mask)\n",
    "        \n",
    "        # Compute metrics\n",
    "        tp  = ((mask == 255) & (predicted_mask == 255)).sum()\n",
    "        \n",
    "        fn = ((mask == 255) & (predicted_mask == 0)).sum()\n",
    "        \n",
    "        fp = ((mask == 0) & (predicted_mask == 255)).sum()\n",
    "        \n",
    "        tn = ((mask == 0) & (predicted_mask == 0)).sum()\n",
    "        \n",
    "        #print(f\"True Positives: {tp}  ,  False Negatives: {fn}  , False Positives: {fp}  ,  True Negatives: {tn}\")\n",
    "        #print(f\"Total number of pixels: {tp + fn + fp + tn}\")\n",
    "        \n",
    "        # Compute precision, recall and F1\n",
    "        precision = tp / (tp + fp)\n",
    "        recall = tp / (tp + fn)\n",
    "        f1 = 2 * precision * recall / (precision + recall) \n",
    "        #print(f\"Precision: {precision} , Recall: {recall} , F1: {f1}\")\n",
    "        \n",
    "        #print()\n",
    "        #print()\n",
    "        \n",
    "        \n",
    "        result = {\"precision\": precision, \"recall\": recall, \"f1\": f1}\n",
    "        all_results[name] = result\n",
    "        masks[name] = predicted_mask\n",
    "        \n",
    "    dataframe = pd.DataFrame.from_dict(all_results)\n",
    "\n",
    "    # Return results as dictionary and dataframe for comparing\n",
    "    # And return the computed masks to apply them on the second query set\n",
    "    return all_results, dataframe, masks"
   ]
  },
  {
   "cell_type": "code",
   "execution_count": 17,
   "id": "10e6cfa3",
   "metadata": {},
   "outputs": [],
   "source": [
    "def get_masks(query_set, path = None):\n",
    "    \n",
    "    masks = dict()\n",
    "    \n",
    "    for name, img in query_set.items():\n",
    "        #mask = cv2.cvtColor(mask ,cv2.COLOR_BGR2GRAY)\n",
    "        predicted_mask = get_mask_with_percentages(query_set[name])\n",
    "        \n",
    "        # If path is True, save masks in a specified path. For saving test masks\n",
    "        if path:\n",
    "            if not os.path.exists(path):\n",
    "                os.makedirs(path)\n",
    "                \n",
    "            filename = os.path.join(path, name + \".png\")\n",
    "            cv2.imwrite(filename, predicted_mask)\n",
    "            \n",
    "        masks[name] = predicted_mask\n",
    "        \n",
    "    return masks\n",
    "        \n",
    "        "
   ]
  },
  {
   "cell_type": "code",
   "execution_count": null,
   "id": "c5b83025",
   "metadata": {},
   "outputs": [],
   "source": []
  },
  {
   "cell_type": "code",
   "execution_count": 18,
   "id": "d100a37e",
   "metadata": {},
   "outputs": [],
   "source": [
    "def apply_mask(querys, masks):\n",
    "    \n",
    "    masked_qs = dict()\n",
    "    \n",
    "    for name, img in querys.items():\n",
    "        img_mask = masks[name]\n",
    "        \n",
    "        masked_image = cv2.bitwise_and(img, img, mask = img_mask.astype(np.uint8))\n",
    "        masked_qs[name] = masked_image\n",
    "\n",
    "    return masked_qs"
   ]
  },
  {
   "cell_type": "code",
   "execution_count": null,
   "id": "5248e553",
   "metadata": {},
   "outputs": [],
   "source": []
  },
  {
   "cell_type": "markdown",
   "id": "a0dfd47e",
   "metadata": {},
   "source": [
    "# Task 1-4"
   ]
  },
  {
   "cell_type": "markdown",
   "id": "6a5279f4",
   "metadata": {},
   "source": [
    "## Method1: CIELab, L1 distance, 64 bins"
   ]
  },
  {
   "cell_type": "code",
   "execution_count": 19,
   "id": "096a2e7b",
   "metadata": {},
   "outputs": [
    {
     "name": "stdout",
     "output_type": "stream",
     "text": [
      "Query Set 1 Lab results:\n",
      " k=1 -> 0.5333333333333333 \n",
      " k=5 -> 0.5994444444444444 \n",
      "\n",
      "\n",
      "Query Set 2 Lab results no masks:\n",
      " k=1 -> 0.13333333333333333 \n",
      " k=5 -> 0.14 \n",
      "\n",
      "\n"
     ]
    }
   ],
   "source": [
    "BBDD_PATH = './BBDD/'\n",
    "QSD1_PATH = './qsd1_w1/'\n",
    "QSD2_PATH = './qsd2_w1/'\n",
    "\n",
    "bbdd = get_dict_from_data(BBDD_PATH)\n",
    "qsd1 = get_dict_from_data(QSD1_PATH)\n",
    "qsd2 = get_dict_from_data(QSD2_PATH)\n",
    "\n",
    "histograms_bbdd_Lab = histogram(bbdd, color = \"Lab\")\n",
    "histograms_qsd1_Lab = histogram(qsd1, color = \"Lab\")\n",
    "histograms_qsd2_Lab = histogram(qsd2, color = \"Lab\")\n",
    "\n",
    "\n",
    "with open('./qsd1_w1/gt_corresps.pkl', 'rb') as f:\n",
    "    cor1 = pickle.load(f)\n",
    "\n",
    "with open('./qsd2_w1/gt_corresps.pkl', 'rb') as f:\n",
    "    cor2 = pickle.load(f)\n",
    "\n",
    "    \n",
    "MAPK_QS1_Lab_1 = calculateMAPK(histograms_qsd1_Lab, histograms_bbdd_Lab, \"L1\", cor1, 1, rev = False)\n",
    "MAPK_QS1_Lab_5 = calculateMAPK(histograms_qsd1_Lab, histograms_bbdd_Lab, \"L1\", cor1, 5, rev = False)\n",
    "\n",
    "print(f\"Query Set 1 Lab results:\\n k=1 -> {MAPK_QS1_Lab_1} \\n k=5 -> {MAPK_QS1_Lab_5} \\n\\n\")\n",
    "\n",
    "MAPK_QS2_Lab_1_no_mask = calculateMAPK(histograms_qsd2_Lab, histograms_bbdd_Lab, \"L1\", cor2, 1, rev = False)\n",
    "MAPK_QS2_Lab_5_no_mask = calculateMAPK(histograms_qsd2_Lab, histograms_bbdd_Lab, \"L1\", cor2, 5, rev = False)\n",
    "\n",
    "print(f\"Query Set 2 Lab results no masks:\\n k=1 -> {MAPK_QS2_Lab_1_no_mask} \\n k=5 -> {MAPK_QS2_Lab_5_no_mask} \\n\\n\")"
   ]
  },
  {
   "cell_type": "markdown",
   "id": "0cf33f6d",
   "metadata": {},
   "source": [
    "## Method 2: RGB, HellingerKernel, 8 bins"
   ]
  },
  {
   "cell_type": "code",
   "execution_count": 20,
   "id": "eef394fd",
   "metadata": {},
   "outputs": [
    {
     "name": "stdout",
     "output_type": "stream",
     "text": [
      "Query Set 1 Method 2 results:\n",
      " k=1 -> 0.43333333333333335 \n",
      " k=5 -> 0.45 \n",
      "\n",
      "\n",
      "Query Set 2 Method 2 results no masks:\n",
      " k=1 -> 0.0 \n",
      " k=5 -> 0.04 \n",
      "\n",
      "\n"
     ]
    }
   ],
   "source": [
    "BBDD_PATH = './BBDD/'\n",
    "QSD1_PATH = './qsd1_w1/'\n",
    "QSD2_PATH = './qsd2_w1/'\n",
    "\n",
    "bbdd = get_dict_from_data(BBDD_PATH)\n",
    "qsd1 = get_dict_from_data(QSD1_PATH)\n",
    "qsd2 = get_dict_from_data(QSD2_PATH)\n",
    "\n",
    "histograms_bbdd_RGB = histogram(bbdd, color = \"RGB\")\n",
    "histograms_qsd1_RGB = histogram(qsd1, color = \"RGB\")\n",
    "histograms_qsd2_RGB = histogram(qsd2, color = \"RGB\")\n",
    "\n",
    "\n",
    "with open('./qsd1_w1/gt_corresps.pkl', 'rb') as f:\n",
    "    cor1 = pickle.load(f)\n",
    "\n",
    "with open('./qsd2_w1/gt_corresps.pkl', 'rb') as f:\n",
    "    cor2 = pickle.load(f)\n",
    "\n",
    "    \n",
    "MAPK_QS1_RGB_1 = calculateMAPK(histograms_qsd1_RGB, histograms_bbdd_RGB, \"Hellinger_Kernel\", cor1, 1, rev = True)\n",
    "MAPK_QS1_RGB_5 = calculateMAPK(histograms_qsd1_RGB, histograms_bbdd_RGB, \"Hellinger_Kernel\", cor1, 5, rev = True)\n",
    " \n",
    "print(f\"Query Set 1 Method 2 results:\\n k=1 -> {MAPK_QS1_RGB_1} \\n k=5 -> {MAPK_QS1_RGB_5} \\n\\n\")\n",
    "\n",
    "MAPK_QS2_RGB_1_no_mask = calculateMAPK(histograms_qsd2_RGB, histograms_bbdd_RGB, \"Hellinger_Kernel\", cor2, 1, rev = True)\n",
    "MAPK_QS2_RGB_5_no_mask = calculateMAPK(histograms_qsd2_RGB, histograms_bbdd_RGB, \"Hellinger_Kernel\", cor2, 5, rev = True)\n",
    "\n",
    "print(f\"Query Set 2 Method 2 results no masks:\\n k=1 -> {MAPK_QS2_RGB_1_no_mask} \\n k=5 -> {MAPK_QS2_RGB_5_no_mask} \\n\\n\")"
   ]
  },
  {
   "cell_type": "markdown",
   "id": "eeb1b4bb",
   "metadata": {},
   "source": [
    "# Task 5-6"
   ]
  },
  {
   "cell_type": "markdown",
   "id": "1ac655b0",
   "metadata": {},
   "source": [
    "## Method 1: CIELab, L1 distance, 64 bins"
   ]
  },
  {
   "cell_type": "code",
   "execution_count": 21,
   "id": "4a0816d8",
   "metadata": {},
   "outputs": [
    {
     "name": "stdout",
     "output_type": "stream",
     "text": [
      "precision    0.836096\n",
      "recall       0.916969\n",
      "f1           0.868773\n",
      "dtype: float64 \n",
      "\n",
      "\n",
      "Query Set 2 Method 1 results with masks:\n",
      " k=1 -> 0.4 \n",
      " k=5 -> 0.45000000000000007 \n",
      "\n",
      "\n"
     ]
    }
   ],
   "source": [
    "BBDD_PATH = './BBDD/'\n",
    "QSD2_PATH = './qsd2_w1/'\n",
    "\n",
    "bbdd = get_dict_from_data(BBDD_PATH)\n",
    "qsd2 = get_dict_from_data(QSD2_PATH)\n",
    "\n",
    "histograms_bbdd_Lab = histogram(bbdd, color = \"Lab\")\n",
    "\n",
    "all_results, dataframe, masks = get_masks_and_comparisons(qsd2)\n",
    "\n",
    "dataframe_mean = dataframe.mean(axis=1)\n",
    "print(f\"{dataframe_mean} \\n\\n\")\n",
    "\n",
    "masked_histograms_Lab = histogram(qsd2, mask = masks, color=\"Lab\")\n",
    "\n",
    "MAPK_QS2_Lab_1_mask = calculateMAPK(masked_histograms_Lab, histograms_bbdd_Lab, \"L1\", cor2, 1, rev = False)\n",
    "MAPK_QS2_Lab_5_mask = calculateMAPK(masked_histograms_Lab, histograms_bbdd_Lab, \"L1\", cor2, 5, rev = False)\n",
    "\n",
    "print(f\"Query Set 2 Method 1 results with masks:\\n k=1 -> {MAPK_QS2_Lab_1_mask} \\n k=5 -> {MAPK_QS2_Lab_5_mask} \\n\\n\")"
   ]
  },
  {
   "cell_type": "markdown",
   "id": "97086eb6",
   "metadata": {},
   "source": [
    "## Method 2: RGB, Hellinger Kernel, 8 bins"
   ]
  },
  {
   "cell_type": "code",
   "execution_count": 22,
   "id": "650521b7",
   "metadata": {},
   "outputs": [
    {
     "name": "stdout",
     "output_type": "stream",
     "text": [
      "precision    0.836096\n",
      "recall       0.916969\n",
      "f1           0.868773\n",
      "dtype: float64 \n",
      "\n",
      "\n",
      "Query Set 2 Method 2 results with masks:\n",
      " k=1 -> 0.3 \n",
      " k=5 -> 0.3444444444444444 \n",
      "\n",
      "\n"
     ]
    }
   ],
   "source": [
    "BBDD_PATH = './BBDD/'\n",
    "QSD2_PATH = './qsd2_w1/'\n",
    "\n",
    "bbdd = get_dict_from_data(BBDD_PATH)\n",
    "qsd2 = get_dict_from_data(QSD2_PATH)\n",
    "\n",
    "histograms_bbdd_RGB = histogram(bbdd, color = \"RGB\")\n",
    "\n",
    "all_results, dataframe, masks = get_masks_and_comparisons(qsd2)\n",
    "\n",
    "dataframe_mean = dataframe.mean(axis=1)\n",
    "print(f\"{dataframe_mean} \\n\\n\")\n",
    "\n",
    "masked_histograms_RGB = histogram(qsd2, mask = masks, color=\"RGB\")\n",
    "\n",
    "MAPK_QS2_RGB_1_mask = calculateMAPK(masked_histograms_RGB, histograms_bbdd_RGB, \"Hellinger_Kernel\", cor2, 1, rev = True)\n",
    "MAPK_QS2_RGB_5_mask = calculateMAPK(masked_histograms_RGB, histograms_bbdd_RGB, \"Hellinger_Kernel\", cor2, 5, rev = True)\n",
    "\n",
    "print(f\"Query Set 2 Method 2 results with masks:\\n k=1 -> {MAPK_QS2_RGB_1_mask} \\n k=5 -> {MAPK_QS2_RGB_5_mask} \\n\\n\")"
   ]
  },
  {
   "cell_type": "code",
   "execution_count": null,
   "id": "5f3eb57d",
   "metadata": {},
   "outputs": [],
   "source": []
  }
 ],
 "metadata": {
  "kernelspec": {
   "display_name": "Python 3 (ipykernel)",
   "language": "python",
   "name": "python3"
  },
  "language_info": {
   "codemirror_mode": {
    "name": "ipython",
    "version": 3
   },
   "file_extension": ".py",
   "mimetype": "text/x-python",
   "name": "python",
   "nbconvert_exporter": "python",
   "pygments_lexer": "ipython3",
   "version": "3.11.5"
  }
 },
 "nbformat": 4,
 "nbformat_minor": 5
}
