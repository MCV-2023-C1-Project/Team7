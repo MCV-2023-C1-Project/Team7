{
 "cells": [
  {
   "cell_type": "markdown",
   "id": "cf17ede6-96cd-44b5-975a-6101a69e0897",
   "metadata": {},
   "source": [
    "# C1: Content Based Image Retrieval (Week 2)\n",
    "## Team 7\n",
    "* Marco Cordón\n",
    "* Iñaki Lacunza\n",
    "* Cristian Gutiérrez\n",
    "\n",
    "#### Summary of the methods we have applied for Week 2 tests:\n",
    "* **Method 1**: CieLAB + 2D & 1D Histograms of 32 bins + Histogram Intersection\n",
    "* **Method 2**: RGB + 3D Histograms of 16 bins + Histogram_Intersection"
   ]
  },
  {
   "cell_type": "code",
   "execution_count": 1,
   "id": "c43f48d2",
   "metadata": {},
   "outputs": [],
   "source": [
    "import cv2\n",
    "import os\n",
    "import skimage\n",
    "import matplotlib.pyplot as plt\n",
    "import numpy as np\n",
    "import pandas as pd\n",
    "import pickle\n",
    "import math"
   ]
  },
  {
   "cell_type": "code",
   "execution_count": 2,
   "id": "c5661bea",
   "metadata": {},
   "outputs": [],
   "source": [
    "def get_dict_from_data(path, extension=\".jpg\"):\n",
    "    dictionary = dict()\n",
    "    for file in sorted(os.listdir(path)):\n",
    "        if file.endswith(extension):\n",
    "            key = os.path.splitext(file)[0].split('_').pop()\n",
    "            dictionary[key] = cv2.imread(os.path.join(path, file))\n",
    "            \n",
    "    return dictionary"
   ]
  },
  {
   "cell_type": "code",
   "execution_count": 3,
   "id": "b1566563",
   "metadata": {},
   "outputs": [],
   "source": [
    "BBDD_PATH = './BBDD/'\n",
    "QSD2_W1_PATH = './qsd2_w1/'\n",
    "QSD1_W2_PATH = './qsd1_w2/'\n",
    "QSD2_W2_PATH = './qsd2_w2/'\n",
    "\n",
    "bbdd = get_dict_from_data(BBDD_PATH)\n",
    "qsd2_w1 = get_dict_from_data(QSD2_W1_PATH)\n",
    "qsd1_w2 = get_dict_from_data(QSD1_W2_PATH)\n",
    "qsd2_w2 = get_dict_from_data(QSD2_W2_PATH)\n",
    "qsd2_w2_masks = get_dict_from_data(QSD2_W2_PATH, extension=\".png\")"
   ]
  },
  {
   "cell_type": "code",
   "execution_count": 4,
   "id": "c489a347",
   "metadata": {},
   "outputs": [],
   "source": [
    "QST1_W2_PATH = './qst1_w2/'\n",
    "qst1_w2 = get_dict_from_data(QST1_W2_PATH)\n",
    "\n",
    "QST2_W2_PATH = './qst2_w2/'\n",
    "qst2_w2 = get_dict_from_data(QST2_W2_PATH)"
   ]
  },
  {
   "cell_type": "markdown",
   "id": "b2e1f2d8",
   "metadata": {},
   "source": [
    "## Task 1: Multi-resolution Block-based Histograms\n",
    "\n",
    "Each level of multi-resolution L will divide our image in 2^(L-1) blocks for each side x and y.\n",
    "\n",
    "We have implemented both 3D and 2D + 1D. The later will be mostly used for the CieLAB first channel L that represents Luminosity."
   ]
  },
  {
   "cell_type": "code",
   "execution_count": 5,
   "id": "5049034e",
   "metadata": {},
   "outputs": [],
   "source": [
    "def get_2d1d_hist(img, bins, mask = None):\n",
    "    \n",
    "    full_histogram = np.array([])\n",
    "    \n",
    "    if mask is not None: hist_1d = cv2.calcHist([img], [0], mask, [bins], [0, 256])\n",
    "    else: hist_1d = cv2.calcHist([img], [0], None, [bins], [0, 256])\n",
    "    if np.sum(hist_1d != 0): hist_1d /= np.sum(hist_1d)\n",
    "    \n",
    "    if mask is not None: hist_2d = cv2.calcHist([img, img], [1, 2], mask, [bins, bins], [0, 256, 0, 256])\n",
    "    else: hist_2d = cv2.calcHist([img, img], [1, 2], None, [bins, bins], [0, 256, 0, 256])\n",
    "    if np.sum(hist_2d != 0): hist_2d /= np.sum(hist_2d)\n",
    "    \n",
    "    hist = np.concatenate((hist_1d.flatten(), hist_2d.flatten()))\n",
    "\n",
    "    return hist    "
   ]
  },
  {
   "cell_type": "code",
   "execution_count": 6,
   "id": "3c53c09d",
   "metadata": {},
   "outputs": [],
   "source": [
    "def histogram_by_block(img, n_blocks_x, n_blocks_y, bins = 8, dim = \"2d1d\", mask = None):\n",
    "    \n",
    "    M = math.ceil(img.shape[0]/n_blocks_x)\n",
    "    N = math.ceil(img.shape[1]/n_blocks_y)\n",
    "    tiles = [img[x:x+M, y:y+N] for x in range(0, img.shape[0], M) for y in range(0, img.shape[1], N)]\n",
    "    \n",
    "    if mask is not None: \n",
    "        mask_tiles = [mask[x:x+M,y:y+N] for x in range(0, img.shape[0],M) for y in range(0, img.shape[1], N)]\n",
    "       \n",
    "    histogram = np.array([])\n",
    "    \n",
    "    for i in range(len(tiles)):\n",
    "        if dim == \"3\":\n",
    "            if mask is not None: tile_hist = cv2.calcHist([tiles[i], tiles[i], tiles[i]], [0, 1, 2], mask_tiles[i], [bins, bins, bins], [0, 256, 0, 256, 0, 256])\n",
    "            else: tile_hist = cv2.calcHist([tiles[i]], [0, 1, 2], None, [bins, bins, bins], [0, 256, 0, 256, 0, 256])\n",
    "        \n",
    "        elif dim == \"2d1d\":           \n",
    "            if mask is not None: tile_hist = get_2d1d_hist(tiles[i], bins, mask = mask_tiles[i])\n",
    "            else: tile_hist = get_2d1d_hist(tiles[i], bins, mask = None)\n",
    "        \n",
    "        if np.sum(tile_hist) != 0:\n",
    "            tile_hist /= np.sum(tile_hist)\n",
    "            \n",
    "        histogram = np.concatenate((histogram, tile_hist.flatten()))\n",
    "\n",
    "    return histogram"
   ]
  },
  {
   "cell_type": "code",
   "execution_count": 7,
   "id": "fdc8902a",
   "metadata": {},
   "outputs": [],
   "source": [
    "def get_full_hist(img, levels = 3, bins = 8, dim = \"2d1d\", color = \"Lab\", mask = None):\n",
    "    \n",
    "    if color == \"Lab\":\n",
    "        image = cv2.cvtColor(img, cv2.COLOR_BGR2Lab)\n",
    "    else: \n",
    "        image = img.copy()\n",
    "    \n",
    "    levels_histogram = np.array([])\n",
    "    \n",
    "    for i in range(levels):\n",
    "        block_hist = histogram_by_block(image, 2**i, 2**i, bins = bins, dim = dim, mask = mask) \n",
    "        levels_histogram = np.concatenate((levels_histogram, block_hist))\n",
    "        \n",
    "    return levels_histogram"
   ]
  },
  {
   "cell_type": "code",
   "execution_count": 8,
   "id": "a37e7435",
   "metadata": {},
   "outputs": [],
   "source": [
    "def get_all_hists(data, levels = 3, bins = 8, dim = \"2d1d\", color = \"Lab\", masks = None):\n",
    "    full_dict = dict()\n",
    "    \n",
    "    for k, v in data.items():\n",
    "        if masks: \n",
    "            if masks[k].ndim == 3:\n",
    "                full_dict[k] = get_full_hist(v, levels = levels, bins = bins, dim = dim, color = color, mask = masks[k][:, :, 0])\n",
    "            else:\n",
    "                full_dict[k] = get_full_hist(v, levels = levels, bins = bins, dim = dim, color = color, mask = masks[k])\n",
    "        \n",
    "        else:\n",
    "            full_dict[k] = get_full_hist(v, levels = levels, bins = bins, dim = dim, color = color, mask = None)\n",
    "        \n",
    "    return full_dict"
   ]
  },
  {
   "cell_type": "markdown",
   "id": "aff71a92",
   "metadata": {},
   "source": [
    "## Task 2: Benchmark and comparision with Week 1 (QSD2_W1)\n",
    "\n",
    "We did a benchmark for the QSD2 of Week 1 using the previous week methods and the multi-resolution block-based methods. The results were improved a lot (slides)."
   ]
  },
  {
   "cell_type": "code",
   "execution_count": 9,
   "id": "69d8fe83",
   "metadata": {},
   "outputs": [],
   "source": [
    "def get_mask_with_percentages(img, path=None):\n",
    "    # 1.\n",
    "    blur_img = cv2.GaussianBlur(img[:,:,0], (25,25), 0)\n",
    "            \n",
    "    # 2. \n",
    "    ret2, th2 = cv2.threshold(blur_img, 0, 255, cv2.THRESH_BINARY+cv2.THRESH_OTSU)\n",
    "    \n",
    "    # 3.\n",
    "    th2 = th2 / 255.0\n",
    "    \n",
    "    # Calculting the kernel size relative to the image size\n",
    "    h, w, c = img.shape\n",
    "    \n",
    "    hper = 0.05\n",
    "    wper = 0.05\n",
    "    \n",
    "    hker = int(h * hper)\n",
    "    wker = int(w * wper)\n",
    "    \n",
    "    # 4.\n",
    "    # Gradient\n",
    "    kernel = np.ones((hker, wker),np.uint8)\n",
    "    gradient = cv2.morphologyEx(th2, cv2.MORPH_GRADIENT, kernel, cv2.BORDER_CONSTANT, borderValue=1)\n",
    "    \n",
    "    # We need to invert the mask\n",
    "    th2 = 1 - th2\n",
    "    \n",
    "    # Or\n",
    "    mask = (th2 == 1) + (gradient == 1)\n",
    "    mask = (255* mask).astype(np.uint8)\n",
    "    \n",
    "    # 2x Closing\n",
    "    kernel_closing1 = np.ones((int(hker*0.5), int(wker*0.5)), np.uint8)\n",
    "    closing1 = cv2.morphologyEx(mask, cv2.MORPH_CLOSE, kernel_closing1)\n",
    "    kernel_closing2 = np.ones((int(hker*1.), int(wker*1.)), np.uint8)\n",
    "    closing2 = cv2.morphologyEx(closing1, cv2.MORPH_CLOSE, kernel_closing2)\n",
    "    \n",
    "    # Opening:\n",
    "    kernel_opening = np.ones((int(hker),int(wker)),np.uint8)\n",
    "    opening = cv2.morphologyEx(closing2, cv2.MORPH_OPEN, kernel_opening)\n",
    "    \n",
    "    # 3.rd Closing\n",
    "    kernel_closing3 = np.ones((int(hker*1.25), int(wker*1.25)),np.uint8)\n",
    "    closing3 = cv2.morphologyEx(opening, cv2.MORPH_CLOSE, kernel_closing3)\n",
    "    \n",
    "    # Erosion\n",
    "    kernel_erode = np.ones((int(hker*1.), int(wker*1.)),np.uint8)\n",
    "    erode = cv2.erode(closing3, kernel_erode)        \n",
    "    \n",
    "    # Preprocessing steps visualization:\n",
    "    \"\"\"\n",
    "    plt.axis(\"off\")\n",
    "    fig, ax = plt.subplots(nrows=3, ncols=3)\n",
    "    \n",
    "    ax[0, 0].imshow(img)\n",
    "    ax[0, 1].imshow(th2, cmap = \"gray\") # blur\n",
    "    ax[0, 2].imshow(gradient, cmap = \"gray\") # gradient\n",
    "    ax[1, 0].imshow(mask, cmap = \"gray\") # or\n",
    "    ax[1, 1].imshow(closing1, cmap = \"gray\") # closing1\n",
    "    ax[1, 2].imshow(closing2, cmap = \"gray\") # closing2\n",
    "    ax[2, 0].imshow(opening, cmap = \"gray\") # opening\n",
    "    ax[2, 1].imshow(closing3, cmap = \"gray\") # closing3\n",
    "    ax[2, 1].imshow(erode, cmap = \"gray\") # erode\n",
    "    \n",
    "    \"\"\"\n",
    "\n",
    "    return erode"
   ]
  },
  {
   "cell_type": "code",
   "execution_count": 10,
   "id": "2a983f5f",
   "metadata": {},
   "outputs": [],
   "source": [
    "def get_masks(query_set, path = None):\n",
    "    \n",
    "    masks = dict()\n",
    "    \n",
    "    for name, img in query_set.items():\n",
    "        #mask = cv2.cvtColor(mask ,cv2.COLOR_BGR2GRAY)\n",
    "        predicted_mask = get_mask_with_percentages(query_set[name])\n",
    "        \n",
    "        # If path is True, save masks in a specified path. For saving test masks\n",
    "        if path:\n",
    "            if not os.path.exists(path):\n",
    "                os.makedirs(path)\n",
    "                \n",
    "            filename = os.path.join(path, name + \".png\")\n",
    "            cv2.imwrite(filename, predicted_mask)\n",
    "            \n",
    "        masks[name] = predicted_mask\n",
    "        \n",
    "    return masks"
   ]
  },
  {
   "cell_type": "code",
   "execution_count": 11,
   "id": "166d6f5d",
   "metadata": {},
   "outputs": [],
   "source": [
    "def apply_mask(querys, masks):\n",
    "    \n",
    "    masked_qs = dict()\n",
    "    \n",
    "    for name, img in querys.items():\n",
    "        img_mask = masks[name]\n",
    "        \n",
    "        masked_image = cv2.bitwise_and(img, img, mask = img_mask.astype(np.uint8))\n",
    "        masked_qs[name] = masked_image\n",
    "\n",
    "    return masked_qs"
   ]
  },
  {
   "cell_type": "code",
   "execution_count": null,
   "id": "fda385cf-a506-472c-882e-b18549e73aa0",
   "metadata": {},
   "outputs": [],
   "source": []
  },
  {
   "cell_type": "code",
   "execution_count": 12,
   "id": "eee12687",
   "metadata": {},
   "outputs": [],
   "source": [
    "def Euclidean(h1, h2):\n",
    "    return np.linalg.norm(h1 - h2)"
   ]
  },
  {
   "cell_type": "code",
   "execution_count": 13,
   "id": "4e4ff30d",
   "metadata": {},
   "outputs": [],
   "source": [
    "def L1_distance(h1, h2):\n",
    "    result = np.subtract(h1, h2)\n",
    "    result = np.absolute(result)\n",
    "    return np.sum(result)"
   ]
  },
  {
   "cell_type": "code",
   "execution_count": 14,
   "id": "0d795507",
   "metadata": {},
   "outputs": [],
   "source": [
    "def XSquaredDistance(h1, h2):\n",
    "    result = ((h1 - h2)**2 / (h1 + h2))\n",
    "    result = np.nan_to_num(result, nan = 0.0)\n",
    "    return np.sum(result)"
   ]
  },
  {
   "cell_type": "code",
   "execution_count": 15,
   "id": "0bb98007",
   "metadata": {},
   "outputs": [],
   "source": [
    "def HistogramIntersection(h1, h2):\n",
    "    return np.sum(np.minimum(h1, h2))"
   ]
  },
  {
   "cell_type": "code",
   "execution_count": 16,
   "id": "0211cef7",
   "metadata": {},
   "outputs": [],
   "source": [
    "def HellingerKernel(h1, h2):\n",
    "    x = np.multiply(h1, h2)\n",
    "    x = np.sqrt(x)\n",
    "    return np.sum(x)"
   ]
  },
  {
   "cell_type": "code",
   "execution_count": null,
   "id": "9900ba5c",
   "metadata": {},
   "outputs": [],
   "source": []
  },
  {
   "cell_type": "code",
   "execution_count": 17,
   "id": "9e9316e4",
   "metadata": {},
   "outputs": [],
   "source": [
    "def compare(query, database, method):\n",
    "    result = dict()\n",
    "    for k, v in database.items():\n",
    "        if method == \"Euclidean\": result[k] = Euclidean(v, query)\n",
    "        elif method == \"L1\": result[k] = L1_distance(v, query)\n",
    "        elif method == \"X_Squared\": result[k] = XSquaredDistance(v, query)\n",
    "        elif method == \"Histogram_Intersection\": result[k] = HistogramIntersection(v, query)\n",
    "        elif method == \"Hellinger_Kernel\": result[k] = HellingerKernel(v, query)\n",
    "        \n",
    "    return result"
   ]
  },
  {
   "cell_type": "code",
   "execution_count": 18,
   "id": "583e63b4",
   "metadata": {},
   "outputs": [],
   "source": [
    "def k_neighbours(dictionary, k=10, rev=False):\n",
    "    result_dict = dict(sorted(dictionary.items(), key=lambda item: item[1], reverse=rev))\n",
    "    return [int(keys) for keys,v in result_dict.items()][:k]"
   ]
  },
  {
   "cell_type": "code",
   "execution_count": null,
   "id": "fc839bf9",
   "metadata": {},
   "outputs": [],
   "source": []
  },
  {
   "cell_type": "code",
   "execution_count": 19,
   "id": "dfc40738-e05c-4797-bdf8-f454f49638ae",
   "metadata": {},
   "outputs": [],
   "source": [
    "def add_list_level(input_list):\n",
    "    out = []\n",
    "    for ll in input_list:\n",
    "        tmp = []\n",
    "        for q in ll:\n",
    "            tmp.append([q])\n",
    "        out.append(tmp)\n",
    "    return (out)\n",
    "\n",
    "list_depth = lambda L: (isinstance(L, list) or isinstance(L, tuple)) and max(map(list_depth, L))+1\n",
    "\n",
    "def compute_mapk(gt,hypo,k_val):\n",
    "\n",
    "    hypo = list(hypo)\n",
    "    if list_depth(hypo) == 2:\n",
    "        hypo = add_list_level(hypo.copy())\n",
    "\n",
    "    apk_list = []\n",
    "    for ii,query in enumerate(gt):\n",
    "        for jj,sq in enumerate(query):\n",
    "            apk_val = 0.0\n",
    "            if len(hypo[ii]) > jj:\n",
    "                apk_val = apk([sq],hypo[ii][jj], k_val)\n",
    "            apk_list.append(apk_val)\n",
    "            \n",
    "    return np.mean(apk_list)"
   ]
  },
  {
   "cell_type": "code",
   "execution_count": 20,
   "id": "426e532d",
   "metadata": {},
   "outputs": [],
   "source": [
    "def apk(actual, predicted, k=10):\n",
    "    if len(predicted)>k:\n",
    "        predicted = predicted[:k]\n",
    "\n",
    "    score = 0.0\n",
    "    num_hits = 0.0\n",
    "\n",
    "    for i,p in enumerate(predicted):\n",
    "        if p in actual and p not in predicted[:i]:\n",
    "            num_hits += 1.0\n",
    "            score += num_hits / (i+1.0)\n",
    "\n",
    "    if not actual:\n",
    "        return 0.0\n",
    "\n",
    "    return score / min(len(actual), k)\n",
    "\n",
    "def mapk(actual, predicted, k=10):\n",
    "    return np.mean([apk(a,p,k) for a,p in zip(actual, predicted)])"
   ]
  },
  {
   "cell_type": "code",
   "execution_count": 21,
   "id": "f062d5af",
   "metadata": {},
   "outputs": [],
   "source": [
    "def calculateMAPK(histograms, histograms_bbdd, method, ground_truth = None, topK=10, rev = False):\n",
    "    apk_list = []\n",
    "              \n",
    "    for k, v in histograms.items():\n",
    "        apk_list += [k_neighbours(compare(v, histograms_bbdd, method), topK, rev = rev)]\n",
    "      \n",
    "    if ground_truth:\n",
    "        #print(ground_truth)\n",
    "        #print(apk_list)\n",
    "        return mapk(actual=ground_truth, predicted=apk_list, k=topK)\n",
    "    else:\n",
    "        return apk_list"
   ]
  },
  {
   "cell_type": "code",
   "execution_count": null,
   "id": "abe0c023",
   "metadata": {},
   "outputs": [],
   "source": []
  },
  {
   "cell_type": "markdown",
   "id": "a83282a3",
   "metadata": {},
   "source": [
    "### Method 1: 2D+1D histograms, Lab color space, 3 levels (1, 4, 16), 256 bins, Hellinger Kernel"
   ]
  },
  {
   "cell_type": "code",
   "execution_count": 22,
   "id": "de0354cd",
   "metadata": {},
   "outputs": [
    {
     "name": "stdout",
     "output_type": "stream",
     "text": [
      "Method1 mAPK using k=1: 0.6333333333333333\n",
      "Method1 mAPK using k=5: 0.6511111111111111\n",
      "Method1 mAPK using k=10: 0.6622222222222223 \n",
      "\n",
      "\n"
     ]
    }
   ],
   "source": [
    "with open('./qsd2_w1/gt_corresps.pkl', 'rb') as f:\n",
    "    cor2_w1 = pickle.load(f)\n",
    "\n",
    "hists_bbdd_Lab = get_all_hists(bbdd, levels = 3, bins = 256, dim = \"2d1d\", color = \"Lab\", masks = None)\n",
    "\n",
    "masks_qsd2_w1 = get_masks(qsd2_w1)\n",
    "hists_qsd2_w1_Lab = get_all_hists(qsd2_w1, levels = 3, bins = 256, dim = \"2d1d\", color = \"Lab\", masks = masks_qsd2_w1)\n",
    "\n",
    "MAPK_method_1_qsd2_w1_k1 = calculateMAPK(hists_qsd2_w1_Lab, hists_bbdd_Lab, \"Hellinger_Kernel\", ground_truth = cor2_w1, topK=1, rev = True)\n",
    "MAPK_method_1_qsd2_w1_k5 = calculateMAPK(hists_qsd2_w1_Lab, hists_bbdd_Lab, \"Hellinger_Kernel\", ground_truth = cor2_w1, topK=5, rev = True)\n",
    "MAPK_method_1_qsd2_w1_k10 = calculateMAPK(hists_qsd2_w1_Lab, hists_bbdd_Lab, \"Hellinger_Kernel\", ground_truth = cor2_w1, topK=10, rev = True)\n",
    "\n",
    "print(f\"Method1 mAPK using k=1: {MAPK_method_1_qsd2_w1_k1}\")\n",
    "print(f\"Method1 mAPK using k=5: {MAPK_method_1_qsd2_w1_k5}\")\n",
    "print(f\"Method1 mAPK using k=10: {MAPK_method_1_qsd2_w1_k10} \\n\\n\")"
   ]
  },
  {
   "cell_type": "code",
   "execution_count": null,
   "id": "773c4e2a",
   "metadata": {},
   "outputs": [],
   "source": []
  },
  {
   "cell_type": "markdown",
   "id": "dda4d514",
   "metadata": {},
   "source": [
    "### Method 2: 3D histograms, RGB color space, 3 levels (1, 4, 16), 8 bins, Histogram Intersection"
   ]
  },
  {
   "cell_type": "code",
   "execution_count": 23,
   "id": "0fbce941",
   "metadata": {},
   "outputs": [
    {
     "name": "stdout",
     "output_type": "stream",
     "text": [
      "Method2 mAPK using k=1: 0.6\n",
      "Method2 mAPK using k=5: 0.6538888888888889\n",
      "Method2 mAPK using k=10: 0.6627777777777778 \n",
      "\n",
      "\n"
     ]
    }
   ],
   "source": [
    "with open('./qsd2_w1/gt_corresps.pkl', 'rb') as f:\n",
    "    cor2_w1 = pickle.load(f)\n",
    "\n",
    "hists_bbdd_RGB = get_all_hists(bbdd, levels = 3, bins = 8, dim = \"3\", color = \"RGB\", masks = None)\n",
    "\n",
    "masks_qsd2_w1 = get_masks(qsd2_w1)\n",
    "hists_qsd2_w1_RGB = get_all_hists(qsd2_w1, levels = 3, bins = 8, dim = \"3\", color = \"RGB\", masks = masks_qsd2_w1)\n",
    "\n",
    "MAPK_method_2_qsd2_w1_k1 = calculateMAPK(hists_qsd2_w1_RGB, hists_bbdd_RGB, \"Histogram_Intersection\", ground_truth = cor2_w1, topK=1, rev = True)\n",
    "MAPK_method_2_qsd2_w1_k5 = calculateMAPK(hists_qsd2_w1_RGB, hists_bbdd_RGB, \"Histogram_Intersection\", ground_truth = cor2_w1, topK=5, rev = True)\n",
    "MAPK_method_2_qsd2_w1_k10 = calculateMAPK(hists_qsd2_w1_RGB, hists_bbdd_RGB, \"Histogram_Intersection\", ground_truth = cor2_w1, topK=10, rev = True)\n",
    "\n",
    "print(f\"Method2 mAPK using k=1: {MAPK_method_2_qsd2_w1_k1}\")\n",
    "print(f\"Method2 mAPK using k=5: {MAPK_method_2_qsd2_w1_k5}\")\n",
    "print(f\"Method2 mAPK using k=10: {MAPK_method_2_qsd2_w1_k10} \\n\\n\")"
   ]
  },
  {
   "cell_type": "code",
   "execution_count": null,
   "id": "c72ed68b",
   "metadata": {},
   "outputs": [],
   "source": []
  },
  {
   "cell_type": "markdown",
   "id": "c311330b",
   "metadata": {},
   "source": [
    "## Task 3: Detect and remove text from images in QSD1-W2"
   ]
  },
  {
   "cell_type": "code",
   "execution_count": 24,
   "id": "0d22ebb8",
   "metadata": {},
   "outputs": [],
   "source": [
    "def get_name_boxs(img):\n",
    "    \n",
    "    h_i, w_i, c = img.shape\n",
    "    \n",
    "    top_limit = int(round(h_i/6))\n",
    "    bottom_limit = int(h_i - top_limit)\n",
    "    \n",
    "    left_area = int(round(w_i/3))\n",
    "    right_area = int(left_area*2)\n",
    "    \n",
    "    area_pixel= int(h_i*w_i)\n",
    "    \n",
    "    # BGR to Lab conversion, and take L channel only\n",
    "    image = cv2.cvtColor(img, cv2.COLOR_BGR2Lab)\n",
    "    imageL = image[:, :, 0]\n",
    "    \n",
    "    # Black hat and top hat separately to the L channel image\n",
    "    kernel = np.ones((2, 10),np.uint8)\n",
    "    thL = cv2.morphologyEx(imageL, cv2.MORPH_TOPHAT, kernel, iterations = 5)\n",
    "    bhL = cv2.morphologyEx(imageL, cv2.MORPH_BLACKHAT, kernel, iterations = 5)\n",
    "    \n",
    "    # Take the highest value pixels, mostly letters\n",
    "    fthL_th = thL.max() - 50\n",
    "    fthL = (thL[:, :] > fthL_th) * 255\n",
    "    fthL = fthL.astype('uint8')    \n",
    "        \n",
    "    fbhL_th = bhL.max() - 50\n",
    "    fbhL = (bhL[:, :] > fbhL_th) * 255\n",
    "    fbhL = fbhL.astype('uint8')\n",
    "    \n",
    "    # OR between top hat and black hat most important pixels\n",
    "    mix = fbhL + fthL\n",
    "    mix = mix>1\n",
    "    mix= mix.astype('uint8')\n",
    "    \n",
    "    # Closing\n",
    "    kernel = np.ones((20, 30),np.uint8)\n",
    "    closing = cv2.morphologyEx(mix, cv2.MORPH_CLOSE, kernel)\n",
    "    \n",
    "    \n",
    "    # Connected Components\n",
    "    analysis = cv2.connectedComponentsWithStats(closing,4, cv2.CV_32S) \n",
    "    (totalLabels, label_ids, values, centroid) = analysis \n",
    "\n",
    "    # Initialize a new image to store  \n",
    "    # all the output components \n",
    "    output = np.zeros(imageL.shape, dtype=\"uint8\") \n",
    "\n",
    "    # Loop through each component \n",
    "    mask = np.zeros([h_i,w_i], dtype=np.uint8)\n",
    "    cont=0\n",
    "    x1_prev= -10000\n",
    "    for i in range(1, totalLabels): \n",
    "        \n",
    "        # Area of the component \n",
    "        area = values[i, cv2.CC_STAT_AREA]  \n",
    "        \n",
    "        (X, Y) = centroid[i]\n",
    "        \n",
    "        if (area >round(area_pixel*0.0009)) and ((Y<top_limit)or(Y>bottom_limit))and ((X>left_area)and(X<right_area)): \n",
    "            x1 = values[i, cv2.CC_STAT_LEFT] \n",
    "            y1 = values[i, cv2.CC_STAT_TOP] \n",
    "            w = values[i, cv2.CC_STAT_WIDTH] \n",
    "            h = values[i, cv2.CC_STAT_HEIGHT]\n",
    "            \n",
    "            pt1 = (x1, y1) \n",
    "            pt2 = (x1+ w, y1+ h)\n",
    "            if (int(x1 - x1_prev) < int(round(w_i/4)) and (int(x1 - x1_prev) > int(round(-w_i/4)))):\n",
    "                roi_corners = np.array([(x1_prev,y1_prev),(x1+w,y1), pt2,(x1_prev,y1+h)], dtype=np.int32)\n",
    "            else:\n",
    "                roi_corners = np.array([pt1,(x1+w,y1), pt2,(x1,y1+h)], dtype=np.int32)\n",
    "                \n",
    "            cv2.fillPoly(mask, [roi_corners], 255)\n",
    "            output = cv2.bitwise_or(output, mask)\n",
    "            cont = cont+1\n",
    "            x1_prev= x1\n",
    "            y1_prev = y1                           \n",
    "                        \n",
    "    if cont == 0:\n",
    "        output = fthL\n",
    "        \n",
    "        \n",
    "    # Closing\n",
    "    kernel2 = np.ones((int(h_i*0.001), int(w_i*0.03)),np.uint8)\n",
    "    closing2 = cv2.morphologyEx(output, cv2.MORPH_CLOSE, kernel2)\n",
    "    \n",
    "    # Dilation\n",
    "    kernel3 = np.ones((int(h_i*0.03), int(w_i*0.003)),np.uint8)\n",
    "    dilate = cv2.dilate(closing2,kernel3)\n",
    "\n",
    "    #print(thL.max())\n",
    "    #print(np.count_nonzero((fthL < 350)&(fthL > 0)))\n",
    "    \n",
    "    # For visualization:\n",
    "    \"\"\"\n",
    "    plt.axis(\"off\")\n",
    "    fig, ax = plt.subplots(nrows=3, ncols=3, figsize = (10, 10))\n",
    "    \n",
    "    ax[0, 0].imshow(dilate, cmap = \"gray\")\n",
    "    ax[0, 1].imshow(closing, cmap = \"gray\")\n",
    "    ax[0, 2].imshow(closing2, cmap = \"gray\")\n",
    "    \n",
    "    ax[1, 0].imshow(thL, cmap = \"gray\")\n",
    "    ax[1, 1].imshow(fthL, cmap = \"gray\")        \n",
    "    ax[1, 2].imshow(mix, cmap = \"gray\")\n",
    "    \n",
    "    ax[2, 0].imshow(bhL, cmap = \"gray\")\n",
    "    ax[2, 1].imshow(fbhL, cmap = \"gray\")\n",
    "    ax[2, 2].imshow(output, cmap = \"gray\")\n",
    "    \"\"\"\n",
    "    \n",
    "    return dilate"
   ]
  },
  {
   "cell_type": "code",
   "execution_count": 25,
   "id": "bbc72eaa",
   "metadata": {},
   "outputs": [],
   "source": [
    "def get_tl_and_br(mask):\n",
    "    \n",
    "    xl = 100000\n",
    "    xr = -1\n",
    "    yu = 100000\n",
    "    yd = -1\n",
    "    \n",
    "    for y in range(mask.shape[0]):\n",
    "        for x in range(mask.shape[1]):\n",
    "            if mask[y, x] == 255:\n",
    "                if x < xl: xl = x\n",
    "                if x > xr: xr = x\n",
    "                if y < yu: yu = y\n",
    "                if y > yd: yd = y\n",
    "    \n",
    "    return (xl, yu), (xr, yd)"
   ]
  },
  {
   "cell_type": "code",
   "execution_count": 26,
   "id": "c2e1c36c",
   "metadata": {},
   "outputs": [],
   "source": [
    "def get_pred_cords(masks_dict):\n",
    "\n",
    "    result = []\n",
    "    for name, mask in masks_dict.items():\n",
    "        tl, br = get_tl_and_br(mask)\n",
    "        result.append([tl[0], tl[1], br[0], br[1]])\n",
    "        \n",
    "    return result"
   ]
  },
  {
   "cell_type": "code",
   "execution_count": 27,
   "id": "710ab676",
   "metadata": {},
   "outputs": [],
   "source": [
    "def get_pred_masks(qs):\n",
    "    \n",
    "    masks_dict = dict()\n",
    "    \n",
    "    for name, img in qs.items():\n",
    "        masks_dict[name] = get_name_boxs(img)\n",
    "    \n",
    "    return masks_dict\n",
    "    "
   ]
  },
  {
   "cell_type": "code",
   "execution_count": 28,
   "id": "1823f313",
   "metadata": {},
   "outputs": [],
   "source": [
    "def get_rectangular_predicted_masks(qs):\n",
    "    masks_dict = dict()\n",
    "    \n",
    "    \n",
    "    for name, img in qs.items():\n",
    "        not_rect_mask = get_name_boxs(img)\n",
    "        \n",
    "        tl, br = get_tl_and_br(not_rect_mask)\n",
    "        tr = (br[0], tl[1])\n",
    "        bl = (tl[0], br[1])\n",
    "        \n",
    "        #print(f\"tl: {tl}, tr:{tr}, bl: {bl}, br: {br}\")\n",
    "        \n",
    "        rect_mask = np.zeros((img.shape[0], img.shape[1]), dtype = np.uint8)\n",
    "        roi_corners = np.array([tl, tr, br, bl], dtype = np.int32)\n",
    "        cv2.fillPoly(rect_mask, [roi_corners], 255)\n",
    "        \n",
    "        masks_dict[name] = rect_mask\n",
    "        \n",
    "    return masks_dict"
   ]
  },
  {
   "cell_type": "code",
   "execution_count": 29,
   "id": "74fbf17c",
   "metadata": {},
   "outputs": [],
   "source": []
  },
  {
   "cell_type": "code",
   "execution_count": 30,
   "id": "333fb461",
   "metadata": {},
   "outputs": [],
   "source": []
  },
  {
   "cell_type": "code",
   "execution_count": 70,
   "id": "d7cc8ee5",
   "metadata": {},
   "outputs": [
    {
     "name": "stdout",
     "output_type": "stream",
     "text": [
      "Text boxes of qst1: \n",
      "[[85, 330, 423, 380], [51, 377, 251, 418], [70, 316, 344, 361], [58, 14, 202, 120], [66, 0, 362, 62], [91, 319, 425, 367], [84, 41, 424, 108], [672, 89, 1281, 208], [22, 12, 266, 303], [49, 271, 277, 328], [388, 589, 664, 662], [590, 1607, 1167, 1729], [65, 306, 299, 349], [63, 19, 324, 67], [67, 13, 316, 48], [47, 0, 274, 42], [62, 37, 311, 91], [110, 413, 512, 461], [30, 12, 203, 107], [161, 679, 450, 778], [591, 1330, 1167, 1443], [53, 33, 440, 93], [65, 17, 315, 62], [38, 473, 224, 504], [558, 2055, 1149, 2197], [284, 483, 494, 550], [0, 0, 225, 276], [519, 1905, 1086, 2023], [77, 23, 439, 97], [86, 534, 404, 609]]\n",
      "\n"
     ]
    }
   ],
   "source": [
    "masks_qst1 = get_rectangular_predicted_masks(qst1_w2)\n",
    "text_boxes_qst1 = get_pred_cords(masks_qst1)\n",
    "\n",
    "path = \"./QST1/\"\n",
    "name = \"text_boxes.pkl\"\n",
    "\n",
    "if not os.path.exists(path):\n",
    "    os.makedirs(path)\n",
    "\n",
    "filename = os.path.join(path, name)\n",
    "with open(filename, 'wb') as f:\n",
    "    pickle.dump(text_boxes_qst1, f)\n",
    "    \n",
    "    \n",
    "with open(filename, 'rb') as f:\n",
    "    saved_res = pickle.load(f)\n",
    "\n",
    "print(\"Text boxes of qst1: \\n{}\\n\".format(saved_res))"
   ]
  },
  {
   "cell_type": "code",
   "execution_count": null,
   "id": "f358b336",
   "metadata": {},
   "outputs": [],
   "source": []
  },
  {
   "cell_type": "markdown",
   "id": "75903768",
   "metadata": {},
   "source": [
    "## Task 4: Evaluate text detection using bounding box in QSD1-W2\n",
    "\n",
    "Evaluated with Mean Intersection-over-Union (IoU)"
   ]
  },
  {
   "cell_type": "code",
   "execution_count": 33,
   "id": "64264ab3",
   "metadata": {},
   "outputs": [],
   "source": [
    "def get_gt_tb_dict(tb, ds):\n",
    "    i = 0\n",
    "    \n",
    "    result = dict()\n",
    "    \n",
    "    for k, v in ds.items():\n",
    "        name = str(i).zfill(5)\n",
    "        \n",
    "        inner_dict = dict()\n",
    "        \n",
    "        tl = tuple(tb[i][0][0][:])\n",
    "        bl = tuple(tb[i][0][1][:])\n",
    "        br = tuple(tb[i][0][2][:])\n",
    "        tr = tuple(tb[i][0][3][:])\n",
    "        size = tuple([v.shape[0], v.shape[1]])\n",
    "        \n",
    "        mask = np.zeros((size[0], size[1]), dtype=np.uint8)\n",
    "        roi_corners = np.array([tl, tr, br, bl], dtype=np.int32)\n",
    "        cv2.fillPoly(mask, [roi_corners], 255)\n",
    "        \n",
    "        result[name] = mask\n",
    "        \n",
    "        i+=1\n",
    "        \n",
    "    return result"
   ]
  },
  {
   "cell_type": "code",
   "execution_count": 34,
   "id": "808f6412",
   "metadata": {},
   "outputs": [],
   "source": [
    "def binaryMaskIOU(mask1, mask2):\n",
    "    mask1_area = np.count_nonzero(mask1 == 255)\n",
    "    mask2_area = np.count_nonzero(mask2 == 255)\n",
    "    intersection = np.count_nonzero(np.logical_and(mask1 == 255, mask2 == 255))\n",
    "    iou = intersection/(mask1_area+mask2_area-intersection)\n",
    "    return iou"
   ]
  },
  {
   "cell_type": "code",
   "execution_count": 35,
   "id": "388e923d",
   "metadata": {},
   "outputs": [],
   "source": [
    "def MeanIOU(gt_dict, pred_dict):\n",
    "    result = 0\n",
    "    for name, mask in gt_dict.items():\n",
    "        result += binaryMaskIOU(gt_dict[name], pred_dict[name])\n",
    "    \n",
    "    result /= len(gt_dict)\n",
    "    return result"
   ]
  },
  {
   "cell_type": "code",
   "execution_count": null,
   "id": "355a9a4b",
   "metadata": {},
   "outputs": [],
   "source": []
  },
  {
   "cell_type": "markdown",
   "id": "0d9a4fc0",
   "metadata": {},
   "source": [
    "#### Mean IoU for QSD1_W2"
   ]
  },
  {
   "cell_type": "code",
   "execution_count": 36,
   "id": "60ad3b26",
   "metadata": {},
   "outputs": [
    {
     "name": "stdout",
     "output_type": "stream",
     "text": [
      "Mean Interception Over Union in QSD1: 0.6023614895982022\n"
     ]
    }
   ],
   "source": [
    "with open('./qsd1_w2/text_boxes.pkl', 'rb') as f:\n",
    "    gt_text_boxes_qsd1 = pickle.load(f)\n",
    "    \n",
    "gt_tb_masks_qsd1 = get_gt_tb_dict(gt_text_boxes_qsd1, qsd1_w2)\n",
    "    \n",
    "pred_masks_tb_qsd1 = get_rectangular_predicted_masks(qsd1_w2)\n",
    "\n",
    "MeanIOU_qsd1 = MeanIOU(gt_tb_masks_qsd1, pred_masks_tb_qsd1)\n",
    "\n",
    "print(f\"Mean Interception Over Union in QSD1: {MeanIOU_qsd1}\")"
   ]
  },
  {
   "cell_type": "code",
   "execution_count": null,
   "id": "b6f0deea",
   "metadata": {},
   "outputs": [],
   "source": []
  },
  {
   "cell_type": "code",
   "execution_count": null,
   "id": "6956df49",
   "metadata": {},
   "outputs": [],
   "source": []
  },
  {
   "cell_type": "markdown",
   "id": "2dc9684e",
   "metadata": {},
   "source": [
    "## Task 5: Test query system using query set QSD1-W2\n",
    "We did a Benchmark on QSD1_W2 and obtained the following best methods and metrics:\n",
    "\n",
    "* **Method 1**: CieLAB + 2D & 1D Histograms of 32 bins + Histogram Intersection\n",
    "* **Method 2**: RGB + 3D Histograms of 16 bins + Histogram_Intersection"
   ]
  },
  {
   "cell_type": "code",
   "execution_count": 37,
   "id": "b0eb2e22",
   "metadata": {},
   "outputs": [],
   "source": [
    "def InvertMasks(mask_dict_orig):\n",
    "    masks_dict_invert = dict()\n",
    "    for name, img in mask_dict_orig.items():\n",
    "        masks_dict_invert[name] = (255-mask_dict_orig[name])\n",
    "    \n",
    "    return masks_dict_invert"
   ]
  },
  {
   "cell_type": "code",
   "execution_count": null,
   "id": "0b8d0b67",
   "metadata": {},
   "outputs": [],
   "source": []
  },
  {
   "cell_type": "markdown",
   "id": "5b17d2e2",
   "metadata": {},
   "source": [
    "### Method 1: CieLAB + 2D & 1D Histograms of 32 bins + Histogram Intersection"
   ]
  },
  {
   "cell_type": "code",
   "execution_count": 38,
   "id": "b6daf6ed",
   "metadata": {},
   "outputs": [
    {
     "name": "stdout",
     "output_type": "stream",
     "text": [
      "Method1 mAPK using k=1: 0.5333333333333333\n",
      "Method1 mAPK using k=5: 0.5611111111111112\n",
      "Method1 mAPK using k=10: 0.577037037037037 \n",
      "\n",
      "\n"
     ]
    }
   ],
   "source": [
    "with open('./qsd1_w2/gt_corresps.pkl', 'rb') as f:\n",
    "    cor1_w2 = pickle.load(f)\n",
    "    \n",
    "pred_masks_tb_qsd1 = get_rectangular_predicted_masks(qsd1_w2)    \n",
    "pred_masks_tb_qsd1_inver = InvertMasks(pred_masks_tb_qsd1)\n",
    "    \n",
    "hists_bbdd_Lab= get_all_hists(bbdd, levels = 3, bins = 32, dim = \"2d1d\", color = 'Lab', masks = None)\n",
    "hists_qsd1_w2_Lab = get_all_hists(qsd1_w2, levels = 3, bins = 32, dim = \"2d1d\", color = 'Lab', masks = pred_masks_tb_qsd1_inver)\n",
    "\n",
    "MAPK_qsd1_w2_Lab_k1 = calculateMAPK(hists_qsd1_w2_Lab, hists_bbdd_Lab, \"Histogram_Intersection\", ground_truth = cor1_w2, topK=1, rev = True)\n",
    "MAPK_qsd1_w2_Lab_k5 = calculateMAPK(hists_qsd1_w2_Lab, hists_bbdd_Lab, \"Histogram_Intersection\", ground_truth = cor1_w2, topK=5, rev = True)\n",
    "MAPK_qsd1_w2_Lab_k10 = calculateMAPK(hists_qsd1_w2_Lab, hists_bbdd_Lab, \"Histogram_Intersection\", ground_truth = cor1_w2, topK=10, rev = True)\n",
    "\n",
    "print(f\"Method1 mAPK using k=1: {MAPK_qsd1_w2_Lab_k1}\")\n",
    "print(f\"Method1 mAPK using k=5: {MAPK_qsd1_w2_Lab_k5}\")\n",
    "print(f\"Method1 mAPK using k=10: {MAPK_qsd1_w2_Lab_k10} \\n\\n\")"
   ]
  },
  {
   "cell_type": "code",
   "execution_count": null,
   "id": "9fa636c7",
   "metadata": {},
   "outputs": [],
   "source": []
  },
  {
   "cell_type": "markdown",
   "id": "c391662f",
   "metadata": {},
   "source": [
    "### Method 2: RGB + 3D Histograms of 16 bins + Histogram Intersection"
   ]
  },
  {
   "cell_type": "code",
   "execution_count": 39,
   "id": "9bd05f5c",
   "metadata": {},
   "outputs": [
    {
     "name": "stdout",
     "output_type": "stream",
     "text": [
      "Method1 mAPK using k=1: 0.5333333333333333\n",
      "Method1 mAPK using k=5: 0.55\n",
      "Method1 mAPK using k=10: 0.5621693121693121 \n",
      "\n",
      "\n"
     ]
    }
   ],
   "source": [
    "with open('./qsd1_w2/gt_corresps.pkl', 'rb') as f:\n",
    "    cor1_w2 = pickle.load(f)\n",
    "    \n",
    "pred_masks_tb_qsd1 = get_rectangular_predicted_masks(qsd1_w2)    \n",
    "pred_masks_tb_qsd1_inver = InvertMasks(pred_masks_tb_qsd1)\n",
    "    \n",
    "hists_bbdd_RGB= get_all_hists(bbdd, levels = 3, bins = 16, dim = \"3\", color = 'RGB', masks = None)\n",
    "hists_qsd1_w2_RGB = get_all_hists(qsd1_w2, levels = 3, bins = 16, dim = \"3\", color = 'RGB', masks = pred_masks_tb_qsd1_inver)\n",
    "\n",
    "MAPK_qsd1_w2_RGB_k1 = calculateMAPK(hists_qsd1_w2_RGB, hists_bbdd_RGB, \"Histogram_Intersection\", ground_truth = cor1_w2, topK=1, rev = True)\n",
    "MAPK_qsd1_w2_RGB_k5 = calculateMAPK(hists_qsd1_w2_RGB, hists_bbdd_RGB, \"Histogram_Intersection\", ground_truth = cor1_w2, topK=5, rev = True)\n",
    "MAPK_qsd1_w2_RGB_k10 = calculateMAPK(hists_qsd1_w2_RGB, hists_bbdd_RGB, \"Histogram_Intersection\", ground_truth = cor1_w2, topK=10, rev = True)\n",
    "\n",
    "print(f\"Method1 mAPK using k=1: {MAPK_qsd1_w2_RGB_k1}\")\n",
    "print(f\"Method1 mAPK using k=5: {MAPK_qsd1_w2_RGB_k5}\")\n",
    "print(f\"Method1 mAPK using k=10: {MAPK_qsd1_w2_RGB_k10} \\n\\n\")"
   ]
  },
  {
   "cell_type": "code",
   "execution_count": null,
   "id": "b96a901b",
   "metadata": {},
   "outputs": [],
   "source": []
  },
  {
   "cell_type": "markdown",
   "id": "64e1ca43",
   "metadata": {},
   "source": [
    "## Task 6: Apply full processing pipeline and split paintings"
   ]
  },
  {
   "cell_type": "code",
   "execution_count": 71,
   "id": "a12b7f01",
   "metadata": {},
   "outputs": [],
   "source": [
    "def order_tls_and_brs(tls_and_brs, centroids): \n",
    "    if len(tls_and_brs) != 2: return tls_and_brs\n",
    "\n",
    "    if ((centroids[0][0] - centroids[1][0])**2 < (centroids[0][1] - centroids[1][1])**2): horizontal_ordering = False\n",
    "    else: horizontal_ordering = True\n",
    "        \n",
    "    if horizontal_ordering:\n",
    "        if centroids[0][0] < centroids[1][0]: return tls_and_brs\n",
    "        else: return [tls_and_brs[1], tls_and_brs[0]] \n",
    "    else:\n",
    "        if centroids[0][1] < centroids[1][1]: return tls_and_brs\n",
    "        else: return [tls_and_brs[1], tls_and_brs[0]]\n",
    "        "
   ]
  },
  {
   "cell_type": "code",
   "execution_count": 72,
   "id": "92c7076f",
   "metadata": {},
   "outputs": [],
   "source": [
    "def divide_paintings(img):\n",
    "    \n",
    "    h_i, w_i, c = img.shape\n",
    "    \n",
    "    top_limit = int(round(h_i/8))\n",
    "    bottom_limit = int(h_i - top_limit)\n",
    "    \n",
    "    left_area = int(round(w_i/8))\n",
    "    right_area = int(w_i - left_area)\n",
    "    \n",
    "    area_pixel= int(h_i*w_i)\n",
    "    \n",
    "    image = cv2.cvtColor(img, cv2.COLOR_BGR2Lab)\n",
    "    imageL = image[:, :, 0]\n",
    "    imagea = image[:, :, 1]\n",
    "    imageb = image[:, :, 2]\n",
    "    \n",
    "    #kernel = np.ones((2, 10),np.uint8)\n",
    "    #thL = cv2.morphologyEx(imageL, cv2.MORPH_TOPHAT, kernel, iterations = 5)\n",
    "    #bhL = cv2.morphologyEx(imageL, cv2.MORPH_BLACKHAT, kernel, iterations = 5)\n",
    "    \n",
    "    kernel = np.ones((2, 2),np.uint8)\n",
    "    gradL = cv2.morphologyEx(imageL, cv2.MORPH_GRADIENT, kernel, iterations = 20)\n",
    "\n",
    "    ret2, th2 = cv2.threshold(gradL,0,255,cv2.THRESH_BINARY+cv2.THRESH_OTSU)\n",
    "    \n",
    "    kernel = np.ones((round(h_i*0.001), round(w_i*0.001)),np.uint8)\n",
    "    opening1 = cv2.morphologyEx(th2, cv2.MORPH_OPEN, kernel, iterations = 3)\n",
    "    \n",
    "    \n",
    "    # -----------------------------------------------------------------------\n",
    "    analysis = cv2.connectedComponentsWithStats(opening1, 4, cv2.CV_32S) \n",
    "    (totalLabels, label_ids, values, centroid) = analysis \n",
    "\n",
    "    # Initialize a new image to store  \n",
    "    # all the output components \n",
    "    output1 = np.zeros(imageL.shape, dtype=\"uint8\") \n",
    "\n",
    "    # Loop through each component \n",
    "    \n",
    "    mask = np.zeros([h_i,w_i], dtype=np.uint8)\n",
    "    cont=0\n",
    "    x1_prev= -10000\n",
    "    for i in range(1, totalLabels): \n",
    "        \n",
    "          # Area of the component \n",
    "        area = values[i, cv2.CC_STAT_AREA]  \n",
    "        \n",
    "        (X, Y) = centroid[i]\n",
    "         \n",
    "        #if True:\n",
    "        if (area > round(area_pixel*0.00001)):\n",
    "            x1 = values[i, cv2.CC_STAT_LEFT] \n",
    "            y1 = values[i, cv2.CC_STAT_TOP] \n",
    "            w = values[i, cv2.CC_STAT_WIDTH] \n",
    "            h = values[i, cv2.CC_STAT_HEIGHT]\n",
    "            \n",
    "            pt1 = (x1, y1) \n",
    "            pt2 = (x1+ w, y1+ h)\n",
    "            if (int(x1 - x1_prev) < int(round(w_i/4)) and (int(x1 - x1_prev) > int(round(-w_i/4)))):\n",
    "                roi_corners = np.array([(x1_prev,y1_prev),(x1+w,y1), pt2,(x1_prev,y1+h)], dtype=np.int32)\n",
    "            else:\n",
    "                roi_corners = np.array([pt1,(x1+w,y1), pt2,(x1,y1+h)], dtype=np.int32)\n",
    "        \n",
    "               \n",
    "            cv2.fillPoly(mask, [roi_corners], 255)\n",
    "            output1 = cv2.bitwise_or(output1, mask)\n",
    "            cont = cont+1\n",
    "            x1_prev= x1\n",
    "            y1_prev = y1                           \n",
    "            \n",
    "    if cont == 0:\n",
    "        output1 = th2\n",
    "        \n",
    "    #print(cont)\n",
    "    \n",
    "    # ---------------------------------------------------------------\n",
    "    \n",
    "    kernel = np.ones((round(h_i*0.02), round(w_i*0.01)),np.uint8)\n",
    "    opening2 = cv2.morphologyEx(output1, cv2.MORPH_OPEN, kernel, iterations = 15)\n",
    "    \n",
    "    # -----------------------------------------------------------------------\n",
    "    analysis2 = cv2.connectedComponentsWithStats(opening2, 4, cv2.CV_32S) \n",
    "    (totalLabels2, label_ids2, values2, centroid2) = analysis2 \n",
    "\n",
    "    # Initialize a new image to store  \n",
    "    # all the output components \n",
    "    output2 = np.zeros(imageL.shape, dtype=\"uint8\") \n",
    "\n",
    "    # Loop through each component \n",
    "    \n",
    "    mask2 = np.zeros([h_i,w_i], dtype=np.uint8)\n",
    "    cont=0\n",
    "    \n",
    "    tls_and_brs = []\n",
    "    centroids = []\n",
    "    \n",
    "    for i in range(1, totalLabels2): \n",
    "\n",
    "        x1_prev= -10000\n",
    "        \n",
    "          # Area of the component \n",
    "        area = values2[i, cv2.CC_STAT_AREA]  \n",
    "        \n",
    "        (X, Y) = centroid2[i]\n",
    "        \n",
    "        if area > round(area_pixel*0.05):\n",
    "        #if (area > round(area_pixel*0.2)) and ((Y<top_limit)or(Y>bottom_limit))and ((X>left_area)and(X<right_area)): \n",
    "            x1 = values2[i, cv2.CC_STAT_LEFT] \n",
    "            y1 = values2[i, cv2.CC_STAT_TOP] \n",
    "            w = values2[i, cv2.CC_STAT_WIDTH] \n",
    "            h = values2[i, cv2.CC_STAT_HEIGHT]\n",
    "            \n",
    "            pt1 = (x1, y1) \n",
    "            pt2 = (x1+ w, y1+ h)\n",
    "            if (int(x1 - x1_prev) < int(round(w_i/4)) and (int(x1 - x1_prev) > int(round(-w_i/4)))):\n",
    "                roi_corners2 = np.array([(x1_prev,y1_prev),(x1+w,y1), pt2,(x1_prev,y1+h)], dtype=np.int32)\n",
    "            else:\n",
    "                roi_corners2 = np.array([pt1,(x1+w,y1), pt2,(x1,y1+h)], dtype=np.int32)\n",
    "        \n",
    "               \n",
    "            cv2.fillPoly(mask2, [roi_corners2], 255)\n",
    "            output2 = cv2.bitwise_or(output2, mask2)\n",
    "            cont = cont+1\n",
    "            x1_prev= x1\n",
    "            y1_prev = y1    \n",
    "            \n",
    "            tls_and_brs.append([roi_corners2[0][0], roi_corners2[0][1], roi_corners2[2][0], roi_corners2[2][1]])\n",
    "            centroids.append([X, Y])\n",
    "            \n",
    "    if cont == 0:\n",
    "        output2 = output1\n",
    "    \n",
    "    # ---------------------------------------------------------------\n",
    "    \n",
    "    # for visualization:\n",
    "    \"\"\"\"\n",
    "    plt.axis(\"off\")\n",
    "    fig, ax = plt.subplots(nrows=2, ncols=3, figsize = (10, 10))\n",
    "    \n",
    "    ax[0, 0].imshow(imageL, cmap = \"gray\")\n",
    "    ax[0, 1].imshow(th2, cmap = \"gray\")\n",
    "    ax[0, 2].imshow(opening1, cmap = \"gray\")\n",
    "    \n",
    "    ax[1, 0].imshow(output1, cmap = \"gray\")\n",
    "    ax[1, 1].imshow(opening2, cmap = \"gray\")\n",
    "    ax[1, 2].imshow(output2, cmap = \"gray\")\n",
    "    \"\"\"\n",
    "    \n",
    "    \n",
    "    tls_and_brs = order_tls_and_brs(tls_and_brs, centroids)\n",
    "    \n",
    "    return tls_and_brs, output2\n",
    "    "
   ]
  },
  {
   "cell_type": "code",
   "execution_count": 73,
   "id": "4961210f",
   "metadata": {},
   "outputs": [],
   "source": [
    "def task6(qs, bbdd_hists, method = \"L1\", topK = 5, levels = 3, bins = 16, dim = \"3\", bins_1d = None, bins_2d = None, color = \"Lab\"):\n",
    "    \n",
    "    # depending on the method we want the largest or the closest score to select the topK\n",
    "    if method in [\"Euclidean\", \"L1\", \"X_squared\"]: rev = False\n",
    "    elif method in [\"Histogram_Intersection\", \"Hellinger_Kernel\"]: rev = True\n",
    "    \n",
    "    all_results = []\n",
    "    \n",
    "    for name, picture in qs.items():\n",
    "        # we first have to divide the picture into paintings\n",
    "        tls_and_brs = divide_paintings(picture)[0]\n",
    "            \n",
    "        picture_results = []\n",
    "        for painting_tl_and_br in tls_and_brs:\n",
    "            # we are going to crop the picture to get each painting\n",
    "            painting = picture[painting_tl_and_br[1] : painting_tl_and_br[3]+1, painting_tl_and_br[0] : painting_tl_and_br[2]+1]\n",
    "            \n",
    "            # we have to mask the text boxes\n",
    "            not_rect_mask = get_name_boxs(painting)\n",
    "            tl, br = get_tl_and_br(not_rect_mask)\n",
    "            tr = (br[0], tl[1])\n",
    "            bl = (tl[0], br[1])\n",
    "            rect_mask = np.zeros((painting.shape[0], painting.shape[1]), dtype = np.uint8)\n",
    "            roi_corners = np.array([tl, tr, br, bl], dtype = np.int32)\n",
    "            cv2.fillPoly(rect_mask, [roi_corners], 255)\n",
    "            \n",
    "            # we have to invert the text box mask\n",
    "            rect_mask = (255 - rect_mask)\n",
    "            \n",
    "            # we have to compute the histogram masking the text box\n",
    "            hist = get_full_hist(painting, levels = levels, bins = bins, dim = dim, color = color, mask = rect_mask)\n",
    "            \n",
    "            # compare with the bbdd histograms\n",
    "            comparisons = compare(hist, bbdd_hists, method)\n",
    "            \n",
    "            # get the topK\n",
    "            painting_topK = k_neighbours(comparisons, topK, rev = rev)\n",
    "            \n",
    "            # append topK to the picture results\n",
    "            picture_results.append(painting_topK)\n",
    "            \n",
    "        # append picture results to all_results\n",
    "        all_results.append(picture_results)\n",
    "        \n",
    "    return all_results"
   ]
  },
  {
   "cell_type": "code",
   "execution_count": null,
   "id": "3cb36aa3-319e-44f9-b376-d9f509513781",
   "metadata": {},
   "outputs": [],
   "source": []
  },
  {
   "cell_type": "markdown",
   "id": "fe546167-c3e4-44af-9347-ac9e1e202349",
   "metadata": {},
   "source": [
    "### Method 1: CieLAB + 2D & 1D Histograms of 32 bins + Histogram Intersection"
   ]
  },
  {
   "cell_type": "code",
   "execution_count": 74,
   "id": "cac84f72-e57a-4d74-86b1-65b4123852b3",
   "metadata": {},
   "outputs": [
    {
     "name": "stdout",
     "output_type": "stream",
     "text": [
      "Method1 mAPK using k=1: 0.5178571428571429\n",
      "Method1 mAPK using k=5: 0.5729166666666666\n",
      "Method1 mAPK using k=10: 0.5894274376417233 \n",
      "\n",
      "\n"
     ]
    }
   ],
   "source": [
    "with open('./qsd2_w2/gt_corresps.pkl', 'rb') as f:\n",
    "    cor2_w2 = pickle.load(f)\n",
    "\n",
    "hists_bbdd_Lab = get_all_hists(bbdd, levels = 3, bins = 32, dim = \"2d1d\", color = \"Lab\", masks = None)\n",
    "\n",
    "result_k1 = task6(qsd2_w2, hists_bbdd_Lab, dim=\"2d1d\", color=\"Lab\", bins = 32, method = \"Histogram_Intersection\", topK = 1)\n",
    "result_k5 = task6(qsd2_w2, hists_bbdd_Lab, dim=\"2d1d\", color=\"Lab\", bins = 32, method = \"Histogram_Intersection\", topK = 5)\n",
    "result_k10 = task6(qsd2_w2, hists_bbdd_Lab, dim=\"2d1d\", color=\"Lab\", bins = 32, method = \"Histogram_Intersection\", topK = 10)\n",
    "\n",
    "MAPK_qsd2_w2_LAB_k1 = compute_mapk(cor2_w2, result_k1, 1)\n",
    "MAPK_qsd2_w2_LAB_k5 = compute_mapk(cor2_w2, result_k5, 5)\n",
    "MAPK_qsd2_w2_LAB_k10 = compute_mapk(cor2_w2, result_k10, 10)\n",
    "\n",
    "print(f\"Method1 mAPK using k=1: {MAPK_qsd2_w2_LAB_k1}\")\n",
    "print(f\"Method1 mAPK using k=5: {MAPK_qsd2_w2_LAB_k5}\")\n",
    "print(f\"Method1 mAPK using k=10: {MAPK_qsd2_w2_LAB_k10} \\n\\n\")"
   ]
  },
  {
   "cell_type": "markdown",
   "id": "75ec75e4-ab53-4a4e-8e11-52d6557083f5",
   "metadata": {},
   "source": [
    "### Method 2: RGB + 3D Histograms of 16 bins + Histogram Intersection"
   ]
  },
  {
   "cell_type": "code",
   "execution_count": 75,
   "id": "de8c577e-bf62-43c2-b347-335a77e345ea",
   "metadata": {},
   "outputs": [
    {
     "name": "stdout",
     "output_type": "stream",
     "text": [
      "Method1 mAPK using k=1: 0.5535714285714286\n",
      "Method1 mAPK using k=5: 0.5973214285714287\n",
      "Method1 mAPK using k=10: 0.6036422902494331 \n",
      "\n",
      "\n"
     ]
    }
   ],
   "source": [
    "with open('./qsd2_w2/gt_corresps.pkl', 'rb') as f:\n",
    "    cor2_w2 = pickle.load(f)\n",
    "\n",
    "hists_bbdd_RGB = get_all_hists(bbdd, levels = 3, bins = 16, dim = \"3\", color = None, masks = None)\n",
    "\n",
    "result_k1 = task6(qsd2_w2, hists_bbdd_RGB, dim=\"3\", color=None, bins = 16, method = \"Histogram_Intersection\", topK = 1)\n",
    "result_k5 = task6(qsd2_w2, hists_bbdd_RGB, dim=\"3\", color=None, bins = 16, method = \"Histogram_Intersection\", topK = 5)\n",
    "result_k10 = task6(qsd2_w2, hists_bbdd_RGB, dim=\"3\", color=None, bins = 16, method = \"Histogram_Intersection\", topK = 10)\n",
    "\n",
    "MAPK_qsd2_w2_RGB_k1 = compute_mapk(cor2_w2, result_k1, 1)\n",
    "MAPK_qsd2_w2_RGB_k5 = compute_mapk(cor2_w2, result_k5, 5)\n",
    "MAPK_qsd2_w2_RGB_k10 = compute_mapk(cor2_w2, result_k10, 10)\n",
    "\n",
    "print(f\"Method1 mAPK using k=1: {MAPK_qsd2_w2_RGB_k1}\")\n",
    "print(f\"Method1 mAPK using k=5: {MAPK_qsd2_w2_RGB_k5}\")\n",
    "print(f\"Method1 mAPK using k=10: {MAPK_qsd2_w2_RGB_k10} \\n\\n\")"
   ]
  },
  {
   "cell_type": "code",
   "execution_count": null,
   "id": "f07e397b-5d9f-4518-9977-79828b24e09b",
   "metadata": {},
   "outputs": [],
   "source": []
  },
  {
   "cell_type": "code",
   "execution_count": null,
   "id": "4a796a40-c421-4128-b9fb-159613757bc1",
   "metadata": {},
   "outputs": [],
   "source": []
  },
  {
   "cell_type": "markdown",
   "id": "68c3d2b3-fe56-4f72-8410-29a0596b5ae5",
   "metadata": {},
   "source": [
    "## Tests and Results for QST1_W2"
   ]
  },
  {
   "cell_type": "markdown",
   "id": "f6cb0796-c28d-4779-a23c-0d9dbd430d35",
   "metadata": {},
   "source": [
    "#### Method 1: CieLAB + 2D & 1D Histograms of 32 bins + Histogram Intersection"
   ]
  },
  {
   "cell_type": "code",
   "execution_count": 78,
   "id": "03203831-863d-4574-8a11-d57b9ebf838c",
   "metadata": {},
   "outputs": [
    {
     "name": "stdout",
     "output_type": "stream",
     "text": [
      "Results for Method 1: \n",
      "[[211, 16, 205, 252, 244, 200, 168, 12, 81, 203], [157, 57, 64, 133, 46, 110, 187, 218, 281, 146], [222, 40, 79, 35, 272, 236, 152, 120, 205, 226], [212, 270, 194, 252, 182, 97, 90, 148, 16, 220], [32, 34, 9, 8, 57, 162, 259, 46, 185, 110], [13, 127, 106, 120, 215, 70, 11, 162, 263, 21], [21, 46, 162, 217, 197, 146, 190, 128, 64, 213], [113, 259, 88, 57, 72, 31, 225, 130, 103, 154], [223, 110, 80, 238, 57, 115, 242, 240, 218, 31], [91, 248, 103, 51, 225, 119, 161, 163, 61, 241], [147, 58, 248, 78, 35, 237, 56, 278, 23, 140], [160, 259, 225, 244, 130, 271, 154, 70, 239, 58], [91, 8, 103, 241, 51, 88, 149, 187, 242, 225], [251, 105, 19, 25, 29, 215, 66, 239, 104, 39], [272, 212, 226, 85, 35, 232, 40, 222, 184, 79], [252, 211, 205, 264, 12, 244, 16, 218, 168, 120], [118, 187, 146, 79, 189, 125, 18, 117, 77, 75], [110, 57, 123, 9, 133, 259, 72, 241, 242, 244], [245, 57, 281, 286, 196, 279, 9, 218, 208, 110], [204, 40, 35, 236, 197, 280, 5, 190, 108, 41], [259, 88, 31, 192, 103, 225, 72, 170, 51, 239], [150, 95, 212, 232, 58, 168, 271, 200, 12, 225], [223, 110, 121, 231, 153, 57, 230, 37, 133, 9], [242, 57, 110, 281, 259, 88, 46, 241, 196, 31], [276, 27, 29, 149, 225, 271, 174, 154, 137, 82], [179, 219, 240, 231, 254, 238, 173, 216, 128, 153], [0, 1, 2, 3, 4, 5, 6, 7, 8, 9], [82, 105, 81, 174, 154, 104, 163, 244, 225, 149], [101, 79, 187, 85, 226, 146, 270, 47, 272, 232], [35, 226, 85, 224, 212, 184, 40, 68, 79, 148]]\n",
      "\n"
     ]
    }
   ],
   "source": [
    "pred_masks_tb_qst1 = get_rectangular_predicted_masks(qst1_w2)    \n",
    "pred_masks_tb_qst1_inver = InvertMasks(pred_masks_tb_qst1)\n",
    "    \n",
    "hists_bbdd_Lab= get_all_hists(bbdd, levels = 3, bins = 32, dim = \"2d1d\", color = 'Lab', masks = None)\n",
    "hists_qst1_w2_Lab = get_all_hists(qst1_w2, levels = 3, bins = 32, dim = \"2d1d\", color = 'Lab', masks = pred_masks_tb_qst1_inver)\n",
    "\n",
    "results_k10 = calculateMAPK(hists_qst1_w2_Lab, hists_bbdd_Lab, \"Histogram_Intersection\", ground_truth = None, topK=10, rev = True)\n",
    "\n",
    "# Write and Load results\n",
    "path = \"./QST1/method1/\"\n",
    "name = \"result.pkl\"\n",
    "\n",
    "if not os.path.exists(path):\n",
    "    os.makedirs(path)\n",
    "\n",
    "filename = os.path.join(path, name)\n",
    "with open(filename, 'wb') as f:\n",
    "    pickle.dump(results_k10, f)\n",
    "\n",
    "with open(filename, 'rb') as f:\n",
    "    saved_res = pickle.load(f)\n",
    "\n",
    "print(\"Results for Method 1: \\n{}\\n\".format(saved_res))"
   ]
  },
  {
   "cell_type": "markdown",
   "id": "1b0f208b-cf0e-4cf4-8ec9-b9d3af51663d",
   "metadata": {},
   "source": [
    "### Method 2: RGB + 3D Histograms of 16 bins + Histogram Intersection"
   ]
  },
  {
   "cell_type": "code",
   "execution_count": 79,
   "id": "3d825de4-55fa-4f19-827c-1b22e546e933",
   "metadata": {},
   "outputs": [
    {
     "name": "stdout",
     "output_type": "stream",
     "text": [
      "Results for Method 2: \n",
      "[[211, 16, 205, 244, 203, 218, 133, 200, 12, 168], [157, 133, 57, 240, 187, 64, 173, 199, 218, 153], [222, 79, 194, 205, 187, 208, 137, 120, 248, 40], [212, 97, 270, 278, 220, 85, 182, 232, 194, 152], [32, 240, 46, 238, 34, 254, 128, 8, 57, 157], [13, 31, 215, 163, 113, 104, 225, 51, 193, 72], [21, 217, 146, 64, 197, 162, 46, 34, 190, 286], [113, 31, 154, 103, 104, 110, 160, 72, 259, 88], [110, 223, 115, 259, 101, 230, 31, 282, 246, 89], [91, 23, 51, 103, 197, 225, 163, 73, 248, 168], [78, 227, 265, 248, 69, 87, 140, 84, 26, 237], [160, 225, 110, 244, 271, 259, 242, 239, 51, 105], [91, 103, 51, 241, 212, 271, 85, 163, 57, 225], [251, 105, 19, 142, 154, 25, 200, 104, 95, 158], [272, 232, 212, 236, 40, 5, 226, 197, 47, 97], [205, 110, 12, 211, 187, 174, 242, 244, 218, 137], [118, 187, 64, 146, 57, 75, 217, 34, 73, 46], [139, 9, 110, 160, 37, 133, 259, 123, 88, 244], [245, 208, 57, 9, 133, 218, 281, 21, 173, 196], [204, 40, 35, 236, 5, 272, 197, 120, 108, 68], [259, 239, 96, 110, 192, 170, 103, 88, 31, 223], [150, 58, 200, 168, 271, 93, 152, 95, 225, 29], [223, 110, 139, 230, 37, 133, 231, 9, 121, 71], [242, 110, 57, 218, 31, 241, 244, 187, 160, 133], [276, 174, 271, 82, 241, 225, 160, 105, 27, 137], [179, 219, 240, 264, 153, 216, 231, 238, 213, 254], [0, 1, 2, 3, 4, 5, 6, 7, 8, 9], [105, 104, 110, 174, 154, 82, 81, 37, 12, 200], [101, 85, 47, 217, 187, 5, 146, 272, 98, 68], [35, 226, 85, 224, 5, 68, 79, 41, 40, 280]]\n",
      "\n"
     ]
    }
   ],
   "source": [
    "pred_masks_tb_qst1 = get_rectangular_predicted_masks(qst1_w2)    \n",
    "pred_masks_tb_qst1_inver = InvertMasks(pred_masks_tb_qst1)\n",
    "    \n",
    "hists_bbdd_RGB= get_all_hists(bbdd, levels = 3, bins = 16, dim = \"3\", color = 'RGB', masks = None)\n",
    "hists_qst1_w2_RGB = get_all_hists(qst1_w2, levels = 3, bins = 16, dim = \"3\", color = 'RGB', masks = pred_masks_tb_qst1_inver)\n",
    "\n",
    "results_k10 = calculateMAPK(hists_qst1_w2_RGB, hists_bbdd_RGB, \"Histogram_Intersection\", ground_truth = None, topK=10, rev = True)\n",
    "\n",
    "# Write and Load results\n",
    "path = \"./QST1/method2/\"\n",
    "name = \"result.pkl\"\n",
    "\n",
    "if not os.path.exists(path):\n",
    "    os.makedirs(path)\n",
    "\n",
    "filename = os.path.join(path, name)\n",
    "with open(filename, 'wb') as f:\n",
    "    pickle.dump(results_k10, f)\n",
    "\n",
    "with open(filename, 'rb') as f:\n",
    "    saved_res = pickle.load(f)\n",
    "\n",
    "print(\"Results for Method 2: \\n{}\\n\".format(saved_res))"
   ]
  },
  {
   "cell_type": "markdown",
   "id": "1c1be285-1d45-4ad6-ae33-4b3cddc4a394",
   "metadata": {},
   "source": [
    "## Tests and Results for QST2_W2"
   ]
  },
  {
   "cell_type": "markdown",
   "id": "d1b26561-70de-4046-9049-58a8be5e1625",
   "metadata": {},
   "source": [
    "#### Method 1: CieLAB + 2D & 1D Histograms of 32 bins + Histogram Intersection"
   ]
  },
  {
   "cell_type": "code",
   "execution_count": 80,
   "id": "a8e24fe8-50f2-485f-81bf-8dfb282a3438",
   "metadata": {},
   "outputs": [
    {
     "name": "stdout",
     "output_type": "stream",
     "text": [
      "Results for Method 1: \n",
      "[[[16, 24, 270, 168, 77, 261, 116, 60, 40, 248], [259, 133, 60, 43, 131, 234, 72, 232, 88, 157]], [[74, 30, 63, 103, 167, 155, 239, 88, 76, 198]], [[180, 123, 231, 121, 110, 31, 37, 223, 259, 142]], [[110, 123, 259, 180, 231, 121, 223, 133, 37, 142]], [[260, 103, 140, 163, 88, 82, 239, 225, 271, 84]], [[57, 259, 88, 157, 133, 140, 31, 110, 72, 69], [239, 140, 82, 163, 103, 215, 174, 88, 104, 105]], [[133, 157, 110, 259, 153, 230, 99, 26, 57, 218]], [[281, 22, 19, 30, 242, 241, 170, 88, 187, 39]], [[176, 212, 248, 167, 119, 249, 58, 168, 225, 237], [29, 161, 163, 239, 51, 119, 193, 140, 215, 135]], [[57, 242, 88, 46, 31, 281, 259, 103, 32, 140], [88, 57, 103, 140, 265, 259, 31, 203, 32, 130]], [[99, 58, 159, 147, 81, 168, 102, 34, 152, 156], [76, 99, 140, 113, 103, 21, 286, 81, 225, 130]], [[57, 92, 219, 144, 216, 246, 157, 88, 171, 179]], [[239, 215, 51, 39, 104, 135, 225, 163, 70, 154]], [[28, 37, 110, 218, 143, 244, 123, 261, 81, 154]], [[88, 140, 57, 103, 259, 239, 104, 31, 113, 203]], [[88, 57, 242, 46, 31, 103, 128, 259, 281, 82], [238, 110, 223, 57, 33, 153, 155, 231, 259, 227]], [[88, 103, 140, 57, 239, 82, 76, 39, 155, 233]], [[183, 232, 192, 178, 176, 233, 167, 239, 103, 200]], [[96, 105, 195, 140, 135, 217, 154, 239, 271, 143]], [[60, 225, 200, 167, 135, 239, 215, 192, 132, 103]], [[239, 39, 215, 140, 135, 29, 51, 163, 174, 103]], [[239, 135, 145, 215, 88, 163, 105, 174, 29, 82]], [[57, 88, 259, 110, 133, 157, 69, 223, 31, 130]], [[222, 251, 194, 232, 24, 116, 182, 181, 252, 270]], [[9, 121, 26, 37, 139, 71, 230, 133, 173, 110]], [[57, 157, 110, 259, 240, 133, 223, 31, 69, 88]], [[46, 88, 233, 187, 242, 281, 170, 246, 103, 174]], [[167, 176, 249, 84, 29, 286, 225, 239, 212, 63]], [[173, 142, 37, 133, 123, 121, 153, 139, 110, 199], [88, 31, 103, 57, 271, 84, 126, 259, 140, 225]], [[88, 140, 57, 31, 239, 103, 169, 69, 163, 130]]]\n",
      "\n"
     ]
    }
   ],
   "source": [
    "hists_bbdd_Lab = get_all_hists(bbdd, levels = 3, bins = 32, dim = \"2d1d\", color = \"Lab\", masks = None)\n",
    "result_k10 = task6(qst2_w2, hists_bbdd_Lab, dim=\"2d1d\", color=None, bins = 32, method = \"Histogram_Intersection\", topK = 10)\n",
    "\n",
    "# Write and Load results\n",
    "path = \"./QST2/method1/\"\n",
    "name = \"result.pkl\"\n",
    "\n",
    "if not os.path.exists(path):\n",
    "    os.makedirs(path)\n",
    "\n",
    "filename = os.path.join(path, name)\n",
    "with open(filename, 'wb') as f:\n",
    "    pickle.dump(result_k10, f)\n",
    "\n",
    "with open(filename, 'rb') as f:\n",
    "    saved_res = pickle.load(f)\n",
    "\n",
    "print(\"Results for Method 1: \\n{}\\n\".format(saved_res))"
   ]
  },
  {
   "cell_type": "markdown",
   "id": "bd9325b3-bf44-4e45-826b-431d09ce245a",
   "metadata": {},
   "source": [
    "#### Method 2: RGB + 3D Histograms of 16 bins + Histogram Intersection"
   ]
  },
  {
   "cell_type": "code",
   "execution_count": 81,
   "id": "c35f6e49-c18a-4d6a-aa7c-971946bff462",
   "metadata": {},
   "outputs": [
    {
     "name": "stdout",
     "output_type": "stream",
     "text": [
      "Results for Method 2: \n",
      "[[[212, 118, 278, 261, 102, 168, 271, 152, 77, 186], [27, 110, 165, 160, 242, 168, 225, 218, 187, 244]], [[130, 74, 174, 58, 286, 225, 161, 109, 46, 241]], [[121, 266, 231, 180, 73, 123, 190, 173, 153, 133]], [[110, 37, 31, 160, 154, 259, 242, 9, 139, 230]], [[260, 21, 84, 248, 281, 286, 57, 197, 126, 64]], [[215, 239, 103, 192, 88, 193, 163, 39, 161, 51], [248, 205, 168, 51, 244, 137, 119, 225, 163, 12]], [[136, 99, 76, 248, 140, 26, 0, 230, 7, 43]], [[175, 133, 227, 9, 73, 34, 99, 69, 39, 113]], [[18, 35, 5, 197, 258, 278, 146, 148, 106, 49], [93, 205, 212, 220, 40, 194, 152, 12, 97, 184]], [[103, 88, 161, 130, 193, 192, 225, 163, 132, 31], [193, 161, 103, 225, 239, 51, 29, 88, 192, 163]], [[227, 218, 57, 37, 248, 173, 99, 110, 133, 153], [218, 26, 110, 227, 37, 9, 133, 248, 99, 71]], [[219, 179, 216, 240, 238, 34, 153, 10, 126, 57]], [[224, 35, 85, 151, 226, 272, 68, 191, 47, 146]], [[28, 218, 133, 121, 160, 244, 9, 26, 37, 81]], [[12, 200, 137, 104, 105, 150, 51, 29, 225, 174]], [[130, 132, 88, 103, 57, 281, 225, 196, 286, 133], [37, 110, 9, 244, 121, 207, 34, 242, 238, 174]], [[163, 51, 29, 239, 135, 137, 225, 161, 103, 168]], [[189, 5, 42, 183, 118, 150, 95, 20, 188, 47]], [[25, 42, 104, 95, 150, 191, 20, 152, 225, 137]], [[5, 232, 58, 35, 150, 176, 68, 234, 280, 95]], [[23, 205, 137, 70, 271, 79, 126, 248, 119, 64]], [[187, 205, 244, 241, 184, 218, 211, 12, 137, 150]], [[110, 57, 271, 225, 187, 241, 242, 160, 218, 244]], [[18, 52, 209, 108, 5, 36, 165, 20, 68, 278]], [[9, 121, 173, 71, 231, 26, 37, 139, 190, 230]], [[46, 32, 162, 57, 34, 240, 133, 157, 187, 128]], [[170, 225, 286, 46, 174, 146, 271, 241, 187, 103]], [[258, 21, 35, 197, 49, 278, 274, 11, 106, 18]], [[199, 173, 231, 180, 9, 240, 123, 73, 133, 121], [34, 146, 162, 46, 57, 197, 216, 217, 126, 187]], [[203, 271, 187, 205, 137, 225, 12, 200, 168, 150]]]\n",
      "\n"
     ]
    }
   ],
   "source": [
    "hists_bbdd_RGB = get_all_hists(bbdd, levels = 3, bins = 16, dim = \"3\", color = \"RGB\", masks = None)\n",
    "result_k10 = task6(qst2_w2, hists_bbdd_RGB, dim=\"3\", color =\" RGB\", bins = 16, method = \"Histogram_Intersection\", topK = 10)\n",
    "\n",
    "# Write and Load results\n",
    "path = \"./QST2/method2/\"\n",
    "name = \"result.pkl\"\n",
    "\n",
    "if not os.path.exists(path):\n",
    "    os.makedirs(path)\n",
    "\n",
    "filename = os.path.join(path, name)\n",
    "with open(filename, 'wb') as f:\n",
    "    pickle.dump(result_k10, f)\n",
    "\n",
    "with open(filename, 'rb') as f:\n",
    "    saved_res = pickle.load(f)\n",
    "\n",
    "print(\"Results for Method 2: \\n{}\\n\".format(saved_res))"
   ]
  },
  {
   "cell_type": "code",
   "execution_count": null,
   "id": "834b47d2-6146-478a-864c-f87da999ad55",
   "metadata": {},
   "outputs": [],
   "source": []
  },
  {
   "cell_type": "code",
   "execution_count": 49,
   "id": "5fccfd99",
   "metadata": {},
   "outputs": [],
   "source": [
    "def total_masks(qs, path = None, return_tls_brs = False):\n",
    "    \n",
    "    masks_total = dict()\n",
    "    \n",
    "    all_tls_and_brs = []\n",
    "    \n",
    "    for name, img in qs.items():\n",
    "        \n",
    "        tls_and_brs, full_mask = divide_paintings(img)\n",
    "        \n",
    "        picture_tls_and_brs = []\n",
    "        \n",
    "        picture_results = []\n",
    "        for painting_tl_and_br in tls_and_brs:\n",
    "            # we are going to crop the picture to get each painting\n",
    "            painting = img[painting_tl_and_br[1] : painting_tl_and_br[3]+1, painting_tl_and_br[0] : painting_tl_and_br[2]+1]\n",
    "            \n",
    "            # we have to mask the text boxes\n",
    "            not_rect_mask = get_name_boxs(painting)\n",
    "            tl, br = get_tl_and_br(not_rect_mask)\n",
    "            tr = (br[0], tl[1])\n",
    "            bl = (tl[0], br[1])\n",
    "            rect_mask = np.zeros((painting.shape[0], painting.shape[1]), dtype = np.uint8)\n",
    "            roi_corners = np.array([tl, tr, br, bl], dtype = np.int32)\n",
    "            cv2.fillPoly(rect_mask, [roi_corners], 255)\n",
    "            \n",
    "            if return_tls_brs:\n",
    "                picture_tls_and_brs.append([tl[0] + painting_tl_and_br[0],\n",
    "                                            tl[1] + painting_tl_and_br[1],\n",
    "                                            br[0] + painting_tl_and_br[0],\n",
    "                                            br[1] + painting_tl_and_br[1]] )\n",
    "            \n",
    "            # we have to invert the text box mask\n",
    "            rect_mask = (255 - rect_mask)\n",
    "            \n",
    "            full_mask[painting_tl_and_br[1] : painting_tl_and_br[3]+1, painting_tl_and_br[0] : painting_tl_and_br[2]+1] = rect_mask\n",
    "            \n",
    "        if return_tls_brs:\n",
    "            all_tls_and_brs.append(picture_tls_and_brs)\n",
    "        \n",
    "        masks_total[name] = full_mask\n",
    "            \n",
    "        if path:\n",
    "            if not os.path.exists(path):\n",
    "                os.makedirs(path)\n",
    "                \n",
    "            filename = os.path.join(path, name + \".png\")\n",
    "            cv2.imwrite(filename, full_mask)\n",
    "    \n",
    "    if return_tls_brs:\n",
    "        return masks_total, all_tls_and_brs\n",
    "    else:\n",
    "        return masks_total"
   ]
  },
  {
   "cell_type": "code",
   "execution_count": null,
   "id": "536319c6",
   "metadata": {},
   "outputs": [],
   "source": []
  },
  {
   "cell_type": "markdown",
   "id": "0c32effa",
   "metadata": {},
   "source": [
    "### Get the text boxes' tl and br for each painting and save masks"
   ]
  },
  {
   "cell_type": "code",
   "execution_count": 82,
   "id": "37a5ff7c",
   "metadata": {
    "scrolled": true
   },
   "outputs": [
    {
     "name": "stdout",
     "output_type": "stream",
     "text": [
      "Results for Method 2: \n",
      "[[[117, 191, 290, 230], [735, 94, 1234, 615]], [[628, 226, 1237, 365]], [[356, 845, 629, 898]], [[623, 1899, 1185, 2012]], [[559, 178, 1130, 339]], [[678, 1375, 1261, 1481], [2766, 149, 3370, 263]], [[181, 594, 482, 637]], [[209, 440, 550, 568]], [[118, 99, 328, 108], [562, 339, 742, 385]], [[315, 103, 1551, 2312], [2354, 252, 2945, 378]], [[792, 93, 1162, 173], [2828, 585, 3386, 702]], [[303, 123, 555, 266]], [[211, 162, 288, 169]], [[220, 184, 326, 262]], [[154, 105, 506, 177]], [[603, 85, 876, 172], [1337, 137, 1956, 679]], [[557, 213, 1147, 348]], [[132, 528, 402, 585]], [[744, 152, 910, 341]], [[125, 98, 461, 604]], [[699, 112, 1042, 256]], [[710, 156, 919, 183]], [[770, 1396, 1333, 1507]], [[124, 137, 326, 177]], [[145, 103, 417, 578]], [[158, 124, 439, 189]], [[389, 1214, 995, 1339]], [[212, 150, 505, 227]], [[166, 273, 498, 497], [1038, 199, 1065, 233]], [[176, 140, 493, 194]]]\n",
      "\n"
     ]
    }
   ],
   "source": [
    "PATH_TO_SAVE_MASKS = \"./QST2/full_masks_qst2\"\n",
    "PATH_TO_SAVE_TB = \"./QST2/text_boxes.pkl\"\n",
    "\n",
    "full_masks_qst2, tls_and_brs_qst2 = total_masks(qst2_w2, path = PATH_TO_SAVE_MASKS, return_tls_brs = True)\n",
    "\n",
    "with open(PATH_TO_SAVE_TB, 'wb') as f:\n",
    "    pickle.dump(tls_and_brs_qst2, f)\n",
    "    \n",
    "with open(PATH_TO_SAVE_TB, 'rb') as f:\n",
    "    saved_tls_brs_qst2 = pickle.load(f)\n",
    "\n",
    "print(\"Text boxs cords: \\n{}\\n\".format(saved_tls_brs_qst2))"
   ]
  },
  {
   "cell_type": "code",
   "execution_count": null,
   "id": "00084a82",
   "metadata": {},
   "outputs": [],
   "source": []
  },
  {
   "cell_type": "markdown",
   "id": "1bcf20d8",
   "metadata": {},
   "source": [
    "### If we would want to compare the full masks and get the different scores"
   ]
  },
  {
   "cell_type": "code",
   "execution_count": null,
   "id": "a3f61da6",
   "metadata": {},
   "outputs": [],
   "source": [
    "def compare_mask (gt_masks_dict, pred_masks_dict): \n",
    "        all_results = dict()\n",
    "        for name, mask in gt_masks_dict.items():\n",
    "                \n",
    "                predicted_mask = pred_masks_dict[name]\n",
    "\n",
    "                tp  = ((mask == 255) & (predicted_mask == 255)).sum()\n",
    "\n",
    "                fn = ((mask == 255) & (predicted_mask == 0)).sum()\n",
    "\n",
    "                fp = ((mask == 0) & (predicted_mask == 255)).sum()\n",
    "\n",
    "                tn = ((mask == 0) & (predicted_mask == 0)).sum()\n",
    "\n",
    "                #print(f\"True Positives: {tp}  ,  False Negatives: {fn}  , False Positives: {fp}  ,  True Negatives: {tn}\")\n",
    "                #print(f\"Total number of pixels: {tp + fn + fp + tn}\")\n",
    "\n",
    "                # Compute precision, recall and F1\n",
    "                precision = tp / (tp + fp)\n",
    "                recall = tp / (tp + fn)\n",
    "                f1 = 2 * precision * recall / (precision + recall) \n",
    "                #print(f\"Precision: {precision} , Recall: {recall} , F1: {f1}\")\n",
    "\n",
    "                #print()\n",
    "                #print()\n",
    "\n",
    "\n",
    "                result = {\"precision\": precision, \"recall\": recall, \"f1\": f1}\n",
    "                all_results[name] = result\n",
    "\n",
    "        dataframe = pd.DataFrame.from_dict(all_results)\n",
    "        return all_results, dataframe"
   ]
  },
  {
   "cell_type": "code",
   "execution_count": null,
   "id": "3a0d546a",
   "metadata": {},
   "outputs": [],
   "source": [
    "def get_tb_dict(tb, ds, qsd):\n",
    "    i = 0\n",
    "    \n",
    "    result = dict()\n",
    "    \n",
    "    for k, v in ds.items():\n",
    "        name = str(i).zfill(5)\n",
    "        \n",
    "        inner_dict = dict()\n",
    "\n",
    "        size = tuple([v.shape[0], v.shape[1]])\n",
    "        mask = np.zeros((size[0], size[1]), dtype=np.uint8)\n",
    "        roi_corners = []\n",
    "        \n",
    "        for txt_box in tb[i]:  \n",
    "            if qsd == 1: # QSD1\n",
    "                tl = tuple(txt_box[0][:])\n",
    "                bl = tuple(txt_box[1][:])\n",
    "                br = tuple(txt_box[2][:])\n",
    "                tr = tuple(txt_box[3][:])\n",
    "                roi_corners = np.array([tl, tr, br, bl], dtype=np.int32)\n",
    "                cv2.fillPoly(mask, [roi_corners], 255)\n",
    "            else: # QSD2\n",
    "                if txt_box[:2][-1] > txt_box[2:][-1]:\n",
    "                    tl = tuple(txt_box[:2]) \n",
    "                    br = tuple(txt_box[2:])\n",
    "                else:\n",
    "                    tl = tuple(txt_box[2:])\n",
    "                    br = tuple(txt_box[:2]) \n",
    "                cv2.rectangle(mask, tl, br, 255, thickness=cv2.FILLED)\n",
    "\n",
    "        result[name] = mask\n",
    "        \n",
    "        i+=1\n",
    "        \n",
    "    return result"
   ]
  },
  {
   "cell_type": "code",
   "execution_count": null,
   "id": "00abf44a",
   "metadata": {},
   "outputs": [],
   "source": []
  }
 ],
 "metadata": {
  "kernelspec": {
   "display_name": "Python 3 (ipykernel)",
   "language": "python",
   "name": "python3"
  },
  "language_info": {
   "codemirror_mode": {
    "name": "ipython",
    "version": 3
   },
   "file_extension": ".py",
   "mimetype": "text/x-python",
   "name": "python",
   "nbconvert_exporter": "python",
   "pygments_lexer": "ipython3",
   "version": "3.11.5"
  }
 },
 "nbformat": 4,
 "nbformat_minor": 5
}
